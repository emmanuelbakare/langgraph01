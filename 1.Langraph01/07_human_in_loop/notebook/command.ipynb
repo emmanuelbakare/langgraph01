{
 "cells": [
  {
   "cell_type": "markdown",
   "id": "7e10e3ce-6035-4d36-84ea-1450a3c350b5",
   "metadata": {},
   "source": [
    "# Linking node with Command and goto"
   ]
  },
  {
   "cell_type": "code",
   "execution_count": 13,
   "id": "7004e55d-794d-421c-a4bb-b9bea217ee5a",
   "metadata": {},
   "outputs": [],
   "source": [
    "from langgraph.graph import StateGraph, END, START\n",
    "from langgraph.types import Command\n",
    "from typing import TypedDict\n",
    "\n",
    "class AgentState(TypedDict):\n",
    "    text: str \n",
    "\n",
    "\n",
    "\n",
    "\n"
   ]
  },
  {
   "cell_type": "markdown",
   "id": "71783780-2c9d-46dd-a157-c25d2e09a7db",
   "metadata": {},
   "source": [
    "### Create nodes and use goto to point from one node to the other"
   ]
  },
  {
   "cell_type": "code",
   "execution_count": null,
   "id": "62ecd95e-e4c7-4d08-bab1-2176efbfefb8",
   "metadata": {},
   "outputs": [],
   "source": [
    "def node_a(state:AgentState):\n",
    "    print(\"In node A\")\n",
    "    return Command( # this updates the state dictionary\n",
    "        goto=\"node_b\",\n",
    "        update={\n",
    "            \"text\" : state['text'] + \"a\"\n",
    "        }\n",
    "    )\n",
    "\n",
    "def node_b(state:AgentState):\n",
    "    print(\"In Node B\")\n",
    "    return Command(\n",
    "        goto=\"node_c\",\n",
    "        update={\n",
    "            \"text\": state['text'] + \"b\"\n",
    "        }\n",
    "    )\n",
    "\n",
    "def node_c(state:AgentState):\n",
    "    print(\"In Node C\")\n",
    "\n",
    "    return Command(\n",
    "        goto=END,\n",
    "        update={\n",
    "            \"text\":state['text'] + \"c\"\n",
    "        \n",
    "        }\n",
    "    )"
   ]
  },
  {
   "cell_type": "code",
   "execution_count": 12,
   "id": "41205c5e-b0d7-447c-966c-c932d2537202",
   "metadata": {},
   "outputs": [],
   "source": [
    "graph = StateGraph(AgentState)\n",
    "graph.add_node(\"node_a\", node_a)\n",
    "graph.add_node(\"node_b\", node_b)\n",
    "graph.add_node(\"node_c\", node_c)\n",
    "# graph.add_edge(START,\"node_a\")\n",
    "graph.set_entry_point(\"node_a\")\n",
    "app  = graph.compile()"
   ]
  },
  {
   "cell_type": "code",
   "execution_count": 9,
   "id": "ed8a941d-e70f-4545-b666-68939ac17bce",
   "metadata": {},
   "outputs": [
    {
     "data": {
      "image/png": "[encoded data removed]",
      "text/plain": [
       "<langgraph.graph.state.CompiledStateGraph object at 0x0000019C072B7B80>"
      ]
     },
     "execution_count": 9,
     "metadata": {},
     "output_type": "execute_result"
    }
   ],
   "source": [
    "app"
   ]
  },
  {
   "cell_type": "code",
   "execution_count": 10,
   "id": "21c26f81-225e-4843-a3fa-7eb6256ac20b",
   "metadata": {},
   "outputs": [
    {
     "name": "stdout",
     "output_type": "stream",
     "text": [
      "In node A\n",
      "In Node B\n",
      "In Node C\n"
     ]
    },
    {
     "data": {
      "text/plain": [
       "{'text': 'helloabc'}"
      ]
     },
     "execution_count": 10,
     "metadata": {},
     "output_type": "execute_result"
    }
   ],
   "source": [
    "app.invoke({ \"text\":\"hello\"})"
   ]
  },
  {
   "cell_type": "code",
   "execution_count": null,
   "id": "40e81151-0a12-4d9a-a070-7c586c3712e1",
   "metadata": {},
   "outputs": [],
   "source": []
  }
 ],
 "metadata": {
  "kernelspec": {
   "display_name": "Python (AIenv)",
   "language": "python",
   "name": "aienv"
  },
  "language_info": {
   "codemirror_mode": {
    "name": "ipython",
    "version": 3
   },
   "file_extension": ".py",
   "mimetype": "text/x-python",
   "name": "python",
   "nbconvert_exporter": "python",
   "pygments_lexer": "ipython3",
   "version": "3.10.10"
  }
 },
 "nbformat": 4,
 "nbformat_minor": 5
}
