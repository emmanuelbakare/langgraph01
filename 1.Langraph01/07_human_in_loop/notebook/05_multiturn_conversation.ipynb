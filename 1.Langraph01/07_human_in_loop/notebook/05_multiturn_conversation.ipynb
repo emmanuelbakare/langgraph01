{
 "cells": [
  {
   "cell_type": "markdown",
   "id": "87212993-ec98-4027-a465-69cc208924ef",
   "metadata": {},
   "source": [
    "# Multiturn Conversation using Interrupt"
   ]
  },
  {
   "cell_type": "code",
   "execution_count": 3,
   "id": "f3f99bef-3b38-4ddf-ab6f-a71cef42bc15",
   "metadata": {},
   "outputs": [],
   "source": [
    "from langgraph.graph import add_messages, StateGraph, END, START\n",
    "from langgraph.types import Command, interrupt\n",
    "from typing import TypedDict, Annotated, List\n",
    "from langgraph.checkpoint.memory import MemorySaver\n",
    "from langchain_core.messages import HumanMessage, AIMessage, SystemMessage\n",
    "from langchain_groq import ChatGroq\n",
    "import uuid\n",
    "from dotenv import load_dotenv\n",
    "\n",
    "load_dotenv()\n",
    " "
   ]
  },
  {
   "cell_type": "code",
   "execution_count": 4,
   "id": "b4859d2b-424f-489d-9e03-d54093bddbb7",
   "metadata": {},
   "outputs": [],
   "source": [
    "llm = ChatGroq(model=\"llama3-70b-8192\")\n",
    "\n",
    "class State(TypedDict):\n",
    "    linkedin_topic: str\n",
    "    generated_post: Annotated[List[str], add_messages]\n",
    "    human_feedback: Annotated[List[str], add_messages]"
   ]
  },
  {
   "cell_type": "code",
   "execution_count": 5,
   "id": "45f88955-314e-4152-a40c-f185f207ecaf",
   "metadata": {},
   "outputs": [],
   "source": [
    "def model(state:State):\n",
    "    \"\"\" Here' we're using the LLM to generate a LinkedIn post with human feedback incorporated\"\"\"\n",
    "\n",
    "    print(\"[model] Genering Content\")\n",
    "    linkedin_topic = state[\"linkedin_topic\"]\n",
    "    feedback = state[\"human_feedback\"] if \"human_feedback\" in state else [\"No Feedback yet\"]\n",
    "\n",
    "    # \"Here, we define the prompt\"\n",
    "    \n",
    "    prompt= f\"\"\"\n",
    "LinkedIn Topic : {linkedin_topic}\n",
    "Human Feeback: {feedback[-1] if feedback else \"no feedback yet\"} \n",
    "Generate a structured and well-written LinkedIn post based on the given topic.\n",
    "\n",
    "Consider previous human feedback t refine the response\n",
    "\"\"\"\n",
    "\n",
    "    response = llm.invoke([\n",
    "        SystemMessage(content=\"you are an expert LinkedIn content writer\"),\n",
    "        HumanMessage(content=prompt)\n",
    "    ])\n",
    "\n",
    "    generated_linkedin_post= response.content\n",
    "\n",
    "    print(f\"[model_node] Generated post: \\n {generated_linkedin_post }\")\n",
    "\n",
    "    return {\n",
    "        \"generated_post\":[AIMessage(content=generated_linkedin_post)],\n",
    "        \"human_feedback\": feedback\n",
    "    }"
   ]
  },
  {
   "cell_type": "code",
   "execution_count": 6,
   "id": "659b9f0a-087b-4786-9a0b-74fc55903c86",
   "metadata": {},
   "outputs": [],
   "source": [
    "def human_node(state:State):\n",
    "    \"\"\" Human Intervention node - loops back to model unless input is done\"\"\"\n",
    "\n",
    "    print(\"\\n [human_node] awaiting human feedback...\")\n",
    "\n",
    "    generated_post = state['generated_post']\n",
    "\n",
    "    #Interrupt to get user feeback\n",
    "\n",
    "    user_feedback = interrupt(\n",
    "        {\n",
    "            \"generated_post\": generated_post,\n",
    "            \"message\":\"Provide feedback or type 'done' to finish    \"\n",
    "        }\n",
    "    )\n",
    "\n",
    "    print(f\"[human_node] Retrieve human feeback: {user_feedback}\")\n",
    "\n",
    "    #if user types \"done\", transition to END node \n",
    "    if user_feedback.lower()==\"done\":\n",
    "        return Command(\n",
    "            update={\"human_feedback\":state[\"human_feedback\"]},\n",
    "            goto = \"end_node\"\n",
    "        )\n",
    "    \n",
    "    #otherwise, feedback and return to model for re-generation\n",
    "    return Command(\n",
    "        update={\"human_feedback\":state['human_feedback'] + [user_feedback]},\n",
    "        goto =\"model\"\n",
    "    )"
   ]
  },
  {
   "cell_type": "code",
   "execution_count": 7,
   "id": "b922ab63-e584-4d90-bb7e-409c6c84c75f",
   "metadata": {},
   "outputs": [],
   "source": [
    "def end_node(state:State):\n",
    "    \"\"\"Final node\"\"\"\n",
    "\n",
    "    print(\"\\n [end_node] process finished\")\n",
    "    print(\"Final Generated Post:\", state[\"generated_post\"][-1])\n",
    "    print(\"Final Human Feedback\",state[\"human_feedback\"])\n",
    "    return {\n",
    "        \"generated_post\": state[\"generated_post\"],\n",
    "        \"human_feedback\": state[\"human_feedback\"]\n",
    "    }"
   ]
  },
  {
   "cell_type": "code",
   "execution_count": 8,
   "id": "efd291ea-4264-459c-bcf8-3feef1f74fa1",
   "metadata": {},
   "outputs": [],
   "source": [
    "graph = StateGraph(State)\n",
    "\n",
    "graph.add_node(\"model\", model)\n",
    "graph.add_node(\"human_node\", human_node)\n",
    "graph.add_node(\"end_node\", end_node)\n",
    "\n",
    "# Defin the flow\n",
    "\n",
    "graph.add_edge(START, \"model\")\n",
    "graph.add_edge(\"model\", \"human_node\")\n",
    "graph.add_edge(\"end_node\", END)\n",
    "\n",
    "#Enable Interrupt mechanism\n",
    "checkpointer=MemorySaver()\n",
    "app = graph.compile(checkpointer=checkpointer)\n",
    "\n",
    "thread_config = {\"configurable\":{\n",
    "    \"thread_id\": uuid.uuid4()\n",
    "}}"
   ]
  },
  {
   "cell_type": "code",
   "execution_count": 11,
   "id": "00dfaf05-5ed3-420c-87da-5cd2b9fc8af0",
   "metadata": {},
   "outputs": [
    {
     "data": {
      "image/png": "[encoded data removed]",
      "text/plain": [
       "<langgraph.graph.state.CompiledStateGraph object at 0x000001B2B1A7E590>"
      ]
     },
     "execution_count": 11,
     "metadata": {},
     "output_type": "execute_result"
    }
   ],
   "source": [
    "app"
   ]
  },
  {
   "cell_type": "code",
   "execution_count": 9,
   "id": "7970caec-769c-4efe-9aa4-101dc802f245",
   "metadata": {},
   "outputs": [
    {
     "name": "stdin",
     "output_type": "stream",
     "text": [
      "Enter your LinkedIn topic:  sss\n"
     ]
    }
   ],
   "source": [
    "linkedin_topic = input(\"Enter your LinkedIn topic: \")\n",
    "\n",
    "initial_state = {\n",
    "    \"linkedin_topic\": linkedin_topic,\n",
    "    \"generated_post\": [],\n",
    "    \"human_feedback\": []\n",
    "}"
   ]
  },
  {
   "cell_type": "code",
   "execution_count": 10,
   "id": "2bb7ba90-fc42-414f-abcc-8904d8970ebd",
   "metadata": {},
   "outputs": [
    {
     "name": "stdout",
     "output_type": "stream",
     "text": [
      "[model] Genering Content\n",
      "[model_node] Generated post: \n",
      " I'm happy to help! However, I noticed that the topic \"sss\" seems to be incomplete or unclear. Could you please provide more context or clarify what you mean by \"sss\"? \n",
      "\n",
      "If you meant to ask about creating a post on Social Security Systems (SSS), I can try to assist you with that. Here's a sample post:\n",
      "\n",
      "**Title:** The Importance of Social Security Systems in Today's Economy\n",
      "\n",
      "**Post:**\n",
      "\n",
      "As we navigate the complexities of modern economics, one crucial aspect often overlooked is the role of Social Security Systems (SSS). These systems serve as a safety net for individuals, providing financial assistance during times of need, such as retirement, disability, or unemployment.\n",
      "\n",
      "But did you know that SSS also plays a vital role in stabilizing the economy? By redistributing wealth and providing a basic income guarantee, SSS helps to:\n",
      "\n",
      "Reduce poverty and income inequality\n",
      "Increase consumer spending, which boosts economic growth\n",
      "Support vulnerable populations, such as the elderly and those with disabilities\n",
      "\n",
      "In today's economy, where uncertainty and volatility are the norm, SSS provides a much-needed layer of security and stability. It's essential for policymakers, business leaders, and individuals to understand the significance of SSS and work together to strengthen these systems.\n",
      "\n",
      "**What are your thoughts on the importance of Social Security Systems? Share your insights in the comments below!**\n",
      "\n",
      "Feel free to modify or provide more context, and I'll be happy to refine the post based on your feedback!\n",
      "\n",
      " [human_node] awaiting human feedback...\n"
     ]
    },
    {
     "name": "stdin",
     "output_type": "stream",
     "text": [
      "Provide feedback (or type 'done' when finished):  done\n"
     ]
    },
    {
     "name": "stdout",
     "output_type": "stream",
     "text": [
      "\n",
      " [human_node] awaiting human feedback...\n",
      "[human_node] Retrieve human feeback: done\n",
      "\n",
      " [end_node] process finished\n",
      "Final Generated Post: content='I\\'m happy to help! However, I noticed that the topic \"sss\" seems to be incomplete or unclear. Could you please provide more context or clarify what you mean by \"sss\"? \\n\\nIf you meant to ask about creating a post on Social Security Systems (SSS), I can try to assist you with that. Here\\'s a sample post:\\n\\n**Title:** The Importance of Social Security Systems in Today\\'s Economy\\n\\n**Post:**\\n\\nAs we navigate the complexities of modern economics, one crucial aspect often overlooked is the role of Social Security Systems (SSS). These systems serve as a safety net for individuals, providing financial assistance during times of need, such as retirement, disability, or unemployment.\\n\\nBut did you know that SSS also plays a vital role in stabilizing the economy? By redistributing wealth and providing a basic income guarantee, SSS helps to:\\n\\nReduce poverty and income inequality\\nIncrease consumer spending, which boosts economic growth\\nSupport vulnerable populations, such as the elderly and those with disabilities\\n\\nIn today\\'s economy, where uncertainty and volatility are the norm, SSS provides a much-needed layer of security and stability. It\\'s essential for policymakers, business leaders, and individuals to understand the significance of SSS and work together to strengthen these systems.\\n\\n**What are your thoughts on the importance of Social Security Systems? Share your insights in the comments below!**\\n\\nFeel free to modify or provide more context, and I\\'ll be happy to refine the post based on your feedback!' additional_kwargs={} response_metadata={} id='fa8a03b6-7203-4c07-ab0b-66b596646a9b'\n",
      "Final Human Feedback []\n"
     ]
    }
   ],
   "source": [
    "for chunk in app.stream(initial_state, config=thread_config):\n",
    "    for node_id, value in chunk.items():\n",
    "        # if we reach an interrupt, continously ask for human feedback\n",
    "\n",
    "        if(node_id==\"__interrupt__\"):\n",
    "            while True:\n",
    "                user_feedback = input(\"Provide feedback (or type 'done' when finished): \")\n",
    "\n",
    "                # resume the graph executioin with the user's feedback\n",
    "                app.invoke(\n",
    "                    Command(resume=user_feedback),\n",
    "                    config=thread_config\n",
    "                )\n",
    "\n",
    "                # Exit loop if user says done\n",
    "                if user_feedback.lower() == \"done\":\n",
    "                    break\n"
   ]
  },
  {
   "cell_type": "code",
   "execution_count": null,
   "id": "548241c0-16cf-48e3-b763-c58020d18a76",
   "metadata": {},
   "outputs": [],
   "source": []
  }
 ],
 "metadata": {
  "kernelspec": {
   "display_name": "Python (AIenv)",
   "language": "python",
   "name": "aienv"
  },
  "language_info": {
   "codemirror_mode": {
    "name": "ipython",
    "version": 3
   },
   "file_extension": ".py",
   "mimetype": "text/x-python",
   "name": "python",
   "nbconvert_exporter": "python",
   "pygments_lexer": "ipython3",
   "version": "3.10.10"
  }
 },
 "nbformat": 4,
 "nbformat_minor": 5
}
