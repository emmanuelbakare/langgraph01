{
 "cells": [
  {
   "cell_type": "markdown",
   "id": "6d810dd7-9126-4bd9-bd4c-2bd49b6f8667",
   "metadata": {},
   "source": [
    "# Human in the Loop Example 01"
   ]
  },
  {
   "cell_type": "code",
   "execution_count": 60,
   "id": "2b07b6b8-aa2c-45f1-a099-fa3455f13630",
   "metadata": {},
   "outputs": [],
   "source": [
    "from typing import TypedDict, Annotated\n",
    "from langgraph.graph import add_messages, StateGraph, END\n",
    "from langchain_groq import ChatGroq\n",
    "from langchain_core.messages import HumanMessage, SystemMessage \n",
    "from IPython.display import display, Markdown\n",
    "from dotenv import load_dotenv\n",
    "\n",
    "\n",
    "load_dotenv()\n",
    "\n",
    "llm = ChatGroq(model=\"llama3-70b-8192\") "
   ]
  },
  {
   "cell_type": "code",
   "execution_count": 61,
   "id": "1fc76a60-1bc1-42a6-b232-3905eecf5ed0",
   "metadata": {},
   "outputs": [],
   "source": [
    "class AgentState(TypedDict):\n",
    "    messages: Annotated[list, add_messages]"
   ]
  },
  {
   "cell_type": "markdown",
   "id": "f9cdbe99-d8d8-45fa-b787-ac798a5be478",
   "metadata": {},
   "source": [
    "### Create all the nodes"
   ]
  },
  {
   "cell_type": "code",
   "execution_count": 62,
   "id": "8ecb0b6b-efbe-464f-af96-6f2b41e52987",
   "metadata": {},
   "outputs": [],
   "source": [
    "GENERATE_POST = \"generate_post\"\n",
    "POST = \"post\"\n",
    "GET_REVIEW_DECISION = \"get_review_decision\"\n",
    "COLLECT_FEEDBACK = \"collect_feedback\"\n",
    "\n",
    "sys_msg=\"Output only the response. Do not add a prefix or suffix description to the output, output your response in markdown format\"\n",
    "system_message=SystemMessage(content=sys_msg)\n",
    "\n",
    "def generate_post(state:AgentState)->AgentState:\n",
    "    return {\n",
    "        # \"messages\":[system_message, llm.invoke(state['messages'])]\n",
    "        \"messages\":[system_message, llm.invoke(state['messages']+[sys_msg])]\n",
    "    }\n",
    "\n",
    "def get_review_decision(state:AgentState)->str:\n",
    "    post_content = state['messages'][-1].content\n",
    "\n",
    "    print(f\"\\n Current LinkedIn Post\\n{post_content}\\n\")\n",
    "\n",
    "    decision = input(\"Post to LinkedIn (yes/no): \")\n",
    "\n",
    "    if(decision.lower()==\"yes\"):\n",
    "        return \"post\"\n",
    "    return \"feedback\"\n",
    "\n",
    "def post(state:AgentState):\n",
    "    final_post = state['messages'][-1].content\n",
    "\n",
    "    display(Markdown(\"## Final Output\"))\n",
    "    display(Markdown(f\"{final_post}\"))\n",
    "    # print(f\"\\nFinal LinkedIn Post\\n {final_post}\")\n",
    "    # print(\"\\n Post have been approved and is now live on LinkedIn\")\n",
    "\n",
    "\n",
    "\n",
    "def collect_feedback(state:AgentState)->AgentState:\n",
    "    feedback = input(\"How can I improve this post? \")\n",
    "    return {\n",
    "        \"messages\":[HumanMessage(content=feedback)]\n",
    "    }"
   ]
  },
  {
   "cell_type": "markdown",
   "id": "593dd1a3-424c-40fa-b69e-daaef75ba329",
   "metadata": {},
   "source": [
    "### Create The Graph Node and edges"
   ]
  },
  {
   "cell_type": "code",
   "execution_count": 63,
   "id": "bbdb282b-bb69-4942-8ac3-b6636a8a4814",
   "metadata": {},
   "outputs": [],
   "source": [
    "graph = StateGraph(AgentState)\n",
    "\n",
    "graph.add_node(GENERATE_POST, generate_post)\n",
    "# graph.add_node(GET_REVIEW_DECISION, get_review_decision)\n",
    "graph.add_node(COLLECT_FEEDBACK, collect_feedback)\n",
    "graph.add_node(POST, post)\n",
    "\n",
    "graph.set_entry_point(GENERATE_POST)\n",
    "graph.add_conditional_edges(GENERATE_POST, \n",
    "                            get_review_decision,\n",
    "                           {\n",
    "                               \"post\":POST,\n",
    "                               \"feedback\": COLLECT_FEEDBACK,\n",
    "                           })\n",
    "graph.add_edge(POST, END)\n",
    "graph.add_edge(COLLECT_FEEDBACK, GENERATE_POST)\n",
    "\n",
    "app = graph.compile() "
   ]
  },
  {
   "cell_type": "code",
   "execution_count": 64,
   "id": "1c86d3e3-2d6c-4291-99e4-b53f4abac626",
   "metadata": {},
   "outputs": [
    {
     "data": {
      "image/png": "[encoded data removed]",
      "text/plain": [
       "<langgraph.graph.state.CompiledStateGraph object at 0x000002B5EB83AB60>"
      ]
     },
     "execution_count": 64,
     "metadata": {},
     "output_type": "execute_result"
    }
   ],
   "source": [
    "app"
   ]
  },
  {
   "cell_type": "code",
   "execution_count": 65,
   "id": "f0ff29c1-0d3a-4536-824a-dadf02180a33",
   "metadata": {},
   "outputs": [
    {
     "name": "stdout",
     "output_type": "stream",
     "text": [
      "\n",
      " Current LinkedIn Post\n",
      "The Future of Content Creation: AI Agents Take the Reins\n",
      "=====================================================\n",
      "\n",
      "As I reflect on the rapid advancements in artificial intelligence, I'm left wondering: are we on the cusp of a revolution in content creation? The answer, in my opinion, is a resounding yes.\n",
      "\n",
      "AI agents are increasingly capable of producing high-quality content that rivals human creation. From blog posts to social media updates, these intelligent machines are learning to craft compelling narratives, optimized for engagement and conversion.\n",
      "\n",
      "The implications are profound. With AI agents taking over content creation, businesses can:\n",
      "\n",
      "* **Scale content production**: Meet the insatiable demand for fresh, relevant content without breaking the bank or exhausting human resources.\n",
      "* **Personalize at scale**: AI agents can tailor content to individual preferences, interests, and behaviors, driving deeper connections with audiences.\n",
      "* **Optimize for ROI**: AI-driven content can be continuously refined and improved based on performance data, ensuring maximum return on investment.\n",
      "\n",
      "But what does this mean for human content creators? Will we be replaced by machines? I don't think so. AI agents will augment our capabilities, freeing us to focus on high-level strategy, creativity, and emotional intelligence – the aspects of content creation that machines can't replicate.\n",
      "\n",
      "The future of content creation is a collaboration between humans and AI agents. It's an exciting time, full of opportunities and challenges. Let's harness the power of AI to elevate our craft and create content that truly resonates with our audiences.\n",
      "\n",
      "What are your thoughts on AI-powered content creation? Share your insights and concerns in the comments below!\n",
      "\n",
      "#AI #ContentCreation #FutureOfWork #MarketingInnovation\n",
      "\n"
     ]
    },
    {
     "name": "stdin",
     "output_type": "stream",
     "text": [
      "Post to LinkedIn (yes/no):  no\n",
      "How can I improve this post?  add content about earnings\n"
     ]
    },
    {
     "name": "stdout",
     "output_type": "stream",
     "text": [
      "\n",
      " Current LinkedIn Post\n",
      "The Future of Content Creation: AI Agents Take the Reins\n",
      "=====================================================\n",
      "\n",
      "As I reflect on the rapid advancements in artificial intelligence, I'm left wondering: are we on the cusp of a revolution in content creation? The answer, in my opinion, is a resounding yes.\n",
      "\n",
      "AI agents are increasingly capable of producing high-quality content that rivals human creation. From blog posts to social media updates, these intelligent machines are learning to craft compelling narratives, optimized for engagement and conversion.\n",
      "\n",
      "The implications are profound. With AI agents taking over content creation, businesses can:\n",
      "\n",
      "* **Scale content production**: Meet the insatiable demand for fresh, relevant content without breaking the bank or exhausting human resources.\n",
      "* **Personalize at scale**: AI agents can tailor content to individual preferences, interests, and behaviors, driving deeper connections with audiences.\n",
      "* **Optimize for ROI**: AI-driven content can be continuously refined and improved based on performance data, ensuring maximum return on investment.\n",
      "\n",
      "But what does this mean for human content creators? Will we be replaced by machines? I don't think so. AI agents will augment our capabilities, freeing us to focus on high-level strategy, creativity, and emotional intelligence – the aspects of content creation that machines can't replicate.\n",
      "\n",
      "And let's not forget about the earning potential. With AI agents taking over the more mundane tasks, human content creators can focus on high-value tasks that command higher earnings. Imagine being able to:\n",
      "\n",
      "* **Command higher rates**: With AI handling the grunt work, human content creators can charge premium rates for their expertise and creative vision.\n",
      "* **Increase productivity**: By automating repetitive tasks, human content creators can take on more projects, leading to increased earnings and faster career advancement.\n",
      "* **Develop new revenue streams**: As AI agents take over content creation, human content creators can explore new revenue streams, such as AI training and consulting, or even creating their own AI-powered content tools.\n",
      "\n",
      "The future of content creation is a collaboration between humans and AI agents. It's an exciting time, full of opportunities and challenges. Let's harness the power of AI to elevate our craft, increase our earnings, and create content that truly resonates with our audiences.\n",
      "\n",
      "What are your thoughts on AI-powered content creation? Share your insights and concerns in the comments below!\n",
      "\n",
      "#AI #ContentCreation #FutureOfWork #MarketingInnovation\n",
      "\n"
     ]
    },
    {
     "name": "stdin",
     "output_type": "stream",
     "text": [
      "Post to LinkedIn (yes/no):  yes\n"
     ]
    },
    {
     "data": {
      "text/markdown": [
       "## Final Output"
      ],
      "text/plain": [
       "<IPython.core.display.Markdown object>"
      ]
     },
     "metadata": {},
     "output_type": "display_data"
    },
    {
     "data": {
      "text/markdown": [
       "The Future of Content Creation: AI Agents Take the Reins\n",
       "=====================================================\n",
       "\n",
       "As I reflect on the rapid advancements in artificial intelligence, I'm left wondering: are we on the cusp of a revolution in content creation? The answer, in my opinion, is a resounding yes.\n",
       "\n",
       "AI agents are increasingly capable of producing high-quality content that rivals human creation. From blog posts to social media updates, these intelligent machines are learning to craft compelling narratives, optimized for engagement and conversion.\n",
       "\n",
       "The implications are profound. With AI agents taking over content creation, businesses can:\n",
       "\n",
       "* **Scale content production**: Meet the insatiable demand for fresh, relevant content without breaking the bank or exhausting human resources.\n",
       "* **Personalize at scale**: AI agents can tailor content to individual preferences, interests, and behaviors, driving deeper connections with audiences.\n",
       "* **Optimize for ROI**: AI-driven content can be continuously refined and improved based on performance data, ensuring maximum return on investment.\n",
       "\n",
       "But what does this mean for human content creators? Will we be replaced by machines? I don't think so. AI agents will augment our capabilities, freeing us to focus on high-level strategy, creativity, and emotional intelligence – the aspects of content creation that machines can't replicate.\n",
       "\n",
       "And let's not forget about the earning potential. With AI agents taking over the more mundane tasks, human content creators can focus on high-value tasks that command higher earnings. Imagine being able to:\n",
       "\n",
       "* **Command higher rates**: With AI handling the grunt work, human content creators can charge premium rates for their expertise and creative vision.\n",
       "* **Increase productivity**: By automating repetitive tasks, human content creators can take on more projects, leading to increased earnings and faster career advancement.\n",
       "* **Develop new revenue streams**: As AI agents take over content creation, human content creators can explore new revenue streams, such as AI training and consulting, or even creating their own AI-powered content tools.\n",
       "\n",
       "The future of content creation is a collaboration between humans and AI agents. It's an exciting time, full of opportunities and challenges. Let's harness the power of AI to elevate our craft, increase our earnings, and create content that truly resonates with our audiences.\n",
       "\n",
       "What are your thoughts on AI-powered content creation? Share your insights and concerns in the comments below!\n",
       "\n",
       "#AI #ContentCreation #FutureOfWork #MarketingInnovation"
      ],
      "text/plain": [
       "<IPython.core.display.Markdown object>"
      ]
     },
     "metadata": {},
     "output_type": "display_data"
    }
   ],
   "source": [
    "user_input = \"Write a LinkedIn post abouton AI Agent taking over content creation\"\n",
    "response = app.invoke({\n",
    "    \"messages\":[HumanMessage(content=user_input)]\n",
    "})\n",
    "\n",
    "#display a markdown of the final output\n",
    "# from IPython.display import display, Markdown\n",
    "# display(Markdown(\"## Final Output\"))\n",
    "# display(Markdown(response['messages'][-1].content))"
   ]
  },
  {
   "cell_type": "code",
   "execution_count": 66,
   "id": "e5d38c6b-616a-4df9-ac76-b30f898382c1",
   "metadata": {},
   "outputs": [
    {
     "data": {
      "text/plain": [
       "{'messages': [HumanMessage(content='Write a LinkedIn post abouton AI Agent taking over content creation', additional_kwargs={}, response_metadata={}, id='b91b558d-0c97-4ddd-9dbe-2f86e07e6232'),\n",
       "  SystemMessage(content='Output only the response. Do not add a prefix or suffix description to the output, output your response in markdown format', additional_kwargs={}, response_metadata={}, id='1db8adc5-52e5-423b-9056-94a4036eb7e1'),\n",
       "  AIMessage(content=\"The Future of Content Creation: AI Agents Take the Reins\\n=====================================================\\n\\nAs I reflect on the rapid advancements in artificial intelligence, I'm left wondering: are we on the cusp of a revolution in content creation? The answer, in my opinion, is a resounding yes.\\n\\nAI agents are increasingly capable of producing high-quality content that rivals human creation. From blog posts to social media updates, these intelligent machines are learning to craft compelling narratives, optimized for engagement and conversion.\\n\\nThe implications are profound. With AI agents taking over content creation, businesses can:\\n\\n* **Scale content production**: Meet the insatiable demand for fresh, relevant content without breaking the bank or exhausting human resources.\\n* **Personalize at scale**: AI agents can tailor content to individual preferences, interests, and behaviors, driving deeper connections with audiences.\\n* **Optimize for ROI**: AI-driven content can be continuously refined and improved based on performance data, ensuring maximum return on investment.\\n\\nBut what does this mean for human content creators? Will we be replaced by machines? I don't think so. AI agents will augment our capabilities, freeing us to focus on high-level strategy, creativity, and emotional intelligence – the aspects of content creation that machines can't replicate.\\n\\nThe future of content creation is a collaboration between humans and AI agents. It's an exciting time, full of opportunities and challenges. Let's harness the power of AI to elevate our craft and create content that truly resonates with our audiences.\\n\\nWhat are your thoughts on AI-powered content creation? Share your insights and concerns in the comments below!\\n\\n#AI #ContentCreation #FutureOfWork #MarketingInnovation\", additional_kwargs={}, response_metadata={'token_usage': {'completion_tokens': 330, 'prompt_tokens': 55, 'total_tokens': 385, 'completion_time': 1.131109164, 'prompt_time': 0.001380939, 'queue_time': 0.09344854500000001, 'total_time': 1.132490103}, 'model_name': 'llama3-70b-8192', 'system_fingerprint': 'fp_dd4ae1c591', 'finish_reason': 'stop', 'logprobs': None}, id='run--0397f8d4-1799-411a-bf6e-9cdfa846a9e5-0', usage_metadata={'input_tokens': 55, 'output_tokens': 330, 'total_tokens': 385}),\n",
       "  HumanMessage(content='add content about earnings', additional_kwargs={}, response_metadata={}, id='870bd81c-162b-4d78-b2e0-70318a960142'),\n",
       "  AIMessage(content=\"The Future of Content Creation: AI Agents Take the Reins\\n=====================================================\\n\\nAs I reflect on the rapid advancements in artificial intelligence, I'm left wondering: are we on the cusp of a revolution in content creation? The answer, in my opinion, is a resounding yes.\\n\\nAI agents are increasingly capable of producing high-quality content that rivals human creation. From blog posts to social media updates, these intelligent machines are learning to craft compelling narratives, optimized for engagement and conversion.\\n\\nThe implications are profound. With AI agents taking over content creation, businesses can:\\n\\n* **Scale content production**: Meet the insatiable demand for fresh, relevant content without breaking the bank or exhausting human resources.\\n* **Personalize at scale**: AI agents can tailor content to individual preferences, interests, and behaviors, driving deeper connections with audiences.\\n* **Optimize for ROI**: AI-driven content can be continuously refined and improved based on performance data, ensuring maximum return on investment.\\n\\nBut what does this mean for human content creators? Will we be replaced by machines? I don't think so. AI agents will augment our capabilities, freeing us to focus on high-level strategy, creativity, and emotional intelligence – the aspects of content creation that machines can't replicate.\\n\\nAnd let's not forget about the earning potential. With AI agents taking over the more mundane tasks, human content creators can focus on high-value tasks that command higher earnings. Imagine being able to:\\n\\n* **Command higher rates**: With AI handling the grunt work, human content creators can charge premium rates for their expertise and creative vision.\\n* **Increase productivity**: By automating repetitive tasks, human content creators can take on more projects, leading to increased earnings and faster career advancement.\\n* **Develop new revenue streams**: As AI agents take over content creation, human content creators can explore new revenue streams, such as AI training and consulting, or even creating their own AI-powered content tools.\\n\\nThe future of content creation is a collaboration between humans and AI agents. It's an exciting time, full of opportunities and challenges. Let's harness the power of AI to elevate our craft, increase our earnings, and create content that truly resonates with our audiences.\\n\\nWhat are your thoughts on AI-powered content creation? Share your insights and concerns in the comments below!\\n\\n#AI #ContentCreation #FutureOfWork #MarketingInnovation\", additional_kwargs={}, response_metadata={'token_usage': {'completion_tokens': 471, 'prompt_tokens': 426, 'total_tokens': 897, 'completion_time': 1.345714286, 'prompt_time': 0.013637712, 'queue_time': 0.093398783, 'total_time': 1.359351998}, 'model_name': 'llama3-70b-8192', 'system_fingerprint': 'fp_dd4ae1c591', 'finish_reason': 'stop', 'logprobs': None}, id='run--3ebd7919-4191-4f20-9c09-c866592d203f-0', usage_metadata={'input_tokens': 426, 'output_tokens': 471, 'total_tokens': 897})]}"
      ]
     },
     "execution_count": 66,
     "metadata": {},
     "output_type": "execute_result"
    }
   ],
   "source": [
    "response"
   ]
  },
  {
   "cell_type": "code",
   "execution_count": null,
   "id": "e30d4f11-79de-4a28-b95c-a5a663cd02d7",
   "metadata": {},
   "outputs": [],
   "source": []
  }
 ],
 "metadata": {
  "kernelspec": {
   "display_name": "Python (AIenv)",
   "language": "python",
   "name": "aienv"
  },
  "language_info": {
   "codemirror_mode": {
    "name": "ipython",
    "version": 3
   },
   "file_extension": ".py",
   "mimetype": "text/x-python",
   "name": "python",
   "nbconvert_exporter": "python",
   "pygments_lexer": "ipython3",
   "version": "3.10.10"
  }
 },
 "nbformat": 4,
 "nbformat_minor": 5
}
