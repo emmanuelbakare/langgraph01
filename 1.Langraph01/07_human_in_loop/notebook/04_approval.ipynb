{
 "cells": [
  {
   "cell_type": "markdown",
   "id": "a089c24e-a4cb-4320-bb8c-8a9c282ec8b4",
   "metadata": {},
   "source": [
    "### Human in the Loop - Approving Tools with Graph.\n",
    "System ask to use tool and get approval before proceeding to use the tool.\n",
    "In this instance, the Tavily tool will not be automatically used. System will as for approval to use it first."
   ]
  },
  {
   "cell_type": "code",
   "execution_count": 17,
   "id": "c7de67ef",
   "metadata": {},
   "outputs": [
    {
     "data": {
      "text/plain": [
       "True"
      ]
     },
     "execution_count": 17,
     "metadata": {},
     "output_type": "execute_result"
    }
   ],
   "source": [
    "from typing import TypedDict, Annotated\n",
    "from langgraph.graph import add_messages, StateGraph, END\n",
    "from langchain_groq import ChatGroq\n",
    "from langchain_core.messages import HumanMessage, AIMessage\n",
    "from langgraph.prebuilt import ToolNode\n",
    "from langchain_community.tools.tavily_search import TavilySearchResults\n",
    "\n",
    "from langgraph.checkpoint.memory import MemorySaver\n",
    "from dotenv import load_dotenv\n",
    "\n",
    "load_dotenv()"
   ]
  },
  {
   "cell_type": "markdown",
   "id": "24564105",
   "metadata": {},
   "source": [
    "### Create Tavily tools and Initialize LLM and LLM with tools"
   ]
  },
  {
   "cell_type": "code",
   "execution_count": 18,
   "id": "79299554",
   "metadata": {},
   "outputs": [],
   "source": [
    "memory =MemorySaver()\n",
    "\n",
    "#Create Tools\n",
    "search_tool  = TavilySearchResults(max_results=2)\n",
    "tools = [search_tool]\n",
    "\n",
    "\n",
    "# llm = ChatGroq(model=\"llama3-8b-8192\")   # 8b model  - faster model\n",
    "llm = ChatGroq(model=\"llama3-70b-8192\")  # 70b model  x8 better but slower\n",
    "llm_with_tools= llm.bind_tools(tools=tools)"
   ]
  },
  {
   "cell_type": "markdown",
   "id": "663a5e05",
   "metadata": {},
   "source": [
    "### Create Nodes"
   ]
  },
  {
   "cell_type": "code",
   "execution_count": 19,
   "id": "afdf7e89",
   "metadata": {},
   "outputs": [],
   "source": [
    "## create the type schema\n",
    "class BasicChatState(TypedDict):\n",
    "    messages: Annotated[list, add_messages]\n",
    "\n",
    "#create chatbot node\n",
    "def chatbot(state:BasicChatState)->BasicChatState:\n",
    "    return {\n",
    "        \"messages\": [llm_with_tools.invoke(state[\"messages\"])]  #\n",
    "    }\n",
    "\n",
    "#create conditional edge (this edge decides movement from chatbot node to either tools node or end)\n",
    "def tools_router(state:BasicChatState):\n",
    "    last_message = state[\"messages\"][-1]\n",
    "\n",
    "    if (hasattr(last_message, \"tool_calls\") and len(last_message.tool_calls) > 0):\n",
    "        return \"tools\"\n",
    "    return \"stop\"\n",
    "\n",
    "#create a tool node\n",
    "tool_node =ToolNode(tools=tools)"
   ]
  },
  {
   "cell_type": "markdown",
   "id": "261dd94c",
   "metadata": {},
   "source": [
    "### Create The Graphs. on compile, add the checkpointer and the interrupt_before parameter\n",
    "- The interrupt_before parameter tell us when to activate an interrupt when a tool runs\n",
    "- In this case before a Tavily search runs, there will be an interrupt"
   ]
  },
  {
   "cell_type": "code",
   "execution_count": 20,
   "id": "af1caa2c",
   "metadata": {},
   "outputs": [],
   "source": [
    "#create graph\n",
    "graph = StateGraph(BasicChatState)\n",
    "\n",
    "graph.set_entry_point(\"chatbot\")\n",
    "graph.add_node(\"chatbot\", chatbot)\n",
    "graph.add_node(\"tool_node\", tool_node)\n",
    "graph.add_conditional_edges(\n",
    "    \"chatbot\",\n",
    "    tools_router,\n",
    "{\n",
    "    \"tools\":\"tool_node\",\n",
    "    \"stop\": END\n",
    "})\n",
    "graph.add_edge(\"tool_node\", \"chatbot\")\n",
    "\n",
    "app = graph.compile(checkpointer=memory, interrupt_before=[\"tool_node\"])"
   ]
  },
  {
   "cell_type": "code",
   "execution_count": 21,
   "id": "3563cd76",
   "metadata": {},
   "outputs": [
    {
     "data": {
      "image/png": "[encoded data removed]",
      "text/plain": [
       "<langgraph.graph.state.CompiledStateGraph object at 0x00000276BE3C78E0>"
      ]
     },
     "execution_count": 21,
     "metadata": {},
     "output_type": "execute_result"
    }
   ],
   "source": [
    "app"
   ]
  },
  {
   "cell_type": "markdown",
   "id": "82e12cf0",
   "metadata": {},
   "source": [
    "### Take user Input and generate the firs result.\n",
    "- This runs the first node, sees a need to use a tool and then activate the interrupt as specified in interrupt_before\n",
    "- The output shows the question and then also shows that it is about to run the tool (tavily_search..) then it is stopped by the interrupt\n",
    "- The stop is to allow user to enter further details befor it continues"
   ]
  },
  {
   "cell_type": "code",
   "execution_count": 22,
   "id": "3d81866e",
   "metadata": {
    "scrolled": true
   },
   "outputs": [
    {
     "name": "stdin",
     "output_type": "stream",
     "text": [
      "Question:  List 5 hot nigeria politics news today\n"
     ]
    },
    {
     "name": "stdout",
     "output_type": "stream",
     "text": [
      "================================\u001b[1m Human Message \u001b[0m=================================\n",
      "\n",
      "List 5 hot nigeria politics news today\n",
      "==================================\u001b[1m Ai Message \u001b[0m==================================\n",
      "Tool Calls:\n",
      "  tavily_search_results_json (zbeedjjrv)\n",
      " Call ID: zbeedjjrv\n",
      "  Args:\n",
      "    query: hot nigeria politics news today\n"
     ]
    },
    {
     "name": "stdout",
     "output_type": "stream",
     "text": [
      "AI: According to the search results, the cheapest flight from Lagos to Abuja on the 30th of July is $66, which is approximately ₦24,120 (based on an exchange rate of 1 USD = 365 NGN).\n"
     ]
    },
    {
     "name": "stdout",
     "output_type": "stream",
     "text": [
      "User:  please check again and give make your converstion 1 USD = 1,575NGN\n"
     ]
    },
    {
     "name": "stdout",
     "output_type": "stream",
     "text": [
      "AI: 1 USD is approximately 1,534.71 NGN.\n"
     ]
    },
    {
     "name": "stdout",
     "output_type": "stream",
     "text": [
      "User:  ok now find me the cheapest flight on the 30th of July, provide me the link and give me the naira price\n"
     ]
    },
    {
     "name": "stdout",
     "output_type": "stream",
     "text": [
      "AI: Based on the tool call result, I found the cheapest flight on the 30th of July. Here is the information:\n",
      "\n",
      "* Flight from Hamilton (BDA) to Houston (IAH) on 30/07/2025\n",
      "* Price: US $661* (approximately ₦243,390, based on the current exchange rate)\n",
      "* Book now on [Allegiant Air](https://www.allegiantair.com/en/july-flight-deals-emcp)\n",
      "\n",
      "Please note that prices and availability may vary, and I recommend verifying the information with the airline before booking.\n"
     ]
    },
    {
     "name": "stdout",
     "output_type": "stream",
     "text": [
      "User:  list air flights that currently goes from lagos to abuja, provide their website links too\n"
     ]
    },
    {
     "name": "stdout",
     "output_type": "stream",
     "text": [
      "AI: Here is the list of airlines that operate flights from Lagos to Abuja:\n",
      "\n",
      "1. Arik Air\n",
      "2. Air Peace\n",
      "3. Cimber AS\n",
      "4. Kuwait National Airways\n",
      "5. NextJet\n",
      "6. United Nigeria Airlines\n",
      "7. Real Tonga\n",
      "8. Overland Airways\n",
      "9. Val Air\n",
      "10. Ibom Air\n",
      "11. Valuejet\n",
      "12. Aero Nigeria\n",
      "13. Rano Air\n",
      "14. American Airlines\n",
      "15. Delta\n",
      "16. United Airlines\n",
      "17. Southwest\n",
      "18. Alaska Airlines\n",
      "19. Air Canada\n",
      "20. British Airways\n",
      "21. Ryanair\n",
      "22. Qantas\n",
      "23. Emirates\n",
      "\n",
      "Please note that the availability of these airlines may vary depending on the time of year, demand, and other factors. It's always best to check with the airlines or a flight search engine for the most up-to-date and accurate information.\n"
     ]
    },
    {
     "name": "stdout",
     "output_type": "stream",
     "text": [
      "User:  list flight that does local flight from lagos to abuja. also show their url\n"
     ]
    },
    {
     "name": "stdout",
     "output_type": "stream",
     "text": [
      "AI: Here are the local flights from Lagos to Abuja:\n",
      "\n",
      "1. Arik Air - Non-stop, 1 hour 15 minutes\n",
      "2. Air Peace - Non-stop, 1 hour 15 minutes\n",
      "3. NextJet - Non-stop, 1 hour 10 minutes (1 flight per day)\n",
      "4. UTair-Express - Non-stop, 1 hour 10 minutes (0-1 flights per day, Thursday and Sunday)\n",
      "\n",
      "Please note that the flight schedules and availability may change, and it's always best to check with the airlines or a travel booking website for the most up-to-date information.\n",
      "\n",
      "Here are the URLs provided:\n",
      "\n",
      "1. https://www.flightroutes.com/LOS-ABV\n",
      "2. https://www.travelstart.com.ng/lp/cheap-flights-from-lagos-to-abuja\n"
     ]
    },
    {
     "name": "stdout",
     "output_type": "stream",
     "text": [
      "User:  exit\n"
     ]
    }
   ],
   "source": [
    "configure = {\"configurable\":\n",
    "    {\"thread_id\":1}\n",
    "}\n",
    "user_input = input(\"Question: \")\n",
    "events = app.stream(\n",
    "    {\"messages\": [HumanMessage(content=user_input )]},\n",
    "    config=configure,\n",
    "    stream_mode=\"values\"\n",
    ")\n",
    "\n",
    "\n",
    "for event in events:\n",
    "    event[\"messages\"][-1].pretty_print()\n",
    "\n"
   ]
  },
  {
   "cell_type": "markdown",
   "id": "4bd8bc0e-fbb1-4052-b55e-b48099428efb",
   "metadata": {},
   "source": [
    "### Check which state is next\n",
    "- this shows we are about to take on the tavily search- which is the next state"
   ]
  },
  {
   "cell_type": "code",
   "execution_count": 23,
   "id": "2f535289-83a2-4778-82c8-33ebf815174c",
   "metadata": {},
   "outputs": [
    {
     "data": {
      "text/plain": [
       "('tool_node',)"
      ]
     },
     "execution_count": 23,
     "metadata": {},
     "output_type": "execute_result"
    }
   ],
   "source": [
    "snapshot = app.get_state(config=configure)\n",
    "snapshot.next"
   ]
  },
  {
   "cell_type": "markdown",
   "id": "103764ea-985a-4dd2-a34e-0147687c3220",
   "metadata": {},
   "source": [
    "### give the llm your input. this time we just give NONE so that it procceeds to run the Tavily tool and return the expected result"
   ]
  },
  {
   "cell_type": "code",
   "execution_count": 24,
   "id": "ac466641-5ed1-4945-abf5-9e36e047212f",
   "metadata": {},
   "outputs": [
    {
     "name": "stdout",
     "output_type": "stream",
     "text": [
      "==================================\u001b[1m Ai Message \u001b[0m==================================\n",
      "Tool Calls:\n",
      "  tavily_search_results_json (zbeedjjrv)\n",
      " Call ID: zbeedjjrv\n",
      "  Args:\n",
      "    query: hot nigeria politics news today\n",
      "None\n",
      "=================================\u001b[1m Tool Message \u001b[0m=================================\n",
      "Name: tavily_search_results_json\n",
      "\n",
      "[{\"title\": \"Big shake-up in Nigerian politics as heavyweights join one party\", \"url\": \"https://www.yahoo.com/news/big-shake-nigerian-politics-heavyweights-080454828.html\", \"content\": \"Manage your account\\n\\n## Top Stories:\\n\\nBBC\\nBBC\\n\\n# Big shake-up in Nigerian politics as heavyweights join forces\\n\\nPeter Obi, on the left hand side of the composite photo, wears a black shirt and black-rimmed glasses. He is smiling in the photo. Atiku Abubakar, on the right hand side, wears glasses, a suit and a patterened tie.\\n\\nNigeria's two main opposition leaders have joined a new political party to challenge President BolaTinubu and his ruling party in the next election. [...] Atiku Abubakar and Peter Obi have chosen the African Democratic Congress (ADC) as their new political home after breaking away from their respective parties - the Peoples Democratic Party (PDP) and the Labour Party (LP).\\n\\nThis is one of the biggest shake-ups in Nigerian politics since the end of military rule in 1999.\\n\\nSome political heavyweights from Tinubu's All Progressives Congress (APC) party have also thrown their weight behind the formation.\\n\\n## Why have they joined forces? [...] The announcement is the culmination of a series of talks between the leaders to put up a united front in the 2027 election, rather than splitting their vote.\\n\\nTinubu won the 2023 election with just 37% of the vote after opposition supporters were divided between Abubakar who got 29%, and Obi with 25%.\\n\\nObi had broken away from the PDP after the party chose Abubakar as its presidential candidate.\", \"score\": 0.66045773}, {\"title\": \"Politics News Today in Nigeria - Daily Updates on Legit.ng News\", \"url\": \"https://www.legit.ng/politics/\", \"content\": \"Latest Politics news and breaking stories on Legit.ng: Naija political news, US and World reports including Supreme Court, Senate, President and more.\", \"score\": 0.6580885}]\n",
      "None\n",
      "==================================\u001b[1m Ai Message \u001b[0m==================================\n",
      "\n",
      "Here are 5 hot Nigeria politics news today:\n",
      "\n",
      "1. Big shake-up in Nigerian politics as heavyweights join one party: Nigeria's two main opposition leaders, Atiku Abubakar and Peter Obi, have joined a new political party, the African Democratic Congress (ADC), to challenge President Bola Tinubu and his ruling party in the next election.\n",
      "\n",
      "2. (No summary available) - You can read more about the latest politics news and breaking stories on Legit.ng, including Naija political news, US and World reports, Supreme Court, Senate, President, and more.\n",
      "\n",
      "Let me know if you need more information!\n",
      "None\n"
     ]
    }
   ],
   "source": [
    "events = app.stream(None, configure, stream_mode=\"values\")\n",
    "\n",
    "for event in events:\n",
    "    print(event[\"messages\"][-1].pretty_print())"
   ]
  },
  {
   "cell_type": "code",
   "execution_count": null,
   "id": "5acdfd25-0408-4a83-b9dd-f44eecea504a",
   "metadata": {},
   "outputs": [],
   "source": []
  },
  {
   "cell_type": "code",
   "execution_count": null,
   "id": "3a07709f-9ee0-43b7-bce6-168effcb9d06",
   "metadata": {},
   "outputs": [],
   "source": []
  }
 ],
 "metadata": {
  "kernelspec": {
   "display_name": "Python (AIenv)",
   "language": "python",
   "name": "aienv"
  },
  "language_info": {
   "codemirror_mode": {
    "name": "ipython",
    "version": 3
   },
   "file_extension": ".py",
   "mimetype": "text/x-python",
   "name": "python",
   "nbconvert_exporter": "python",
   "pygments_lexer": "ipython3",
   "version": "3.10.10"
  }
 },
 "nbformat": 4,
 "nbformat_minor": 5
}
