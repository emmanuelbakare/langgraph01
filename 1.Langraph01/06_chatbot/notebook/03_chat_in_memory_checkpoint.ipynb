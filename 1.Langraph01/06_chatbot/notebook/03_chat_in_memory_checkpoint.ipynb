{
 "cells": [
  {
   "cell_type": "markdown",
   "id": "0bb0aa6c-bb36-4eed-a491-5b7f5e81778f",
   "metadata": {},
   "source": [
    "# Allow system to have an in memory saver\n",
    "This help to keep the conversation going. The system remembers previous messages\n",
    "The drawback is that when you log out of the application, the application will not remember previous conversation.\n",
    "You will need and sqlite database implementation to achieve this"
   ]
  },
  {
   "cell_type": "code",
   "execution_count": 2,
   "id": "71f065d2-d4d0-4e9e-acc9-a15dc1fd9e22",
   "metadata": {},
   "outputs": [],
   "source": [
    "from typing import TypedDict, Annotated\n",
    "from langgraph.graph import add_messages, StateGraph, END\n",
    "from langchain_groq import ChatGroq\n",
    "from langchain_core.messages import HumanMessage, AIMessage\n",
    "from langgraph.checkpoint.memory import MemorySaver\n",
    "from dotenv import load_dotenv"
   ]
  },
  {
   "cell_type": "code",
   "execution_count": 3,
   "id": "6327a329-5400-40a4-adbd-54a88cd380f0",
   "metadata": {},
   "outputs": [],
   "source": [
    "load_dotenv()\n",
    "# llm = ChatGroq(model=\"llama3-8b-8192\")   # 8b model  - faster model\n",
    "llm = ChatGroq(model=\"llama3-70b-8192\")  # 70b model  x8 better but slower"
   ]
  },
  {
   "cell_type": "markdown",
   "id": "fb85e2b9-9cff-4945-b201-d534e22292d5",
   "metadata": {},
   "source": [
    "## Create the schema and node"
   ]
  },
  {
   "cell_type": "code",
   "execution_count": 4,
   "id": "74d502d5-40ab-4edb-a542-a1193f715f19",
   "metadata": {},
   "outputs": [],
   "source": [
    "class BasicChatState(TypedDict):\n",
    "    messages: Annotated[list, add_messages]\n",
    "\n",
    "def chatbot(state:BasicChatState)->BasicChatState:\n",
    "    return {\n",
    "        \"messages\": [llm.invoke(state[\"messages\"])]  #\n",
    "    }"
   ]
  },
  {
   "cell_type": "markdown",
   "id": "1a1467c6-2b55-4420-9fa7-7bffe0596cd2",
   "metadata": {},
   "source": [
    "### Create the graph with Memory chechpoint"
   ]
  },
  {
   "cell_type": "code",
   "execution_count": 10,
   "id": "84fec6a3-e12a-4694-b329-9e13dd54c34d",
   "metadata": {},
   "outputs": [],
   "source": [
    "graph = StateGraph(BasicChatState)\n",
    "\n",
    "graph.add_node(\"chatbot\", chatbot)\n",
    "graph.set_entry_point(\"chatbot\")\n",
    "\n",
    "graph.add_edge(\"chatbot\", END)\n",
    "\n",
    "# add memory\n",
    "memory= MemorySaver()\n",
    "app = graph.compile(checkpointer=memory)\n",
    "\n",
    "#tie the memory with a thread ID. A unique id that shows the conversation history as it builds\n",
    "config = {\"configurable\":{\n",
    "    \"thread_id\": 1\n",
    "}}"
   ]
  },
  {
   "cell_type": "code",
   "execution_count": null,
   "id": "02d1650a-31dd-4f7c-b0c2-7a9b774c8a45",
   "metadata": {},
   "outputs": [],
   "source": []
  },
  {
   "cell_type": "markdown",
   "id": "1328f37d-6ee5-49cd-92a4-b5d2e30af72a",
   "metadata": {},
   "source": [
    "### Get the Human question and ensure you tie it to a memory thread"
   ]
  },
  {
   "cell_type": "code",
   "execution_count": 11,
   "id": "7d3629a4-ef4d-4fc5-a751-0076d00fbb96",
   "metadata": {},
   "outputs": [
    {
     "name": "stdin",
     "output_type": "stream",
     "text": [
      "User:  Hello, My name is Emmanuel\n"
     ]
    },
    {
     "name": "stdout",
     "output_type": "stream",
     "text": [
      "AI: Hello Emmanuel! It's nice to meet you. Is there something I can help you with, or would you like to chat?\n"
     ]
    },
    {
     "name": "stdin",
     "output_type": "stream",
     "text": [
      "User:  can you tell me the current president of Nigeria\n"
     ]
    },
    {
     "name": "stdout",
     "output_type": "stream",
     "text": [
      "AI: The current President of Nigeria is Muhammadu Buhari. He has been in office since May 29, 2015. Would you like to know more about him or Nigerian politics in general?\n"
     ]
    },
    {
     "name": "stdin",
     "output_type": "stream",
     "text": [
      "User:  add 3 +5\n"
     ]
    },
    {
     "name": "stdout",
     "output_type": "stream",
     "text": [
      "AI: 3 + 5 = 8\n"
     ]
    },
    {
     "name": "stdin",
     "output_type": "stream",
     "text": [
      "User:  multiply it by 10\n"
     ]
    },
    {
     "name": "stdout",
     "output_type": "stream",
     "text": [
      "AI: 8 × 10 = 80\n"
     ]
    },
    {
     "name": "stdin",
     "output_type": "stream",
     "text": [
      "User:  what is my name again?\n"
     ]
    },
    {
     "name": "stdout",
     "output_type": "stream",
     "text": [
      "AI: Your name is Emmanuel.\n"
     ]
    },
    {
     "name": "stdin",
     "output_type": "stream",
     "text": [
      "User:  exit\n"
     ]
    }
   ],
   "source": [
    "while True:\n",
    "    user_input = input(\"User: \")\n",
    "\n",
    "    if user_input in [\"exit\",\"end\"]:\n",
    "        break \n",
    "    # remember to pass the configuration, thread id to the invoke method\n",
    "    result = app.invoke({\n",
    "        \"messages\":[HumanMessage(content=user_input)]\n",
    "    }, config=config)\n",
    "    # print(result)\n",
    "    print(\"AI:\",result[\"messages\"][-1].content)\n"
   ]
  },
  {
   "cell_type": "code",
   "execution_count": 13,
   "id": "cc87b1e0-b686-4790-a74e-84660c4907da",
   "metadata": {},
   "outputs": [
    {
     "name": "stdout",
     "output_type": "stream",
     "text": [
      "StateSnapshot(values={'messages': [HumanMessage(content='Hello, My name is Emmanuel', additional_kwargs={}, response_metadata={}, id='6c57572b-69d9-4ba6-b66a-9da6484281d2'), AIMessage(content=\"Hello Emmanuel! It's nice to meet you. Is there something I can help you with, or would you like to chat?\", additional_kwargs={}, response_metadata={'token_usage': {'completion_tokens': 27, 'prompt_tokens': 16, 'total_tokens': 43, 'completion_time': 0.077142857, 'prompt_time': 0.000194767, 'queue_time': 0.093280354, 'total_time': 0.077337624}, 'model_name': 'llama3-70b-8192', 'system_fingerprint': 'fp_dd4ae1c591', 'finish_reason': 'stop', 'logprobs': None}, id='run--905d6e04-9c36-49ea-9584-cb14ba3be893-0', usage_metadata={'input_tokens': 16, 'output_tokens': 27, 'total_tokens': 43}), HumanMessage(content='can you tell me the current president of Nigeria', additional_kwargs={}, response_metadata={}, id='3bf090f5-044c-46f9-bb65-6330b8e1542e'), AIMessage(content='The current President of Nigeria is Muhammadu Buhari. He has been in office since May 29, 2015. Would you like to know more about him or Nigerian politics in general?', additional_kwargs={}, response_metadata={'token_usage': {'completion_tokens': 41, 'prompt_tokens': 61, 'total_tokens': 102, 'completion_time': 0.117142857, 'prompt_time': 0.001675283, 'queue_time': 0.092323516, 'total_time': 0.11881814}, 'model_name': 'llama3-70b-8192', 'system_fingerprint': 'fp_dd4ae1c591', 'finish_reason': 'stop', 'logprobs': None}, id='run--1bbdb151-eb70-4b2b-953e-f403c5baa06a-0', usage_metadata={'input_tokens': 61, 'output_tokens': 41, 'total_tokens': 102}), HumanMessage(content='add 3 +5', additional_kwargs={}, response_metadata={}, id='8bbf4a0b-4ae9-4b74-b5cc-52862ff64663'), AIMessage(content='3 + 5 = 8', additional_kwargs={}, response_metadata={'token_usage': {'completion_tokens': 8, 'prompt_tokens': 116, 'total_tokens': 124, 'completion_time': 0.023477353, 'prompt_time': 0.003369606, 'queue_time': 0.094635513, 'total_time': 0.026846959}, 'model_name': 'llama3-70b-8192', 'system_fingerprint': 'fp_dd4ae1c591', 'finish_reason': 'stop', 'logprobs': None}, id='run--a240d35c-5abd-4b2e-b2c7-1e6d62d0fcf0-0', usage_metadata={'input_tokens': 116, 'output_tokens': 8, 'total_tokens': 124}), HumanMessage(content='multiply it by 10', additional_kwargs={}, response_metadata={}, id='0bf1ab05-5502-4049-8059-a7b0ecd5dc5a'), AIMessage(content='8 × 10 = 80', additional_kwargs={}, response_metadata={'token_usage': {'completion_tokens': 8, 'prompt_tokens': 138, 'total_tokens': 146, 'completion_time': 0.031618503, 'prompt_time': 0.004426649, 'queue_time': 0.094392557, 'total_time': 0.036045152}, 'model_name': 'llama3-70b-8192', 'system_fingerprint': 'fp_dd4ae1c591', 'finish_reason': 'stop', 'logprobs': None}, id='run--33d52fab-c30d-4e91-9904-172db6639302-0', usage_metadata={'input_tokens': 138, 'output_tokens': 8, 'total_tokens': 146}), HumanMessage(content='what is my name again?', additional_kwargs={}, response_metadata={}, id='f5c546ee-d28b-4b73-b981-d7548d9baea0'), AIMessage(content='Your name is Emmanuel.', additional_kwargs={}, response_metadata={'token_usage': {'completion_tokens': 6, 'prompt_tokens': 161, 'total_tokens': 167, 'completion_time': 0.024026874, 'prompt_time': 0.00495633, 'queue_time': 0.093550018, 'total_time': 0.028983204}, 'model_name': 'llama3-70b-8192', 'system_fingerprint': 'fp_dd4ae1c591', 'finish_reason': 'stop', 'logprobs': None}, id='run--f8942121-c3fb-4086-9679-2ab07ae02d78-0', usage_metadata={'input_tokens': 161, 'output_tokens': 6, 'total_tokens': 167})]}, next=(), config={'configurable': {'thread_id': '1', 'checkpoint_ns': '', 'checkpoint_id': '1f057e74-8dcb-6346-800d-c4de94d0cd3f'}}, metadata={'source': 'loop', 'writes': {'chatbot': {'messages': [AIMessage(content='Your name is Emmanuel.', additional_kwargs={}, response_metadata={'token_usage': {'completion_tokens': 6, 'prompt_tokens': 161, 'total_tokens': 167, 'completion_time': 0.024026874, 'prompt_time': 0.00495633, 'queue_time': 0.093550018, 'total_time': 0.028983204}, 'model_name': 'llama3-70b-8192', 'system_fingerprint': 'fp_dd4ae1c591', 'finish_reason': 'stop', 'logprobs': None}, id='run--f8942121-c3fb-4086-9679-2ab07ae02d78-0', usage_metadata={'input_tokens': 161, 'output_tokens': 6, 'total_tokens': 167})]}}, 'step': 13, 'parents': {}, 'thread_id': 1}, created_at='2025-07-03T08:25:31.997063+00:00', parent_config={'configurable': {'thread_id': '1', 'checkpoint_ns': '', 'checkpoint_id': '1f057e74-86cb-63bd-800c-2841db1f6dcd'}}, tasks=(), interrupts=())\n"
     ]
    }
   ],
   "source": [
    "print(app.get_state(config))"
   ]
  },
  {
   "cell_type": "code",
   "execution_count": null,
   "id": "42da47f9-2efc-4b6e-a2ca-4bbd641c11b0",
   "metadata": {},
   "outputs": [],
   "source": []
  },
  {
   "cell_type": "code",
   "execution_count": null,
   "id": "6fbae1a3-624e-44a0-9220-d212ff09c3b3",
   "metadata": {},
   "outputs": [],
   "source": []
  }
 ],
 "metadata": {
  "kernelspec": {
   "display_name": "Python (AIenv)",
   "language": "python",
   "name": "aienv"
  },
  "language_info": {
   "codemirror_mode": {
    "name": "ipython",
    "version": 3
   },
   "file_extension": ".py",
   "mimetype": "text/x-python",
   "name": "python",
   "nbconvert_exporter": "python",
   "pygments_lexer": "ipython3",
   "version": "3.10.10"
  }
 },
 "nbformat": 4,
 "nbformat_minor": 5
}
