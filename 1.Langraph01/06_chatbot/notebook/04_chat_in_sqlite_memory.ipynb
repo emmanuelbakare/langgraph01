{
 "cells": [
  {
   "cell_type": "markdown",
   "id": "b5180be6-ff90-4447-88d9-aefe4e31a6c1",
   "metadata": {},
   "source": [
    "# Allow system to have an sqlite database\n",
    "This help to keep the conversation going. The system remembers previous messages and when you log out and log back in  \n",
    "the system still remember the conversation from where you left off. This is because of the use of an sqlite database\n"
   ]
  },
  {
   "cell_type": "code",
   "execution_count": 4,
   "id": "71f065d2-d4d0-4e9e-acc9-a15dc1fd9e22",
   "metadata": {},
   "outputs": [],
   "source": [
    "from typing import TypedDict, Annotated\n",
    "from langgraph.graph import add_messages, StateGraph, END\n",
    "from langchain_groq import ChatGroq\n",
    "from langchain_core.messages import HumanMessage, AIMessage\n",
    "from langgraph.checkpoint.memory import MemorySaver\n",
    "from dotenv import load_dotenv"
   ]
  },
  {
   "cell_type": "code",
   "execution_count": 2,
   "id": "6327a329-5400-40a4-adbd-54a88cd380f0",
   "metadata": {},
   "outputs": [],
   "source": [
    "load_dotenv()\n",
    "# llm = ChatGroq(model=\"llama3-8b-8192\")   # 8b model  - faster model\n",
    "llm = ChatGroq(model=\"llama3-70b-8192\")  # 70b model  x8 better but slower"
   ]
  },
  {
   "cell_type": "markdown",
   "id": "fb85e2b9-9cff-4945-b201-d534e22292d5",
   "metadata": {},
   "source": [
    "## Create the schema and node"
   ]
  },
  {
   "cell_type": "code",
   "execution_count": 3,
   "id": "74d502d5-40ab-4edb-a542-a1193f715f19",
   "metadata": {},
   "outputs": [],
   "source": [
    "class BasicChatState(TypedDict):\n",
    "    messages: Annotated[list, add_messages]\n",
    "\n",
    "def chatbot(state:BasicChatState)->BasicChatState:\n",
    "    return {\n",
    "        \"messages\": [llm.invoke(state[\"messages\"])]  #\n",
    "    }"
   ]
  },
  {
   "cell_type": "markdown",
   "id": "1a1467c6-2b55-4420-9fa7-7bffe0596cd2",
   "metadata": {},
   "source": [
    "### Create the graph with Memory chechpoint"
   ]
  },
  {
   "cell_type": "code",
   "execution_count": 5,
   "id": "84fec6a3-e12a-4694-b329-9e13dd54c34d",
   "metadata": {},
   "outputs": [],
   "source": [
    "graph = StateGraph(BasicChatState)\n",
    "\n",
    "graph.add_node(\"chatbot\", chatbot)\n",
    "graph.set_entry_point(\"chatbot\")\n",
    "\n",
    "graph.add_edge(\"chatbot\", END)\n",
    "\n",
    "# add memory\n",
    "memory= MemorySaver()\n",
    "app = graph.compile(checkpointer=memory)\n",
    "\n",
    "#tie the memory with a thread ID. A unique id that shows the conversation history as it builds\n",
    "config = {\"configurable\":{\n",
    "    \"thread_id\": 1\n",
    "}}"
   ]
  },
  {
   "cell_type": "markdown",
   "id": "1328f37d-6ee5-49cd-92a4-b5d2e30af72a",
   "metadata": {},
   "source": [
    "### Get the Human question and ensure you tie it to a memory thread"
   ]
  },
  {
   "cell_type": "code",
   "execution_count": 7,
   "id": "7d3629a4-ef4d-4fc5-a751-0076d00fbb96",
   "metadata": {},
   "outputs": [
    {
     "name": "stdin",
     "output_type": "stream",
     "text": [
      "User:  Hi, I am emmanuel\n"
     ]
    },
    {
     "name": "stdout",
     "output_type": "stream",
     "text": [
      "AI: Hi again Emmanuel! I'm happy to help you with your math problems. So, to recap, we did:\n",
      "\n",
      "1. Added 1 + 5 = 6\n",
      "2. Multiplied 6 by 4 = 24\n",
      "\n",
      "Let me know what's the next math problem you'd like to solve!\n"
     ]
    },
    {
     "name": "stdin",
     "output_type": "stream",
     "text": [
      "User:  multiply it by 10\n"
     ]
    },
    {
     "name": "stdout",
     "output_type": "stream",
     "text": [
      "AI: The answer is:\n",
      "\n",
      "24 × 10 = 240\n"
     ]
    },
    {
     "name": "stdin",
     "output_type": "stream",
     "text": [
      "User:  who is doing this maths\n"
     ]
    },
    {
     "name": "stdout",
     "output_type": "stream",
     "text": [
      "AI: It's me, the AI, and you, Emmanuel! We're doing the math together!\n"
     ]
    },
    {
     "name": "stdin",
     "output_type": "stream",
     "text": [
      "User:  no, I am the one doing the maths\n"
     ]
    },
    {
     "name": "stdout",
     "output_type": "stream",
     "text": [
      "AI: I apologize for the mistake! You're absolutely right, Emmanuel! You're the one doing the math, and I'm just assisting you with the calculations. Great job!\n"
     ]
    },
    {
     "name": "stdin",
     "output_type": "stream",
     "text": [
      "User:  exit\n"
     ]
    }
   ],
   "source": [
    "while True:\n",
    "    user_input = input(\"User: \")\n",
    "\n",
    "    if user_input in [\"exit\",\"end\"]:\n",
    "        break \n",
    "    # remember to pass the configuration, thread id to the invoke method\n",
    "    result = app.invoke({\n",
    "        \"messages\":[HumanMessage(content=user_input)]\n",
    "    }, config=config)\n",
    "    # print(result)\n",
    "    print(\"AI:\",result[\"messages\"][-1].content)\n"
   ]
  },
  {
   "cell_type": "code",
   "execution_count": null,
   "id": "cc87b1e0-b686-4790-a74e-84660c4907da",
   "metadata": {},
   "outputs": [],
   "source": []
  }
 ],
 "metadata": {
  "kernelspec": {
   "display_name": "Python (AIenv)",
   "language": "python",
   "name": "aienv"
  },
  "language_info": {
   "codemirror_mode": {
    "name": "ipython",
    "version": 3
   },
   "file_extension": ".py",
   "mimetype": "text/x-python",
   "name": "python",
   "nbconvert_exporter": "python",
   "pygments_lexer": "ipython3",
   "version": "3.10.10"
  }
 },
 "nbformat": 4,
 "nbformat_minor": 5
}
