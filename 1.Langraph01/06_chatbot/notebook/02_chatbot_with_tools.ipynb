{
 "cells": [
  {
   "cell_type": "markdown",
   "id": "a089c24e-a4cb-4320-bb8c-8a9c282ec8b4",
   "metadata": {},
   "source": [
    "### Using  tool with graph.\n",
    "from the node the the graph moves to either a tool node or a end the graph. At the tool node the graph loops back to the llm node"
   ]
  },
  {
   "cell_type": "code",
   "execution_count": 4,
   "id": "c7de67ef",
   "metadata": {},
   "outputs": [
    {
     "data": {
      "text/plain": [
       "True"
      ]
     },
     "execution_count": 4,
     "metadata": {},
     "output_type": "execute_result"
    }
   ],
   "source": [
    "from typing import TypedDict, Annotated\n",
    "from langgraph.graph import add_messages, StateGraph, END\n",
    "from langchain_groq import ChatGroq\n",
    "from langchain_core.messages import HumanMessage, AIMessage\n",
    "from langgraph.prebuilt import ToolNode\n",
    "from langchain_community.tools.tavily_search import TavilySearchResults\n",
    "from dotenv import load_dotenv\n",
    "\n",
    "load_dotenv()"
   ]
  },
  {
   "cell_type": "markdown",
   "id": "24564105",
   "metadata": {},
   "source": [
    "### Create Tavily tools and Initialize LLM and LLM with tools"
   ]
  },
  {
   "cell_type": "code",
   "execution_count": 11,
   "id": "79299554",
   "metadata": {},
   "outputs": [],
   "source": [
    "#Create Tools\n",
    "search_tool  = TavilySearchResults(max_results=2)\n",
    "tools = [search_tool]\n",
    "\n",
    "\n",
    "# llm = ChatGroq(model=\"llama3-8b-8192\")   # 8b model  - faster model\n",
    "llm = ChatGroq(model=\"llama3-70b-8192\")  # 70b model  x8 better but slower\n",
    "llm_with_tools= llm.bind_tools(tools=tools)"
   ]
  },
  {
   "cell_type": "markdown",
   "id": "663a5e05",
   "metadata": {},
   "source": [
    "### Create Nodes"
   ]
  },
  {
   "cell_type": "code",
   "execution_count": 15,
   "id": "afdf7e89",
   "metadata": {},
   "outputs": [],
   "source": [
    "## create the type schema\n",
    "class BasicChatState(TypedDict):\n",
    "    messages: Annotated[list, add_messages]\n",
    "\n",
    "#create chatbot node\n",
    "def chatbot(state:BasicChatState)->BasicChatState:\n",
    "    return {\n",
    "        \"messages\": [llm_with_tools.invoke(state[\"messages\"])]  #\n",
    "    }\n",
    "\n",
    "#create conditional edge (this edge decides movement from chatbot node to either tools node or end)\n",
    "def tools_router(state:BasicChatState):\n",
    "    last_message = state[\"messages\"][-1]\n",
    "\n",
    "    if (hasattr(last_message, \"tool_calls\") and len(last_message.tool_calls) > 0):\n",
    "        return \"tools\"\n",
    "    return \"stop\"\n",
    "\n",
    "#create a tool node\n",
    "tool_node =ToolNode(tools=tools)"
   ]
  },
  {
   "cell_type": "markdown",
   "id": "261dd94c",
   "metadata": {},
   "source": [
    "### Create The Graphs"
   ]
  },
  {
   "cell_type": "code",
   "execution_count": 19,
   "id": "af1caa2c",
   "metadata": {},
   "outputs": [],
   "source": [
    "#create graph\n",
    "graph = StateGraph(BasicChatState)\n",
    "\n",
    "graph.set_entry_point(\"chatbot\")\n",
    "graph.add_node(\"chatbot\", chatbot)\n",
    "graph.add_node(\"tool_node\", tool_node)\n",
    "graph.add_conditional_edges(\n",
    "    \"chatbot\",\n",
    "    tools_router,\n",
    "{\n",
    "    \"tools\":\"tool_node\",\n",
    "    \"stop\": END\n",
    "})\n",
    "graph.add_edge(\"tool_node\", \"chatbot\")\n",
    "\n",
    "app = graph.compile()"
   ]
  },
  {
   "cell_type": "code",
   "execution_count": 20,
   "id": "3563cd76",
   "metadata": {},
   "outputs": [
    {
     "data": {
      "image/png": "[encoded data removed]",
      "text/plain": [
       "<langgraph.graph.state.CompiledStateGraph object at 0x000001536F0DDE70>"
      ]
     },
     "execution_count": 20,
     "metadata": {},
     "output_type": "execute_result"
    }
   ],
   "source": [
    "app"
   ]
  },
  {
   "cell_type": "markdown",
   "id": "82e12cf0",
   "metadata": {},
   "source": [
    "### Take user Input and generate the result"
   ]
  },
  {
   "cell_type": "code",
   "execution_count": 23,
   "id": "3d81866e",
   "metadata": {},
   "outputs": [
    {
     "name": "stdin",
     "output_type": "stream",
     "text": [
      "User:  find me the cheapest flight from Lagos to Abuja on the 30th of July\n"
     ]
    },
    {
     "name": "stdout",
     "output_type": "stream",
     "text": [
      "AI: According to the search results, the cheapest flight from Lagos to Abuja on the 30th of July is $66 with Air Peace for a round-trip flight.\n"
     ]
    },
    {
     "name": "stdin",
     "output_type": "stream",
     "text": [
      "User:  find me the cheapest flight from Lagos to Abuja on the 30th of July. Give me the money in Naira as listed on their site\n"
     ]
    },
    {
     "name": "stdout",
     "output_type": "stream",
     "text": [
      "AI: According to the search results, the cheapest flight from Lagos to Abuja on the 30th of July is $66, which is approximately ₦24,120 (based on an exchange rate of 1 USD = 365 NGN).\n"
     ]
    },
    {
     "name": "stdin",
     "output_type": "stream",
     "text": [
      "User:  please check again and give make your converstion 1 USD = 1,575NGN\n"
     ]
    },
    {
     "name": "stdout",
     "output_type": "stream",
     "text": [
      "AI: 1 USD is approximately 1,534.71 NGN.\n"
     ]
    },
    {
     "name": "stdin",
     "output_type": "stream",
     "text": [
      "User:  ok now find me the cheapest flight on the 30th of July, provide me the link and give me the naira price\n"
     ]
    },
    {
     "name": "stdout",
     "output_type": "stream",
     "text": [
      "AI: Based on the tool call result, I found the cheapest flight on the 30th of July. Here is the information:\n",
      "\n",
      "* Flight from Hamilton (BDA) to Houston (IAH) on 30/07/2025\n",
      "* Price: US $661* (approximately ₦243,390, based on the current exchange rate)\n",
      "* Book now on [Allegiant Air](https://www.allegiantair.com/en/july-flight-deals-emcp)\n",
      "\n",
      "Please note that prices and availability may vary, and I recommend verifying the information with the airline before booking.\n"
     ]
    },
    {
     "name": "stdin",
     "output_type": "stream",
     "text": [
      "User:  list air flights that currently goes from lagos to abuja, provide their website links too\n"
     ]
    },
    {
     "name": "stdout",
     "output_type": "stream",
     "text": [
      "AI: Here is the list of airlines that operate flights from Lagos to Abuja:\n",
      "\n",
      "1. Arik Air\n",
      "2. Air Peace\n",
      "3. Cimber AS\n",
      "4. Kuwait National Airways\n",
      "5. NextJet\n",
      "6. United Nigeria Airlines\n",
      "7. Real Tonga\n",
      "8. Overland Airways\n",
      "9. Val Air\n",
      "10. Ibom Air\n",
      "11. Valuejet\n",
      "12. Aero Nigeria\n",
      "13. Rano Air\n",
      "14. American Airlines\n",
      "15. Delta\n",
      "16. United Airlines\n",
      "17. Southwest\n",
      "18. Alaska Airlines\n",
      "19. Air Canada\n",
      "20. British Airways\n",
      "21. Ryanair\n",
      "22. Qantas\n",
      "23. Emirates\n",
      "\n",
      "Please note that the availability of these airlines may vary depending on the time of year, demand, and other factors. It's always best to check with the airlines or a flight search engine for the most up-to-date and accurate information.\n"
     ]
    },
    {
     "name": "stdin",
     "output_type": "stream",
     "text": [
      "User:  list flight that does local flight from lagos to abuja. also show their url\n"
     ]
    },
    {
     "name": "stdout",
     "output_type": "stream",
     "text": [
      "AI: Here are the local flights from Lagos to Abuja:\n",
      "\n",
      "1. Arik Air - Non-stop, 1 hour 15 minutes\n",
      "2. Air Peace - Non-stop, 1 hour 15 minutes\n",
      "3. NextJet - Non-stop, 1 hour 10 minutes (1 flight per day)\n",
      "4. UTair-Express - Non-stop, 1 hour 10 minutes (0-1 flights per day, Thursday and Sunday)\n",
      "\n",
      "Please note that the flight schedules and availability may change, and it's always best to check with the airlines or a travel booking website for the most up-to-date information.\n",
      "\n",
      "Here are the URLs provided:\n",
      "\n",
      "1. https://www.flightroutes.com/LOS-ABV\n",
      "2. https://www.travelstart.com.ng/lp/cheap-flights-from-lagos-to-abuja\n"
     ]
    },
    {
     "name": "stdin",
     "output_type": "stream",
     "text": [
      "User:  exit\n"
     ]
    }
   ],
   "source": [
    "while True:\n",
    "    user_input = input(\"User: \")\n",
    "\n",
    "    if user_input in [\"exit\",\"end\"]:\n",
    "        break \n",
    "\n",
    "    result = app.invoke({\n",
    "        \"messages\":[HumanMessage(content=user_input)]\n",
    "    })\n",
    "    # print(result)\n",
    "    print(\"AI:\",result[\"messages\"][-1].content)"
   ]
  },
  {
   "cell_type": "code",
   "execution_count": null,
   "id": "2f535289-83a2-4778-82c8-33ebf815174c",
   "metadata": {},
   "outputs": [],
   "source": []
  }
 ],
 "metadata": {
  "kernelspec": {
   "display_name": "Python (AIenv)",
   "language": "python",
   "name": "aienv"
  },
  "language_info": {
   "codemirror_mode": {
    "name": "ipython",
    "version": 3
   },
   "file_extension": ".py",
   "mimetype": "text/x-python",
   "name": "python",
   "nbconvert_exporter": "python",
   "pygments_lexer": "ipython3",
   "version": "3.10.10"
  }
 },
 "nbformat": 4,
 "nbformat_minor": 5
}
