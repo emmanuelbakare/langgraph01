{
 "cells": [
  {
   "cell_type": "markdown",
   "id": "f84905fe-57e1-4da8-9e42-b2eafb93988e",
   "metadata": {},
   "source": [
    "## Pydantic Structured Output\n",
    "This enforces an output format and validates the output to be the specified format type"
   ]
  },
  {
   "cell_type": "code",
   "execution_count": 12,
   "id": "ee69197d-b19e-4d09-b5a4-15a58f043e59",
   "metadata": {
    "scrolled": true
   },
   "outputs": [
    {
     "data": {
      "text/plain": [
       "True"
      ]
     },
     "execution_count": 12,
     "metadata": {},
     "output_type": "execute_result"
    }
   ],
   "source": [
    "from pydantic import  BaseModel, Field\n",
    "from langchain_google_genai import ChatGoogleGenerativeAI\n",
    "from langchain_openai import ChatOpenAI\n",
    "from dotenv import load_dotenv\n",
    "\n",
    "load_dotenv()"
   ]
  },
  {
   "cell_type": "code",
   "execution_count": 51,
   "id": "8a42edc1-8d4c-45b9-b8f4-c07e47b51c91",
   "metadata": {},
   "outputs": [
    {
     "name": "stdout",
     "output_type": "stream",
     "text": [
      "<class '__main__.Country'>\n",
      "description='Nigeria, an African country, is a land of diverse cultures, rich history, and vibrant traditions. It is the most populous country in Africa and is known for its तेल industry and its influence in West African affairs.' name='Nigeria' language='English' capital='Abuja' states=['Lagos', 'Kano', 'Ibadan', 'Kaduna', 'Port Harcourt', 'Benin City', 'Maiduguri', 'Zaria', 'Aba', 'Jos']\n"
     ]
    }
   ],
   "source": [
    "## a pydantic model of a country\n",
    "\n",
    "class Country(BaseModel):\n",
    "    \"\"\"Information about a country \"\"\"\n",
    "    description: str = Field(description=\"Short description about country\")\n",
    "    name: str = Field(description=\"name of the country\")\n",
    "    language: str = Field(description=\"the language the country speaks\")\n",
    "    capital: str = Field(description=\"capital city of the country\")\n",
    "    states: List[str] = Field(description=\"list of all the states or divisions in the country\")\n",
    "\n",
    "\n",
    "llm =  ChatGoogleGenerativeAI(model='gemini-2.5-flash-preview-05-20')\n",
    "# llm = ChatOpenAI(model=\"gpt-4o\")\n",
    "#tell the llm to use the Country model as an output format\n",
    "# i.e. Country is a tool provided to the llm to force the llm to output its response using Country format\n",
    "structured_llm = llm.with_structured_output(Country)\n",
    "response = structured_llm.invoke(\"Tell me about Nigeria\")\n",
    "\n",
    "# or \n",
    "# response = llm.with_structured_output(Country).invoke(\"Tell me about Nigeria\")\n",
    "\n",
    "print(type(response))\n",
    "print(response)"
   ]
  },
  {
   "cell_type": "code",
   "execution_count": 53,
   "id": "520dcfd9-ad74-49a0-a065-e527dc411ef0",
   "metadata": {},
   "outputs": [
    {
     "data": {
      "text/plain": [
       "__main__.Country"
      ]
     },
     "execution_count": 53,
     "metadata": {},
     "output_type": "execute_result"
    }
   ],
   "source": [
    "type(response)"
   ]
  },
  {
   "cell_type": "markdown",
   "id": "3027a490-ac94-4df0-8f79-8f3c7e670326",
   "metadata": {},
   "source": [
    "## Strcutured Output Using typing\n",
    "This enforces output in a structured format but does not ensure validation of the output as in pydantic"
   ]
  },
  {
   "cell_type": "code",
   "execution_count": 58,
   "id": "07ebd9b4-1136-4cd2-b0b7-dd69c5570ece",
   "metadata": {},
   "outputs": [
    {
     "name": "stdout",
     "output_type": "stream",
     "text": [
      "{'punchline': 'To keep an eye on the mouse!', 'setup': 'Why was the cat sitting on the computer?'}\n"
     ]
    }
   ],
   "source": [
    "from typing import TypedDict, Annotated, Optional\n",
    "\n",
    "class Joke(TypedDict):\n",
    "    setup: Annotated[str,...,\"The Setup of the joke\"]\n",
    "    punchline: Annotated[str,...,\"The punchline of the Joke\"]\n",
    "    rating: Annotated[Optional[int],None,\"How funny the joke is. From 1 to 10\"]\n",
    "\n",
    "response = llm.with_structured_output(Joke).invoke(\"tell me a joke about cats\")\n",
    "print(response)"
   ]
  },
  {
   "cell_type": "code",
   "execution_count": 57,
   "id": "5e00ac84-7317-453a-8946-de83476bb487",
   "metadata": {},
   "outputs": [
    {
     "data": {
      "text/plain": [
       "'No ratings'"
      ]
     },
     "execution_count": 57,
     "metadata": {},
     "output_type": "execute_result"
    }
   ],
   "source": [
    "response.get('rating','No ratings')"
   ]
  },
  {
   "cell_type": "code",
   "execution_count": null,
   "id": "8f042940-37e7-4d74-a74d-169b18bd2161",
   "metadata": {},
   "outputs": [],
   "source": []
  }
 ],
 "metadata": {
  "kernelspec": {
   "display_name": "Python (AIenv)",
   "language": "python",
   "name": "aienv"
  },
  "language_info": {
   "codemirror_mode": {
    "name": "ipython",
    "version": 3
   },
   "file_extension": ".py",
   "mimetype": "text/x-python",
   "name": "python",
   "nbconvert_exporter": "python",
   "pygments_lexer": "ipython3",
   "version": "3.10.10"
  }
 },
 "nbformat": 4,
 "nbformat_minor": 5
}
