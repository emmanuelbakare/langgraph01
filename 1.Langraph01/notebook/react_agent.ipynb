{
 "cells": [
  {
   "cell_type": "code",
   "execution_count": 20,
   "id": "0c86c126-3f16-48d6-8251-a6dffb28493a",
   "metadata": {},
   "outputs": [
    {
     "data": {
      "text/plain": [
       "True"
      ]
     },
     "execution_count": 20,
     "metadata": {},
     "output_type": "execute_result"
    }
   ],
   "source": [
    "from langchain_community.tools import TavilySearchResults\n",
    "from langchain.agents import tool, create_react_agent\n",
    "from langchain_openai import ChatOpenAI\n",
    "from langchain import hub\n",
    "from dotenv import load_dotenv\n",
    "import datetime\n",
    "\n",
    "load_dotenv()\n"
   ]
  },
  {
   "cell_type": "markdown",
   "id": "ab0f7b39-3c02-4cec-8d23-cfbaaebaba61",
   "metadata": {},
   "source": [
    "### Create the tools "
   ]
  },
  {
   "cell_type": "code",
   "execution_count": 21,
   "id": "b65946e2-e281-4430-a46c-b4f731c682ac",
   "metadata": {},
   "outputs": [],
   "source": [
    "search_tool = TavilySearchResults(search_depth=\"basic\")\n",
    "\n",
    "@tool\n",
    "def get_system_time(format:str = \"%Y-%m-%d %H:%M:%S\"):\n",
    "    \"\"\" Return the current date and time in the specified format\"\"\"\n",
    "    current_time = datetime.datetime.now()\n",
    "    formatted_time  =current_time.strftime(format)\n",
    "    return formatted_time\n",
    "\n",
    "tools = [search_tool,get_system_time]"
   ]
  },
  {
   "cell_type": "markdown",
   "id": "7a046270-62dc-4e4a-88bf-bc439945664a",
   "metadata": {},
   "source": [
    "### Create the react agent runnable with create_react_agent function"
   ]
  },
  {
   "cell_type": "code",
   "execution_count": 22,
   "id": "ff0f7388-e042-4ca8-b4f1-1efbb2d8e836",
   "metadata": {},
   "outputs": [
    {
     "name": "stderr",
     "output_type": "stream",
     "text": [
      "D:\\codes\\ai\\lib\\site-packages\\langsmith\\client.py:272: LangSmithMissingAPIKeyWarning: API key must be provided when using hosted LangSmith API\n",
      "  warnings.warn(\n"
     ]
    }
   ],
   "source": [
    "llm = ChatOpenAI(model=\"gpt-4o\")\n",
    "react_prompt = hub.pull(\"hwchase17/react\")\n",
    "\n",
    "react_agent_runnable = create_react_agent(llm=llm, tools=tools, prompt=react_prompt)"
   ]
  },
  {
   "cell_type": "markdown",
   "id": "d428b059-8cf3-471e-9268-9179597bb42d",
   "metadata": {},
   "source": [
    "### Define the State- The AgentState"
   ]
  },
  {
   "cell_type": "code",
   "execution_count": 23,
   "id": "15cfe744-cc8c-4a77-9251-82a228985920",
   "metadata": {},
   "outputs": [],
   "source": [
    "from typing import TypedDict, Union, Annotated\n",
    "from langchain_core.agents import AgentAction, AgentFinish\n",
    "import operator \n",
    "\n",
    "class AgentState(TypedDict):\n",
    "    input: str\n",
    "    agent_outcome: Union[AgentAction, AgentAction, None]\n",
    "    intermediate_steps: Annotated[list[tuple[AgentAction,str]], operator.add]\n",
    "\n"
   ]
  },
  {
   "cell_type": "markdown",
   "id": "14111b13-95fd-4a43-adb7-283131b35928",
   "metadata": {},
   "source": [
    "### Create the Node functions "
   ]
  },
  {
   "cell_type": "code",
   "execution_count": 24,
   "id": "9f0cd7f9-f11c-4e67-8ea4-9dd60fdbbadb",
   "metadata": {},
   "outputs": [],
   "source": [
    "# REASON NODE\n",
    "def reason_node(state:AgentState)->AgentState:\n",
    "    agent_outcome = react_agent_runnable.invoke(state)\n",
    "    return {\"agent_outcome\": agent_outcome}\n",
    "\n",
    "\n",
    "#ACT NODE\n",
    "def act_node(state:AgentState)->AgentState:\n",
    "    agent_action = state['agent_outcome']\n",
    "\n",
    "    # extract tool name and input from action\n",
    "    tool_name = agent_action.tool\n",
    "    tool_input = agent_action.tool_input\n",
    "\n",
    "    #find matching tool function\n",
    "    tool_function = None\n",
    "    for tool in tools:\n",
    "        if tool.name ==tool_name:\n",
    "            tool_function = tool \n",
    "            break\n",
    "\n",
    "    #execute the tool with the input\n",
    "    if tool_function:\n",
    "        if isinstance(tool_function, dict):\n",
    "            output = tool_function.invoke(**tool_input)\n",
    "        else:\n",
    "            output = tool_function.invoke(tool_input)\n",
    "    else:\n",
    "        output = f\"Tool {tool_name} not found\"\n",
    "    \n",
    "    return {\"intermediate_steps\":[(agent_action, str(output))]}"
   ]
  },
  {
   "cell_type": "markdown",
   "id": "3efb483a-0c26-4a3b-b772-c0495488f170",
   "metadata": {},
   "source": [
    "### Create the Graph that connects the nodes"
   ]
  },
  {
   "cell_type": "code",
   "execution_count": 25,
   "id": "890a2cf0-419e-4d92-ae84-fc50c8132215",
   "metadata": {},
   "outputs": [],
   "source": [
    "from langgraph.graph import StateGraph, END\n",
    "\n",
    "REASON_NODE=\"reason_node\"\n",
    "ACT_NODE=\"act_node\"\n",
    "\n",
    "def should_continue(state:AgentState)->str:\n",
    "    if isinstance(state['agent_outcome'], AgentFinish):\n",
    "        return \"stop\"\n",
    "    return \"action\" \n",
    "\n",
    "flow = StateGraph(AgentState)\n",
    "\n",
    "flow.add_node(REASON_NODE, reason_node)\n",
    "flow.add_node(ACT_NODE, act_node)\n",
    "\n",
    "flow.set_entry_point(REASON_NODE)\n",
    "flow.add_conditional_edges(\n",
    "    REASON_NODE,\n",
    "    should_continue,\n",
    "    {\n",
    "        \"stop\": END,\n",
    "        \"action\": ACT_NODE\n",
    "\n",
    "    }\n",
    ")\n",
    "flow.add_edge(ACT_NODE,REASON_NODE)\n",
    "\n",
    "app = flow.compile()"
   ]
  },
  {
   "cell_type": "code",
   "execution_count": 26,
   "id": "5f14e00f-ecf7-47b9-95d9-545ad284ff87",
   "metadata": {},
   "outputs": [
    {
     "data": {
      "image/png": "[encoded data removed]",
      "text/plain": [
       "<langgraph.graph.state.CompiledStateGraph object at 0x00000173EFF468F0>"
      ]
     },
     "execution_count": 26,
     "metadata": {},
     "output_type": "execute_result"
    }
   ],
   "source": [
    "app"
   ]
  },
  {
   "cell_type": "markdown",
   "id": "89f157be-8ae8-4e57-8a43-22c2f904f9a8",
   "metadata": {},
   "source": [
    "### Invoke the result"
   ]
  },
  {
   "cell_type": "code",
   "execution_count": 27,
   "id": "ddfd6529-5166-4bb2-8e99-e3aafc625797",
   "metadata": {},
   "outputs": [],
   "source": [
    "result= app.invoke({\n",
    "    \"input\": \"How many days ago was the latest SpaceX launch\",\n",
    "    \"agent_outcome\": None,\n",
    "    \"intermediate_steps\": []\n",
    "}) \n"
   ]
  },
  {
   "cell_type": "code",
   "execution_count": 30,
   "id": "c68c5979-918f-431d-8afd-649c5d185fe6",
   "metadata": {},
   "outputs": [
    {
     "name": "stdout",
     "output_type": "stream",
     "text": [
      "{'input': 'How many days ago was the latest SpaceX launch', 'agent_outcome': AgentFinish(return_values={'output': 'The latest SpaceX launch occurred 21 days ago.'}, log='I now know the final answer. The latest SpaceX launch was on June 10, 2025, and today is July 1, 2025. Therefore, the latest SpaceX launch happened 21 days ago.\\n\\nFinal Answer: The latest SpaceX launch occurred 21 days ago.'), 'intermediate_steps': [(AgentAction(tool='tavily_search_results_json', tool_input='Latest SpaceX launch date', log=\"To determine how many days ago the latest SpaceX launch occurred, I need to find the date of the most recent launch. I will then compare that date to today's date to calculate the number of days that have passed since then.\\nAction: tavily_search_results_json\\nAction Input: Latest SpaceX launch date\"), '[{\\'title\\': \\'SpaceX Launch Schedule\\', \\'url\\': \\'https://rocketlaunch.org/launch-schedule/spacex\\', \\'content\\': \\'The most comprehensive, up-to-date list of upcoming SpaceX rocket launches. Search the 121 scheduled launches, with filters to easily find specific SpaceX missions. Perfect for researchers and space enthusiasts.\\', \\'score\\': 0.42935818}, {\\'title\\': \\'SpaceX Rocket Launch Schedule: Today & Upcoming\\', \\'url\\': \\'https://www.spacelaunchschedule.com/category/spacex/\\', \\'content\\': \"SpaceX Rocket Launch Schedule: Today & Upcoming Discover the upcoming SpaceX rocket launch schedule, featuring today\\'s and upcoming launches. Our page offers detailed insights into each mission, including trajectory, crew details, mission objectives, rocket specifications, launch location, and booster landing updates. Watch live SpaceX video feeds and stay informed about the latest\", \\'score\\': 0.42148095}, {\\'title\\': \\'Launch Schedule - Spaceflight Now\\', \\'url\\': \\'https://spaceflightnow.com/launch-schedule/\\', \\'content\\': \\'Launch time: TBD Launch site: SLC-4E, Vandenberg Space Force Base, California A SpaceX Falcon 9 rocket will launch the second of the two-satellite Sentinel-6 series.\\', \\'score\\': 0.36663565}, {\\'title\\': \\'SpaceX - Launches\\', \\'url\\': \\'https://www.spacex.com/launches/\\', \\'content\\': \\'SpaceX designs, manufactures and launches advanced rockets and spacecraft. The company was founded in 2002 to revolutionize space technology, with the ultimate goal of enabling people to live on other planets.\\', \\'score\\': 0.30900335}, {\\'title\\': \\'Launch Roundup: Gilmour Space to make debut, SpaceX...\\', \\'url\\': \\'https://www.nasaspaceflight.com/2025/06/launch-roundup-063025/\\', \\'content\\': \\'SpaceX is set to kick off the week with two Falcon 9 launches from Florida, with a Starlink mission and the launch of a geostationary weather satellite.\\', \\'score\\': 0.2601267}]'), (AgentAction(tool='tavily_search_results_json', tool_input='Date of last SpaceX launch', log='I was unable to find the exact date of the latest SpaceX launch from the search results. I should search for more specific details or try another source to find the exact date.\\n\\nAction: tavily_search_results_json\\nAction Input: Date of last SpaceX launch'), '[{\\'title\\': \"SpaceX\\'s last launch of 2024 puts Starlink satellites into orbit (video)\", \\'url\\': \\'https://www.space.com/spacex-starlink-launch-group-12-6\\', \\'content\\': \"Launches & Spacecraft SpaceX sends 28 Starlink satellites into low Earth orbit on launch from Florida (video)Image 5: a time lapse photo captures the bright streak of a rocket lifting off into the night sky from Florida Launches & Spacecraft\\'Falcon\\' flies on Star Wars Day: SpaceX launches Starlink satellites from FloridaImage 6: A SpaceX Falcon 9 rocket launches 23 Starlink internet satellites to orbit from Cape Canaveral Space Force Station, June 10, 2025. SpaceX sends 28 Starlink satellites into low Earth orbit on launch from Florida (video)Image 18: a time lapse photo captures the bright streak of a rocket lifting off into the night sky from Florida \\'Falcon\\' flies on Star Wars Day: SpaceX launches Starlink satellites from FloridaImage 19: A SpaceX Falcon 9 rocket launches 23 Starlink internet satellites to orbit from Cape Canaveral Space Force Station, June 10, 2025.\", \\'score\\': 0.75464433}, {\\'title\\': \\'SpaceX - Launches\\', \\'url\\': \\'https://www.spacex.com/launches/\\', \\'content\\': \\'*   Mission Starlink Mission Starlink Mission Starlink Mission Transporter-14 Mission Starlink Mission Starlink Mission Starlink Mission Starlink Mission Starlink Mission Starlink Mission Starlink Mission Starlink Mission Starlink Mission STARLINK MISSION Starlink Mission Starlink Mission Starlink Mission Starlink Mission Starlink Mission Starlink Mission Starlink Mission March 31, 2025 - April 4, 2025 Transporter-13 Mission CREW-10 MISSION CREW-9 MISSION Transporter-11 Mission Transporter-10 Mission Crew-8 Mission USSF-124 Mission USSF-52 Mission Transporter-9 Mission Crew-7 Mission Transporter-8 Mission Transporter-7 Mission Crew-5 Mission Crew-6 Mission USSF-67 MISSION TRANSPORTER-6 MISSION USSF-44 Mission Crew-5 Mission Transporter-5 Mission Crew-4 Mission Transporter-4 Mission DRAGON RETURNS TO EARTH FOR CRS-24 MISSION Transporter-3 Mission Crew-3 Mission Crew-2 Mission Dragon Returns to Earth for CRS-22 Mission Transporter-2 Mission CREW-2 MISSION Transporter-1 Mission Crew-1 Mission\\', \\'score\\': 0.72698855}, {\\'title\\': \\'Launch Schedule - Spaceflight Now\\', \\'url\\': \\'https://spaceflightnow.com/launch-schedule/\\', \\'content\\': \\'*   [[ June 28, 2025 ] SpaceX completes 60th Starlink flight of 2025 Falcon 9](https://spaceflightnow.com/2025/06/28/live-coverage-spacex-to-launch-26-starlink-satellites-on-falcon-9-rocket-from-vandenberg-sfb-4/ \"SpaceX completes 60th Starlink flight of 2025\") *   [[ June 27, 2025 ] SpaceX breaks launchpad turnaround record with midnight Starlink flight Falcon 9](https://spaceflightnow.com/2025/06/27/live-coverage-spacex-to-launch-27-starlink-satellites-on-falcon-9-rocket-from-cape-canaveral-4/ \"SpaceX breaks launchpad turnaround record with midnight Starlink flight\") *   [[ June 25, 2025 ] SpaceX launches 27 Starlink satellites on Falcon 9 rocket from Cape Canaveral Falcon 9](https://spaceflightnow.com/2025/06/25/live-coverage-spacex-to-launch-27-starlink-satellites-on-falcon-9-rocket-from-cape-canaveral-3/ \"SpaceX launches 27 Starlink satellites on Falcon 9 rocket from Cape Canaveral\") A SpaceX Falcon 9 rocket will launch NASA’s TRACERS (Tandem Reconnection and Cusp Electrodynamics Reconnaissance Satellites) as the primary payload on a rideshare mission secured through the agency’s VADR (Venture-Class Acquisition of Dedicated and Rideshare) launch services contract, providing new opportunities for science and technology payloads. *   Image 4SpaceX launches 27 Starlink satellites on Falcon 9 rocket from Cape Canaveral June 25, 2025  \\', \\'score\\': 0.6780931}, {\\'title\\': \\'SpaceX Launch Schedule\\', \\'url\\': \\'https://rocketlaunch.org/launch-schedule/spacex\\', \\'content\\': \"SpaceX Launch Schedule SpaceX Launch Schedule Stay updated on SpaceX\\'s rocket launches with our real-time schedule. Space Launch Complex 4E 33rd commercial resupply services mission to the International Space Station operated by SpaceX. IMAP launch also includes several secondary payloads from NASA, which are: a small lunar orbiter called Lunar Trailblazer, space weather satellite SWFO-L1, GLIDE mission to study far ultraviolet emission in exosphere and a solar sail mission Solar Cruiser. Classified mission launched by the Space Development Agency (SDA) for Tranche 1 Transport Layer. Last Update: Changed launch site. First of six missions launched by the Space Development Agency for the Tranche 1 Transport Layer. SpaceX Launches Falcon 9 Next Launches NASA Launches Kennedy Space Center Launches\", \\'score\\': 0.48206395}, {\\'title\\': \\'SpaceX Rocket Launch Schedule: Today & Upcoming\\', \\'url\\': \\'https://www.spacelaunchschedule.com/category/spacex/\\', \\'content\\': \\'SpaceX Rocket Launch Schedule: Video Feed, Today & Upcoming - Space Launch Schedule Image 1: Space Launch Schedule SpaceX Rocket Launch Schedule: Today & Upcoming ### When is the next SpaceX rocket launch? ### Rocket Launch Schedule *   Upcoming Rocket Launch Schedule *   2025 Rocket Launch Schedule *   Florida Rocket Launch Schedule *   Cape Canaveral Rocket Launch Schedule *   Kennedy Space Center Rocket Launch Schedule *   USA Rocket Launch Schedule *   SpaceX Rocket Launch Schedule *   NASA Rocket Launch Schedule *   ULA Rocket Launch Schedule *   Falcon Heavy Rocket Launch Schedule *   Starship Rocket Launch Schedule *   Falcon Rocket Launch Schedule ### View The Rocket Launch Schedule *   Falcon Launch Schedule *   SpaceX Launch Schedule *   Rocket Lab Launch Schedule\\', \\'score\\': 0.3442235}]'), (AgentAction(tool='get_system_time', tool_input=\"'%Y-%m-%d'\", log=\"I now know that the latest SpaceX launch took place on June 10, 2025. Now, I need to find out the current date to calculate how many days ago this launch occurred.\\n\\nAction: get_system_time\\nAction Input: '%Y-%m-%d'\"), \"'2025-07-01'\")]}\n"
     ]
    }
   ],
   "source": [
    "print(result)"
   ]
  },
  {
   "cell_type": "code",
   "execution_count": 34,
   "id": "7ae8a394-a716-445e-b109-34fdd554bd53",
   "metadata": {},
   "outputs": [
    {
     "data": {
      "text/plain": [
       "'The latest SpaceX launch occurred 21 days ago.'"
      ]
     },
     "execution_count": 34,
     "metadata": {},
     "output_type": "execute_result"
    }
   ],
   "source": [
    "result['agent_outcome'].return_values[\"output\"]"
   ]
  },
  {
   "cell_type": "code",
   "execution_count": null,
   "id": "07e39185-c316-4fe0-80ab-bdd60449dee8",
   "metadata": {},
   "outputs": [],
   "source": []
  }
 ],
 "metadata": {
  "kernelspec": {
   "display_name": "Python (AIenv)",
   "language": "python",
   "name": "aienv"
  },
  "language_info": {
   "codemirror_mode": {
    "name": "ipython",
    "version": 3
   },
   "file_extension": ".py",
   "mimetype": "text/x-python",
   "name": "python",
   "nbconvert_exporter": "python",
   "pygments_lexer": "ipython3",
   "version": "3.10.10"
  }
 },
 "nbformat": 4,
 "nbformat_minor": 5
}
