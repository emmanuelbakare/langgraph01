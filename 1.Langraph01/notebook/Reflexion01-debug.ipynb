{
 "cells": [
  {
   "cell_type": "code",
   "execution_count": 141,
   "id": "cf5d9696-bc51-4585-bfd1-a2ba7bea6a23",
   "metadata": {},
   "outputs": [
    {
     "data": {
      "text/plain": [
       "True"
      ]
     },
     "execution_count": 141,
     "metadata": {},
     "output_type": "execute_result"
    }
   ],
   "source": [
    "from langchain.prompts import ChatPromptTemplate, MessagesPlaceholder\n",
    "import datetime \n",
    "# from langchain_google_genai import ChatGoogleGenerativeAI\n",
    "from langchain_openai import ChatOpenAI\n",
    "from dotenv import load_dotenv\n",
    "from langchain_core.output_parsers.openai_tools import PydanticToolsParser\n",
    "from langchain_core.messages import HumanMessage\n",
    "\n",
    "load_dotenv()"
   ]
  },
  {
   "cell_type": "markdown",
   "id": "bfe13ca9-21e8-4321-aef5-278c20d713d0",
   "metadata": {},
   "source": [
    "### Define the schema"
   ]
  },
  {
   "cell_type": "code",
   "execution_count": 142,
   "id": "3cee8d91-c369-45f4-b207-e886a441f1f3",
   "metadata": {},
   "outputs": [],
   "source": [
    "from typing import  List\n",
    "from pydantic import BaseModel, Field\n",
    "\n",
    "class Reflection(BaseModel):\n",
    "     missing: str = Field(description=\"Critique of what is missing.\")\n",
    "     superfluous: str = Field(description=\"Critique of what is superfluous.\")\n",
    "\n",
    "class AnswerQuestion(BaseModel):\n",
    "     \"\"\" Answer to the Question\"\"\"\n",
    "\n",
    "     answer: str = Field(description=\"~250 word detailed answer to the question\")\n",
    "     search_queries: List[str] = Field(description=\"1-3 search queries for researching improvements to address the critique of your current answer\")\n",
    "     reflect: Reflection = Field(description=\"Your refelcton on the initial answer\")\n",
    "\n",
    "class ReviseAnswer(AnswerQuestion):\n",
    "     \"\"\"Revise your original answer to your question.\"\"\"\n",
    "     references: List[str] = Field(description=\"Citations motivating your update answer.\")\n"
   ]
  },
  {
   "cell_type": "markdown",
   "id": "c9bed4ac-ace8-4bab-862c-12fbc5dfbe0e",
   "metadata": {},
   "source": [
    "## define the prompt template"
   ]
  },
  {
   "cell_type": "code",
   "execution_count": 143,
   "id": "dd39a014-b651-4f07-a9ba-8c2924e89656",
   "metadata": {},
   "outputs": [],
   "source": [
    "actor_prompt_template = ChatPromptTemplate.from_messages(\n",
    "    [\n",
    "        (\"system\",\n",
    "         \"\"\" You are expert AI Researcher\n",
    "         Current Time: {time}\n",
    "         \n",
    "         1. {first_instruction}\n",
    "         2. Reflect and critique your answer. Be severe to maximize improvement.\n",
    "         3. After the reflectiom, **List 1-3 search queires seperately** for researching improvements.\n",
    "         Do not include them inside the reflection\n",
    "         \"\"\"),\n",
    "         MessagesPlaceholder(variable_name=\"messages\"),\n",
    "         (\"system\",\n",
    "          \"Answer the user's question above using thre required format.\")\n",
    "    ]\n",
    ").partial(  # .partials is used to prepopulate prompt template before invoking it on LLM\n",
    "    time=lambda: datetime.datetime.now().isoformat()\n",
    ")"
   ]
  },
  {
   "cell_type": "markdown",
   "id": "c6a63a7f-bde2-4352-9511-7f3a9ccfc550",
   "metadata": {},
   "source": [
    "### build the full prompt template, the llm and the parser"
   ]
  },
  {
   "cell_type": "code",
   "execution_count": 144,
   "id": "76d61f59-e0ee-47dd-8839-5449c73f0ea4",
   "metadata": {},
   "outputs": [],
   "source": [
    "first_responder_prompt_template = actor_prompt_template.partial(\n",
    "    first_instruction=\"Provide a detailed ~250word answer\"\n",
    ") # the full prompt template\n",
    "\n",
    "tools=[AnswerQuestion]  #build the tools\n",
    "llm = ChatOpenAI(model=\"gpt-4o\")  # build the llm\n",
    "pydantic_parser = PydanticToolsParser(tools=tools) # the parser"
   ]
  },
  {
   "cell_type": "markdown",
   "id": "afc1c6e3-c124-4277-abf5-24b7b801a5eb",
   "metadata": {},
   "source": [
    "### Create the first responder chain"
   ]
  },
  {
   "cell_type": "code",
   "execution_count": 145,
   "id": "f1349501-df91-4989-8bbf-0a4e5b6fdd8f",
   "metadata": {},
   "outputs": [],
   "source": [
    "first_responder_chain = first_responder_prompt_template | llm.bind_tools(tools=tools,tool_choice='AnswerQuestion') \n"
   ]
  },
  {
   "cell_type": "markdown",
   "id": "e7710a4e-e6d8-41ce-8410-ccf4c2514c4f",
   "metadata": {},
   "source": [
    "### prompt instruction for the revision and it chain"
   ]
  },
  {
   "cell_type": "code",
   "execution_count": 146,
   "id": "9fd2c8b8-442e-473f-8a77-f05ffa36c918",
   "metadata": {},
   "outputs": [],
   "source": [
    "revise_instructions = \"\"\"\n",
    "Revise your  previous answer using the new information\n",
    "- You should use the revious critique to add important information to your answer.\n",
    "- You MUST inlude numerical citations in your revised answer to ensure it can ver verified\n",
    "- add a \"References\" section to the botton of your anwser (which does not count towards the word limit). \n",
    "in form of:\n",
    "    - [1] https://example.com\n",
    "    - [2] https://example.com\n",
    "- You should use the previous critique to remove superfluous information from your answer and make SURE it is not more th\n",
    "250 words.\n",
    "\"\"\"\n",
    "\n",
    "# add the actor template and the revisor template together\n",
    " # add the actor template and the revisor template together\n",
    "revisor_chain = actor_prompt_template.partial(\n",
    "    first_instruction = revise_instructions\n",
    ") | llm.bind_tools(tools=[ReviseAnswer], tool_choice='ReviseAnswer')"
   ]
  },
  {
   "cell_type": "code",
   "execution_count": 147,
   "id": "017b2b40-eb95-4e8a-9cd7-274917b5d0d2",
   "metadata": {},
   "outputs": [],
   "source": [
    "import json\n",
    "from typing import List, Dict, Any \n",
    "from langchain_core.messages import AIMessage, BaseMessage, ToolMessage, HumanMessage\n",
    "from langchain_community.tools import TavilySearchResults\n",
    "# create the Tavily Search tool\n",
    "tavily_tools = TavilySearchResults(max_results=3)\n",
    "\n",
    "\n",
    "\n",
    "def execute_tools(state:List[BaseMessage]) ->List[BaseMessage]:\n",
    "    #from the list of message, get the last message (which is usally an AIMessage tool message)\n",
    "    last_ai_message = state[-1] \n",
    "\n",
    "    #extract tool calls from the AI Message\n",
    "    # start by checking if the last ai message is a tool call, if not return []\n",
    "    if not hasattr(last_ai_message,\"tool_calls\") or not last_ai_message.tool_calls:\n",
    "        return []\n",
    "    \n",
    "    tool_messages = [] #this will store all the tools\n",
    "    # if last_ai_message is a tool then loop through all the available tools\n",
    "    for tool_call in last_ai_message.tool_calls:\n",
    "        if tool_call[\"name\"] in [\"AnswerQuestion\", \"ReviseAnswer\"]: # is there a tool called AnswerQuestion or ReviseAnswer\n",
    "            call_id = tool_call[\"id\"] #if you found any of then the get their id\n",
    "            search_queries = tool_call[\"args\"].get(\"search_queries\", []) # also get the search_queries list data inside args dict\n",
    "\n",
    "            #loop through the list in search_queries and store the result in query_results\n",
    "            #each search_queries item contain a query string. This will be passed to tavily to generate respond\n",
    "            query_results = {}\n",
    "            for query in search_queries:\n",
    "                result = tavily_tools.invoke(query) # this uses tavily tool to generate a list of 3 response for each query in search_queries\n",
    "                query_results[query]= result # store the response in the query_results dictionary\n",
    "\n",
    "            #create a tool with the generated result\n",
    "            tool_messages.append(\n",
    "                ToolMessage(\n",
    "                    tool_call_id = call_id,\n",
    "                    content = json.dumps(query_results),\n",
    "                )\n",
    "            )\n",
    "    return  state + tool_messages"
   ]
  },
  {
   "cell_type": "markdown",
   "id": "e4dcc3df-37e1-424b-a29c-1d680744921e",
   "metadata": {},
   "source": [
    "## RUN AND DEBUG CODE"
   ]
  },
  {
   "cell_type": "code",
   "execution_count": 148,
   "id": "8240a773-edbb-4459-97c1-81e5fffbb771",
   "metadata": {},
   "outputs": [
    {
     "data": {
      "text/plain": [
       "[HumanMessage(content='Write a blog post on how small businesses can leverage AI to grow', additional_kwargs={}, response_metadata={})]"
      ]
     },
     "execution_count": 148,
     "metadata": {},
     "output_type": "execute_result"
    }
   ],
   "source": [
    "# INITIALIZE THE FIRST MESSAGE\n",
    "initial_message = HumanMessage(content=\"Write a blog post on how small businesses can leverage AI to grow\")\n",
    "\n",
    "# CREATE THE FIRST STATE WITH THE HumanMessage\n",
    "state = [initial_message]  # this returns a list of HumanMessage (at this point it is only one)\n",
    "state"
   ]
  },
  {
   "cell_type": "markdown",
   "id": "340cfa79-f563-4abf-b6f9-fb1517eef616",
   "metadata": {},
   "source": [
    "### pass the state into the first_responder_chain - this responds with an AIMessage output"
   ]
  },
  {
   "cell_type": "code",
   "execution_count": 149,
   "id": "f4817092-1d7f-433a-9dbc-c443968e7fa2",
   "metadata": {},
   "outputs": [],
   "source": [
    "## PASS THE STATE INTO THE DRAFT NODE -first_responder_chain\n",
    "first_responder_output = first_responder_chain.invoke({\"messages\": state})\n",
    " "
   ]
  },
  {
   "cell_type": "markdown",
   "id": "1ed93814-a839-42fc-9b41-24449c8b873d",
   "metadata": {},
   "source": [
    "### add the AIMessage response from first_responder to the state\n",
    "state now contains initial message + first_responder response (which is an AIMessage)"
   ]
  },
  {
   "cell_type": "code",
   "execution_count": 150,
   "id": "88b47edc-61dc-4329-9822-1f2bce6cf76c",
   "metadata": {},
   "outputs": [],
   "source": [
    "state.append(first_responder_output)\n",
    " "
   ]
  },
  {
   "cell_type": "markdown",
   "id": "08221270-b372-4b9b-a632-97d970e0abe3",
   "metadata": {},
   "source": [
    "### execute the execute_tools to build the ToolMessage"
   ]
  },
  {
   "cell_type": "code",
   "execution_count": 151,
   "id": "c8275b2a-812e-49c3-8d8a-b9f485b9ad16",
   "metadata": {},
   "outputs": [],
   "source": [
    "tool_outputs = execute_tools(state)\n"
   ]
  },
  {
   "cell_type": "code",
   "execution_count": 153,
   "id": "541dc889-9665-4bc1-8b6e-2271ab5a6818",
   "metadata": {},
   "outputs": [],
   "source": [
    "\n",
    "## update the state to include tool_output (execute_tool alread added state+its_result \n",
    "state = tool_outputs"
   ]
  },
  {
   "cell_type": "code",
   "execution_count": 154,
   "id": "193bd1e0-9653-4e18-bdb4-14eec5ca1a45",
   "metadata": {},
   "outputs": [
    {
     "data": {
      "text/plain": [
       "3"
      ]
     },
     "execution_count": 154,
     "metadata": {},
     "output_type": "execute_result"
    }
   ],
   "source": [
    "len(state)"
   ]
  },
  {
   "cell_type": "markdown",
   "id": "f939519f-1bf4-4532-8345-f10d5a33871b",
   "metadata": {},
   "source": [
    "### Run the Revisor Chain adding the state"
   ]
  },
  {
   "cell_type": "code",
   "execution_count": 155,
   "id": "644e5296-d89d-4c2e-bb20-facce1643ef0",
   "metadata": {},
   "outputs": [],
   "source": [
    "revisor_output = revisor_chain.invoke({\"messages\": state})"
   ]
  },
  {
   "cell_type": "code",
   "execution_count": 157,
   "id": "bd7574ec-3a48-4929-888a-925499af551c",
   "metadata": {},
   "outputs": [],
   "source": [
    "state.append(revisor_output)"
   ]
  },
  {
   "cell_type": "code",
   "execution_count": 162,
   "id": "6d54bc79-59b0-484a-921d-c2ad3fd94df1",
   "metadata": {},
   "outputs": [
    {
     "data": {
      "text/plain": [
       "4"
      ]
     },
     "execution_count": 162,
     "metadata": {},
     "output_type": "execute_result"
    }
   ],
   "source": [
    "len(state)"
   ]
  },
  {
   "cell_type": "markdown",
   "id": "8e35a285-14d6-41ff-a153-7e5a5f6cce6f",
   "metadata": {},
   "source": [
    "###  Loop Back to execute_tools (if applicable) or end"
   ]
  },
  {
   "cell_type": "code",
   "execution_count": 163,
   "id": "e3cf25f6-b233-4b40-a0b2-3181af17377a",
   "metadata": {},
   "outputs": [
    {
     "data": {
      "text/plain": [
       "5"
      ]
     },
     "execution_count": 163,
     "metadata": {},
     "output_type": "execute_result"
    }
   ],
   "source": [
    "### Run one more executor and add the result to the state\n",
    "tool_outputs = execute_tools(state)\n",
    "state=tool_outputs\n",
    "## check the last state result\n",
    "\n",
    "len(state)"
   ]
  },
  {
   "cell_type": "markdown",
   "id": "cb97a688-2c7c-42ef-ace9-b56fa29f3ddc",
   "metadata": {},
   "source": [
    "### loop through executor and revisor then print out the last record"
   ]
  },
  {
   "cell_type": "code",
   "execution_count": 164,
   "id": "dd6c349e-2906-4ac8-a407-2fc4fc7e682d",
   "metadata": {},
   "outputs": [],
   "source": [
    "last_output = state[-1]"
   ]
  },
  {
   "cell_type": "code",
   "execution_count": 165,
   "id": "80b11535-fdb3-4008-808c-19656c631936",
   "metadata": {},
   "outputs": [
    {
     "data": {
      "text/plain": [
       "ToolMessage(content='{\"Specific AI tools for small businesses\": [{\"title\": \"AI for small business owners: Tools, benefits, and use cases\", \"url\": \"https://printify.com/blog/ai-for-small-business/\", \"content\": \"AI is accessible and practical for small businesses, helping automate assignments, improve decision-making, and reduce costs.\\\\n   Businesses of all sizes can use AI tools like Jasper, Tidio, and Zapier to streamline workflows, answer customer questions, and maximize productivity.\\\\n   Generative AI helps create content quickly, from product descriptions to ad creatives. It supports growth without needing extra staff or time. [...] Start with small wins. Use AI to automate tasks like email responses, social media posts, or customer onboarding. Tools like Zapier, Notion AI, or Tidio allow small businesses to set up workflows that save time and increase efficiency.\\\\n\\\\nOver time, you can build more complex automations across your business operations.\\\\n\\\\n How much does AI cost for businesses?\", \"score\": 0.8961153}, {\"title\": \"11 Powerful AI Tools for Small Business - ddiy.co\", \"url\": \"https://ddiy.co/best-ai-tools-small-business/\", \"content\": \"Table of Contents \\\\\\\\[hide\\\\\\\\]\\\\n\\\\n   Our Favorite AI Tools for Small Businesses\\\\n   How We Chose These Tools for Small Businesses\\\\n   1\\\\\\\\. HubSpot\\\\n   2\\\\\\\\. Jasper AI\\\\n   3\\\\\\\\. Grammarly\\\\n   4\\\\\\\\. ChatGPT\\\\n   5\\\\\\\\. Canva\\\\n   6\\\\\\\\. Zoho CRM\\\\n   7\\\\\\\\. QuickBooks\\\\n   8\\\\\\\\. Hootsuite\\\\n   9\\\\\\\\. Zendesk\\\\n   10\\\\\\\\. Mailchimp\\\\n   11\\\\\\\\. Trello\\\\n   What Are AI Tools for Small Businesses?\\\\n   How Do AI Tools for Small Businesses Work?\\\\n   Features to Look For in AI Tools for Small Businesses\\\\n   Frequently Asked Questions [...] 1.  HubSpot \\\\u2013 Best for comprehensive CRM and marketing\\\\n2.  Jasper AI \\\\u2013 Best for content creation for marketing\\\\n3.  Grammarly \\\\u2013 Best for writing and grammar improvement\\\\n4.  ChatGPT \\\\u2013 Best for automating customer interactions\\\\n5.  Canva \\\\u2013 Best for graphic design and marketing\\\\n6.  Zoho CRM \\\\u2013 Best for sales automation and workflow\\\\n7.  QuickBooks \\\\u2013 Best for small business accounting\\\\n8.  Hootsuite \\\\u2013 Best for social media management\\\\n9.  Zendesk \\\\u2013 Best for customer service and support [...] AI tools for small businesses are software apps powered by artificial intelligence that help do everything from streamlining operations to improving efficiency and even enhancing decision-making.\", \"score\": 0.8757978}, {\"title\": \"12 Best AI Tools for Small Businesses & Startups (2025)\", \"url\": \"https://upmetrics.co/blog/ai-tools-small-business\", \"content\": \"Build your Business Plan Faster\\\\n\\\\nwith step-by-step Guidance & AI Assistance.\\\\n\\\\nTry Upmetrics AI Now Image 21: crossline \\\\n\\\\nFrequently Asked Questions\\\\n--------------------------\\\\n\\\\n### What is the best AI tool for small businesses?\\\\n\\\\nMany incredible AI tools exist for small businesses, including ChatGPT, Jasper, ClickUp, and others.\\\\n\\\\nHowever, business planning being the most crucial aspect of business growth, Upmetrics is a must-have AI business planning tool for small business owners.\", \"score\": 0.8638634}], \"Challenges of implementing AI in small businesses\": [{\"title\": \"AI Adoption in Small Businesses: Opportunities and Challenges\", \"url\": \"https://sudeepbanerjee.com/ai-adoption-in-small-businesses-opportunities-and-challenges/\", \"content\": \"AI presents significant opportunities for small businesses, from enhancing efficiency and productivity to improving customer experiences and decision-making. However, the challenges of high initial costs, lack of expertise, data privacy concerns, and integration issues cannot be ignored.\\\\n\\\\nBy leveraging AIaaS, forming strategic partnerships, prioritizing data security, and investing in training, small businesses can overcome these challenges and successfully adopt AI. [...] One of the most significant barriers to AI adoption for small businesses is the high initial cost. Developing and implementing AI solutions can be expensive, and many small businesses may not have the financial resources to invest in these technologies upfront.\\\\n\\\\n### Lack of Expertise [...] AI technology is complex and requires specialized knowledge to implement and manage effectively. Small businesses often lack the in-house expertise needed to deploy AI solutions, which can be a significant barrier. Hiring or training staff to handle AI can be both time-consuming and costly.\\\\n\\\\n### Data Privacy and Security Concerns\", \"score\": 0.9443876}, {\"title\": \"Empowering Small Businesses: The Impact of AI on Leveling the ...\", \"url\": \"https://orionpolicy.org/empowering-small-businesses-the-impact-of-ai-on-leveling-the-playing-field/\", \"content\": \"Moreover, while AI offers promising opportunities for efficiency improvements and cost savings, it also presents significant implementation challenges. Small businesses may face hurdles related to data privacy, cybersecurity, and workforce readiness. For example, small businesses may lack the infrastructure and expertise to handle large volumes of data securely, posing a risk of data breaches and regulatory non-compliance. [...] The Challenges of AI Adoption\\\\n\\\\nWhile AI offers numerous advantages, such as increased efficiency, personalized customer experiences, and data-driven decision making, its adoption also brings forth challenges. Small businesses may encounter barriers related to affordability, technical expertise, and data privacy concerns. The big companies delving into the depths of AI technology are still reshaping the rules, making it challenging for small businesses to easily adapt.\", \"score\": 0.9401831}, {\"title\": \"A Guide to Adopting AI Solutions for Small Business Owners - Act!\", \"url\": \"https://www.act.com/blog/adopting-ai-for-small-businesses-key-challenges-and-best-practices/\", \"content\": \"And the results show. A survey revealed that businesses that used AI saw a 12-point rise in their likelihood of profit growth over non-adopters.\\\\n\\\\nNevertheless, 90 percent of small business owners reported facing obstacles in integrating AI into their operations. It\\\\u2019s more complex than simply using ChatGPT and Midjourney to create marketing materials in seconds.\\\\n\\\\nIn this article, we\\\\u2019ll outline the key AI adoption challenges for small businesses and effective ways to overcome them. [...] Case in point\\\\u201447 percent of SMB owners cited not knowing how to use AI tools as a significant deterrent to adoption. Other challenges they pointed out included non-compatibility with existing systems (31 percent) and security and privacy concerns (26 percent).\\\\n\\\\nThen, there\\\\u2019s the issue of inaccurate results and bias. AI algorithms are limited by the data sets used to train AI models. They are prone to \\\\u201challucinations\\\\u201d and can generate incorrect or misleading information.\", \"score\": 0.9126935}], \"AI data privacy concerns for small businesses\": [{\"title\": \"The Small Business Guide to AI Data Privacy: Protect Your Business\", \"url\": \"https://common-sense.com/blog/2025/05/the-small-business-guide-to-ai-data-privacy-protect-your-business/index.html\", \"content\": \"Small businesses implementing AI solutions frequently encounter these privacy challenges:\\\\n\\\\n   Unintentional Data Leakage: Customer information inadvertently exposed through AI interactions\\\\n   Algorithmic Bias: AI systems reflecting or amplifying biases present in training data\\\\n   Unauthorized Data Usage: Vendors using your business data to improve their models without explicit permission\\\\n   Insufficient Access Controls: Improper restrictions on who can access AI-processed information [...] > \\\\u201cThe biggest AI privacy risk for small businesses isn\\\\u2019t malicious attacks\\\\u2014it\\\\u2019s accidental mishandling of data due to lack of awareness about how AI systems actually work.\\\\u201d \\\\u2014 Dr.Helen Nissenbaum, Privacy Researcher\\\\n\\\\nThese risks aren\\\\u2019t merely theoretical. In 2023, several small businesses faced regulatory penalties after their AI-powered customer service tools retained and exposed sensitive customer information contrary to their privacy policies. [...] According to a 2024 survey by the Small Business Administration, 67% of small business owners express concern about data privacy when implementing AI, yet only 23% have formal policies in place. This gap between concern and action represents both a challenge and an opportunity for businesses ready to take data privacy seriously.\\\\n\\\\nUnderstanding AI Data Privacy Risks\\\\n-----------------------------------\\\\n\\\\n### What Makes AI Different?\", \"score\": 0.92125154}, {\"title\": \"8 Data Privacy Considerations for Businesses Adopting AI\", \"url\": \"https://ied.eu/blog/data-privacy-considerations-businesses-ai/\", \"content\": \"Concerns with data privacy are increasing as small businesses adopt artificial intelligence (AI) models. Companies might risk personal privacy to feed computers data, and collecting and processing massive amounts of information brings ethical questions into the equation. New concerns arise, and organizations must deal with them, weighing data protection against convenience to find a happy medium.\", \"score\": 0.91362286}, {\"title\": \"Challenges and risks of AI adoption for small businesses\", \"url\": \"https://www.sharp.eu/news-and-events/blog/challenges-and-risks-of-ai-adoption-for-small-businesses\", \"content\": \"The most overlooked privacy risk when using AI tools within a business is in regards to what is happening with the data being used. The AI dataset presents issues in its creation and raises educational concerns about data handling and output sharing. Under EU law, businesses have a legal responsibility to train their employees to use AI tools in a responsible and secure manner. [...] AI tools are being used in businesses to speed up efficiencies and create smarter workflows. However, we are seeing that many businesses are implementing AI without going through the necessary legal procedures they would normally follow for other technologies. This lack of proper legal processes is a challenge as it opens data concerns and confidentiality issues. For example, AI solutions being used without the proper data protection assessments or confidential data becoming public. [...] As AI usage grows and regulations become mandatory, businesses will need to demonstrate compliance with more robust data protection measures. As a result, SMEs lacking the necessary expertise to implement and manage AI technologies effectively, or unsure of how to manage privacy and security effectively will need support and guidance to overcome compliance issues.\", \"score\": 0.89279664}]}', tool_call_id='call_ve0AHWDqmnUw7eUPXsikDQsL')"
      ]
     },
     "execution_count": 165,
     "metadata": {},
     "output_type": "execute_result"
    }
   ],
   "source": [
    "last_output"
   ]
  },
  {
   "cell_type": "code",
   "execution_count": null,
   "id": "e42cfe39-d4bb-491b-b297-bde726485a61",
   "metadata": {},
   "outputs": [],
   "source": []
  },
  {
   "cell_type": "code",
   "execution_count": null,
   "id": "0deb4805-0c12-45a3-a294-5cb3ea93bd9d",
   "metadata": {},
   "outputs": [],
   "source": [
    "tool_outputs"
   ]
  },
  {
   "cell_type": "code",
   "execution_count": 77,
   "id": "97439f52-1b9b-46fe-aac7-67c3bec7d6c1",
   "metadata": {},
   "outputs": [],
   "source": [
    "## display the \n",
    "#get the queries in the \n",
    "# queries = state[-1].tool_calls[0]['args']['search_queries']\n",
    "\n",
    "# query_results = {}\n",
    "# for query in queries:\n",
    "#     result = tavily_tools.invoke(query)\n",
    "#     query_results[query]= result\n",
    "# from IPython.display import display, Markdown\n",
    "\n",
    "# for topic, description in query_results.items():\n",
    "#     display(Markdown(f\"### {topic}\"))  # Bold in Markdown\n",
    "#     # print(description)\n",
    "#     for msg in description:\n",
    "#         # print(msg)\n",
    "#         display(Markdown(f\"**{msg['title']}**\"))\n",
    "#         print(msg['url'])\n",
    "#         display(Markdown(f\"{msg['content']}\"))\n",
    "   \n",
    "#     display(Markdown(f\"___\"))\n"
   ]
  },
  {
   "cell_type": "markdown",
   "id": "a78c17c6-5645-4df1-b09f-f38c9d1f12cc",
   "metadata": {},
   "source": [
    "### Run the Execute_tool to know if to end the code or run a revisor"
   ]
  },
  {
   "cell_type": "code",
   "execution_count": null,
   "id": "b0f67553-873c-493e-be63-652b7cdd7042",
   "metadata": {},
   "outputs": [],
   "source": []
  },
  {
   "cell_type": "code",
   "execution_count": 109,
   "id": "6a72037f-7b25-4ab1-95b0-105bb0107fd5",
   "metadata": {},
   "outputs": [
    {
     "data": {
      "text/plain": [
       "2"
      ]
     },
     "execution_count": 109,
     "metadata": {},
     "output_type": "execute_result"
    }
   ],
   "source": [
    "state.append(first_responder_output)\n",
    "len(state)"
   ]
  },
  {
   "cell_type": "code",
   "execution_count": 108,
   "id": "20f12339-e3df-498f-b02e-722f02681629",
   "metadata": {},
   "outputs": [
    {
     "data": {
      "text/plain": [
       "AIMessage(content='', additional_kwargs={'tool_calls': [{'id': 'call_X4uucKLeZwe1wr8964H47lQ6', 'function': {'arguments': '{\"answer\":\"In today’s rapidly evolving digital landscape, small businesses face unique challenges, yet opportunities abound through the strategic use of artificial intelligence (AI). While AI might seem daunting for smaller enterprises due to perceived costs or complexity, it is, in fact, a powerful ally in optimizing operations, enhancing customer experience, and driving growth. \\\\n\\\\nFirstly, AI can automate routine tasks, freeing up time for business owners and employees to focus on more strategic activities. Tools like chatbots can handle customer inquiries around the clock, improving service levels while reducing the need for extensive human resources. This is particularly beneficial for businesses that operate online, providing immediate responses that help maintain customer engagement.\\\\n\\\\nAI also offers unparalleled insights through data analytics. By analyzing customer data, small businesses can better understand purchasing habits and preferences, allowing for more personalized marketing strategies. AI-driven analytics tools provide actionable insights that can be used to tailor products and marketing campaigns, ultimately boosting sales and customer loyalty.\\\\n\\\\nMoreover, supply chain optimization through AI can reduce costs and waste. Predictive analytics can forecast demand more accurately, ensuring the right amount of product is available at the right time. This minimizes inventory costs and improves cash flow—a crucial factor for small business longevity.\\\\n\\\\nFinally, by incorporating AI in market analysis, businesses can keep abreast of industry trends and consumer behavior changes, enabling them to pivot strategies accordingly. In summary, for small businesses looking to drive growth in a competitive market, leveraging AI is not just a trend but a strategic necessity.\",\"reflect\":{\"missing\":\"Although the answer covers various ways AI can benefit small businesses, it lacks specific examples of AI tools or platforms that are popular among small businesses for each of the discussed benefits. Including specific names or case studies would enhance the practical application of the advice.\",\"superfluous\":\"The explanation is concise and focused, with little to no superfluous information. Each point directly relates to how small businesses can leverage AI for growth. No sections seem unnecessary, and the content remains relevant and informative throughout.\"},\"search_queries\":[\"AI tools for small businesses\",\"Case studies on small businesses using AI\",\"AI platforms for customer engagement for small businesses\"]}', 'name': 'AnswerQuestion'}, 'type': 'function'}], 'refusal': None}, response_metadata={'token_usage': {'completion_tokens': 433, 'prompt_tokens': 235, 'total_tokens': 668, 'completion_tokens_details': {'accepted_prediction_tokens': 0, 'audio_tokens': 0, 'reasoning_tokens': 0, 'rejected_prediction_tokens': 0}, 'prompt_tokens_details': {'audio_tokens': 0, 'cached_tokens': 0}}, 'model_name': 'gpt-4o-2024-08-06', 'system_fingerprint': 'fp_07871e2ad8', 'id': 'chatcmpl-BoEUgDlBrfRf87DnID8WeeA3vv8oE', 'service_tier': 'default', 'finish_reason': 'stop', 'logprobs': None}, id='run--6868747d-f256-4833-a2bf-4452f0d45649-0', tool_calls=[{'name': 'AnswerQuestion', 'args': {'answer': 'In today’s rapidly evolving digital landscape, small businesses face unique challenges, yet opportunities abound through the strategic use of artificial intelligence (AI). While AI might seem daunting for smaller enterprises due to perceived costs or complexity, it is, in fact, a powerful ally in optimizing operations, enhancing customer experience, and driving growth. \\n\\nFirstly, AI can automate routine tasks, freeing up time for business owners and employees to focus on more strategic activities. Tools like chatbots can handle customer inquiries around the clock, improving service levels while reducing the need for extensive human resources. This is particularly beneficial for businesses that operate online, providing immediate responses that help maintain customer engagement.\\n\\nAI also offers unparalleled insights through data analytics. By analyzing customer data, small businesses can better understand purchasing habits and preferences, allowing for more personalized marketing strategies. AI-driven analytics tools provide actionable insights that can be used to tailor products and marketing campaigns, ultimately boosting sales and customer loyalty.\\n\\nMoreover, supply chain optimization through AI can reduce costs and waste. Predictive analytics can forecast demand more accurately, ensuring the right amount of product is available at the right time. This minimizes inventory costs and improves cash flow—a crucial factor for small business longevity.\\n\\nFinally, by incorporating AI in market analysis, businesses can keep abreast of industry trends and consumer behavior changes, enabling them to pivot strategies accordingly. In summary, for small businesses looking to drive growth in a competitive market, leveraging AI is not just a trend but a strategic necessity.', 'reflect': {'missing': 'Although the answer covers various ways AI can benefit small businesses, it lacks specific examples of AI tools or platforms that are popular among small businesses for each of the discussed benefits. Including specific names or case studies would enhance the practical application of the advice.', 'superfluous': 'The explanation is concise and focused, with little to no superfluous information. Each point directly relates to how small businesses can leverage AI for growth. No sections seem unnecessary, and the content remains relevant and informative throughout.'}, 'search_queries': ['AI tools for small businesses', 'Case studies on small businesses using AI', 'AI platforms for customer engagement for small businesses']}, 'id': 'call_X4uucKLeZwe1wr8964H47lQ6', 'type': 'tool_call'}], usage_metadata={'input_tokens': 235, 'output_tokens': 433, 'total_tokens': 668, 'input_token_details': {'audio': 0, 'cache_read': 0}, 'output_token_details': {'audio': 0, 'reasoning': 0}})"
      ]
     },
     "execution_count": 108,
     "metadata": {},
     "output_type": "execute_result"
    }
   ],
   "source": [
    "first_responder_output"
   ]
  },
  {
   "cell_type": "code",
   "execution_count": 117,
   "id": "52b175f8-28d6-47a2-a70c-f0ece755f030",
   "metadata": {},
   "outputs": [
    {
     "data": {
      "text/plain": [
       "AIMessage(content='', additional_kwargs={'tool_calls': [{'id': 'call_X4uucKLeZwe1wr8964H47lQ6', 'function': {'arguments': '{\"answer\":\"In today’s rapidly evolving digital landscape, small businesses face unique challenges, yet opportunities abound through the strategic use of artificial intelligence (AI). While AI might seem daunting for smaller enterprises due to perceived costs or complexity, it is, in fact, a powerful ally in optimizing operations, enhancing customer experience, and driving growth. \\\\n\\\\nFirstly, AI can automate routine tasks, freeing up time for business owners and employees to focus on more strategic activities. Tools like chatbots can handle customer inquiries around the clock, improving service levels while reducing the need for extensive human resources. This is particularly beneficial for businesses that operate online, providing immediate responses that help maintain customer engagement.\\\\n\\\\nAI also offers unparalleled insights through data analytics. By analyzing customer data, small businesses can better understand purchasing habits and preferences, allowing for more personalized marketing strategies. AI-driven analytics tools provide actionable insights that can be used to tailor products and marketing campaigns, ultimately boosting sales and customer loyalty.\\\\n\\\\nMoreover, supply chain optimization through AI can reduce costs and waste. Predictive analytics can forecast demand more accurately, ensuring the right amount of product is available at the right time. This minimizes inventory costs and improves cash flow—a crucial factor for small business longevity.\\\\n\\\\nFinally, by incorporating AI in market analysis, businesses can keep abreast of industry trends and consumer behavior changes, enabling them to pivot strategies accordingly. In summary, for small businesses looking to drive growth in a competitive market, leveraging AI is not just a trend but a strategic necessity.\",\"reflect\":{\"missing\":\"Although the answer covers various ways AI can benefit small businesses, it lacks specific examples of AI tools or platforms that are popular among small businesses for each of the discussed benefits. Including specific names or case studies would enhance the practical application of the advice.\",\"superfluous\":\"The explanation is concise and focused, with little to no superfluous information. Each point directly relates to how small businesses can leverage AI for growth. No sections seem unnecessary, and the content remains relevant and informative throughout.\"},\"search_queries\":[\"AI tools for small businesses\",\"Case studies on small businesses using AI\",\"AI platforms for customer engagement for small businesses\"]}', 'name': 'AnswerQuestion'}, 'type': 'function'}], 'refusal': None}, response_metadata={'token_usage': {'completion_tokens': 433, 'prompt_tokens': 235, 'total_tokens': 668, 'completion_tokens_details': {'accepted_prediction_tokens': 0, 'audio_tokens': 0, 'reasoning_tokens': 0, 'rejected_prediction_tokens': 0}, 'prompt_tokens_details': {'audio_tokens': 0, 'cached_tokens': 0}}, 'model_name': 'gpt-4o-2024-08-06', 'system_fingerprint': 'fp_07871e2ad8', 'id': 'chatcmpl-BoEUgDlBrfRf87DnID8WeeA3vv8oE', 'service_tier': 'default', 'finish_reason': 'stop', 'logprobs': None}, id='run--6868747d-f256-4833-a2bf-4452f0d45649-0', tool_calls=[{'name': 'AnswerQuestion', 'args': {'answer': 'In today’s rapidly evolving digital landscape, small businesses face unique challenges, yet opportunities abound through the strategic use of artificial intelligence (AI). While AI might seem daunting for smaller enterprises due to perceived costs or complexity, it is, in fact, a powerful ally in optimizing operations, enhancing customer experience, and driving growth. \\n\\nFirstly, AI can automate routine tasks, freeing up time for business owners and employees to focus on more strategic activities. Tools like chatbots can handle customer inquiries around the clock, improving service levels while reducing the need for extensive human resources. This is particularly beneficial for businesses that operate online, providing immediate responses that help maintain customer engagement.\\n\\nAI also offers unparalleled insights through data analytics. By analyzing customer data, small businesses can better understand purchasing habits and preferences, allowing for more personalized marketing strategies. AI-driven analytics tools provide actionable insights that can be used to tailor products and marketing campaigns, ultimately boosting sales and customer loyalty.\\n\\nMoreover, supply chain optimization through AI can reduce costs and waste. Predictive analytics can forecast demand more accurately, ensuring the right amount of product is available at the right time. This minimizes inventory costs and improves cash flow—a crucial factor for small business longevity.\\n\\nFinally, by incorporating AI in market analysis, businesses can keep abreast of industry trends and consumer behavior changes, enabling them to pivot strategies accordingly. In summary, for small businesses looking to drive growth in a competitive market, leveraging AI is not just a trend but a strategic necessity.', 'reflect': {'missing': 'Although the answer covers various ways AI can benefit small businesses, it lacks specific examples of AI tools or platforms that are popular among small businesses for each of the discussed benefits. Including specific names or case studies would enhance the practical application of the advice.', 'superfluous': 'The explanation is concise and focused, with little to no superfluous information. Each point directly relates to how small businesses can leverage AI for growth. No sections seem unnecessary, and the content remains relevant and informative throughout.'}, 'search_queries': ['AI tools for small businesses', 'Case studies on small businesses using AI', 'AI platforms for customer engagement for small businesses']}, 'id': 'call_X4uucKLeZwe1wr8964H47lQ6', 'type': 'tool_call'}], usage_metadata={'input_tokens': 235, 'output_tokens': 433, 'total_tokens': 668, 'input_token_details': {'audio': 0, 'cache_read': 0}, 'output_token_details': {'audio': 0, 'reasoning': 0}})"
      ]
     },
     "execution_count": 117,
     "metadata": {},
     "output_type": "execute_result"
    }
   ],
   "source": [
    "state[1]"
   ]
  },
  {
   "cell_type": "code",
   "execution_count": null,
   "id": "3a083a9d-783a-42d5-a77c-53b51e811b74",
   "metadata": {},
   "outputs": [],
   "source": []
  }
 ],
 "metadata": {
  "kernelspec": {
   "display_name": "Python (AIenv)",
   "language": "python",
   "name": "aienv"
  },
  "language_info": {
   "codemirror_mode": {
    "name": "ipython",
    "version": 3
   },
   "file_extension": ".py",
   "mimetype": "text/x-python",
   "name": "python",
   "nbconvert_exporter": "python",
   "pygments_lexer": "ipython3",
   "version": "3.10.10"
  }
 },
 "nbformat": 4,
 "nbformat_minor": 5
}
