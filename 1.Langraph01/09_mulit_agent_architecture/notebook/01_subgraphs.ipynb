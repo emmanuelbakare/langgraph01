{
 "cells": [
  {
   "cell_type": "markdown",
   "id": "9da8f35f-bf96-41c1-b95d-6078d2703060",
   "metadata": {},
   "source": [
    "# Multi Agent Architecture\n",
    "- Combining different Agent Together"
   ]
  },
  {
   "cell_type": "markdown",
   "id": "2451d5e3-3d7e-4e28-ac2c-c20755699979",
   "metadata": {},
   "source": [
    "### Lets start with combinig Subgraphs together"
   ]
  },
  {
   "cell_type": "markdown",
   "id": "91e83bec-4311-4c20-90d1-d481a8d8c021",
   "metadata": {},
   "source": [
    "### Subgraph 1"
   ]
  },
  {
   "cell_type": "code",
   "execution_count": 11,
   "id": "b15892c0-218a-4192-aacb-1022234126e3",
   "metadata": {},
   "outputs": [
    {
     "data": {
      "text/plain": [
       "True"
      ]
     },
     "execution_count": 11,
     "metadata": {},
     "output_type": "execute_result"
    }
   ],
   "source": [
    "from typing import TypedDict, Annotated\n",
    "from langgraph.graph import add_messages, StateGraph, END\n",
    "from langchain_groq import ChatGroq \n",
    "from langchain_core.messages import AIMessage, HumanMessage\n",
    "from dotenv import load_dotenv\n",
    "from langchain_community.tools.tavily_search import TavilySearchResults\n",
    "from langgraph.prebuilt import ToolNode\n",
    "\n",
    "load_dotenv()"
   ]
  },
  {
   "cell_type": "markdown",
   "id": "34ed0962-d23e-4127-9a3d-15647b79181d",
   "metadata": {},
   "source": [
    "#### subgraph1 nodes"
   ]
  },
  {
   "cell_type": "code",
   "execution_count": 17,
   "id": "0483638c-5c0f-417f-a601-ce86839c3c0d",
   "metadata": {},
   "outputs": [],
   "source": [
    "class ChildState(TypedDict):\n",
    "    messages: Annotated[list, add_messages]\n",
    "\n",
    "search_tool  = TavilySearchResults(max_results=2)\n",
    "tools = [search_tool]\n",
    "\n",
    "# llm = ChatGroq(model=\"llama3-8b-8192\")   # 8b model  - faster model\n",
    "llm = ChatGroq(model=\"llama3-70b-8192\")  # 70b model  x8 better but slower\n",
    "\n",
    "llm_with_tools = llm.bind_tools(tools=tools)\n",
    "\n",
    "def agent(state:ChildState):\n",
    "    return {\n",
    "        \"messages\":[llm_with_tools.invoke(state[\"messages\"])]\n",
    "    }\n",
    "\n",
    "def tools_router(state:ChildState):\n",
    "    last_message = state[\"messages\"][-1]\n",
    "\n",
    "    if (hasattr(last_message, \"tool_calls\") and len(last_message.tool_calls) > 0) :\n",
    "        return \"tools\"\n",
    "    else:\n",
    "        return \"stop\"\n",
    "\n",
    "tool_node = ToolNode(tools=tools)\n",
    "\n"
   ]
  },
  {
   "cell_type": "markdown",
   "id": "ee149d32-eb8d-4468-83ea-e3157e751d6a",
   "metadata": {},
   "source": [
    "#### Subgraph1 Graph"
   ]
  },
  {
   "cell_type": "code",
   "execution_count": 18,
   "id": "b100fd99-d80a-4326-84b1-c2e5b21d9858",
   "metadata": {},
   "outputs": [
    {
     "data": {
      "image/png": "[encoded data removed]",
      "text/plain": [
       "<langgraph.graph.state.CompiledStateGraph object at 0x000001F05193F460>"
      ]
     },
     "execution_count": 18,
     "metadata": {},
     "output_type": "execute_result"
    }
   ],
   "source": [
    "subgraph = StateGraph(ChildState)\n",
    "\n",
    "subgraph.add_node(\"agent\", agent)\n",
    "subgraph.add_node(\"tool_node\", tool_node)\n",
    "subgraph.set_entry_point(\"agent\")\n",
    "\n",
    "subgraph.add_conditional_edges(\"agent\", tools_router, { \"tools\":\"tool_node\", \"stop\":END})\n",
    "subgraph.add_edge(\"tool_node\", \"agent\")\n",
    "\n",
    "search_app = subgraph.compile()\n",
    "search_app"
   ]
  },
  {
   "cell_type": "code",
   "execution_count": null,
   "id": "2fc5ecc4-d431-4cd0-9b02-20ba68a04d52",
   "metadata": {},
   "outputs": [],
   "source": [
    "result = search_app.invoke({\n",
    "    \"messages\":[HumanMessage(content=\"What is the temperature in Abuja today\")]\n",
    "})\n",
    "\n",
    "print(result)\n",
    "\n",
    "print(\"=====ANSWER=======\")\n",
    "print(result[\"messages\"][-1].content)"
   ]
  },
  {
   "cell_type": "markdown",
   "id": "c584f854-dc79-4b67-8277-14e6e82c54d3",
   "metadata": {},
   "source": [
    "### Lets create another graph which will search as the parent graph to this subgraph. We will then link subgraph1 to parent graph\n",
    "- this parent graph as the same schema structure as the subgraph"
   ]
  },
  {
   "cell_type": "code",
   "execution_count": 23,
   "id": "9fdfcd5b-ddaa-4b01-b7c4-3eb4d8693e5b",
   "metadata": {},
   "outputs": [
    {
     "data": {
      "text/plain": [
       "True"
      ]
     },
     "execution_count": 23,
     "metadata": {},
     "output_type": "execute_result"
    }
   ],
   "source": [
    "from typing import TypedDict, Annotated\n",
    "from langgraph.graph import add_messages, StateGraph, END, START\n",
    "from langchain_groq import ChatGroq \n",
    "from langchain_core.messages import HumanMessage\n",
    " \n",
    "\n",
    "load_dotenv()"
   ]
  },
  {
   "cell_type": "code",
   "execution_count": 25,
   "id": "c6b960b0-3ba5-43cf-83f2-fd9adcbe76b5",
   "metadata": {},
   "outputs": [
    {
     "data": {
      "image/png": "[encoded data removed]",
      "text/plain": [
       "<langgraph.graph.state.CompiledStateGraph object at 0x000001F05193EA10>"
      ]
     },
     "execution_count": 25,
     "metadata": {},
     "output_type": "execute_result"
    }
   ],
   "source": [
    "class ParentState(TypedDict):\n",
    "    messages: Annotated[list, add_messages]\n",
    "\n",
    "parent_graph = StateGraph(ParentState)\n",
    "\n",
    "#add the subgraph to a node\n",
    "parent_graph.add_node(\"search_agent\", search_app)\n",
    "\n",
    "#connect the flow\n",
    "parent_graph.add_edge(START, \"search_agent\")\n",
    "parent_graph.add_edge(\"search_agent\",END)\n",
    "\n",
    "parent_app = parent_graph.compile()\n",
    "\n",
    "parent_app\n",
    "\n"
   ]
  },
  {
   "cell_type": "code",
   "execution_count": 28,
   "id": "601ee6c8-e763-4d61-8388-f6bebf989f21",
   "metadata": {},
   "outputs": [
    {
     "name": "stdout",
     "output_type": "stream",
     "text": [
      "The current weather in Abuja is partly cloudy with a temperature of 23°C, humidity of 90%, and wind speed of 5.4 kmph from the SSW direction. Visibility is 10 km.\n"
     ]
    }
   ],
   "source": [
    "result = parent_app.invoke({\n",
    "   \"messages\": [HumanMessage(content=\"what is the weather in Abuja today\")]\n",
    "})\n",
    "print(result[\"messages\"][-1].content)"
   ]
  },
  {
   "cell_type": "markdown",
   "id": "af90af06-4794-440b-a450-4eaaa75b387d",
   "metadata": {},
   "source": [
    "# lets link it with another graph but this time it has different schema definition"
   ]
  },
  {
   "cell_type": "code",
   "execution_count": 36,
   "id": "18988855-11fa-4d89-a341-72886e930175",
   "metadata": {},
   "outputs": [
    {
     "data": {
      "image/png": "[encoded data removed]",
      "text/plain": [
       "<langgraph.graph.state.CompiledStateGraph object at 0x000001F051D3B610>"
      ]
     },
     "execution_count": 36,
     "metadata": {},
     "output_type": "execute_result"
    }
   ],
   "source": [
    "from typing import Dict\n",
    "\n",
    "class QueryState(TypedDict):\n",
    "    query: str\n",
    "    response: str\n",
    "\n",
    "#Function to invok subgraph\n",
    "def search_agent(state:QueryState) ->Dict:\n",
    "    # Transform from parent schema to subgraph schema\n",
    "    subgraph_input = {\n",
    "        \"messages\" : [HumanMessage(content=state[\"query\"])]\n",
    "    }\n",
    "\n",
    "    #Invoke the subgraph\n",
    "    subgraph_result = search_app.invoke(subgraph_input)\n",
    "    #Transform response back to parent schema\n",
    "    assistant_message = subgraph_result[\"messages\"][-1]\n",
    "    return {\"response\":assistant_message.content}\n",
    "\n",
    "\n",
    "#create the parent graph\n",
    "\n",
    "parent_graph = StateGraph(QueryState)\n",
    "\n",
    "# add transfomraiton node that invokes subgraph\n",
    "parent_graph.add_node(\"search_agent\",search_agent)\n",
    "\n",
    "#connect the flow\n",
    "parent_graph.add_edge(START, \"search_agent\")\n",
    "parent_graph.add_edge(\"search_agent\", END)\n",
    "\n",
    "parent_app = parent_graph.compile()\n",
    "parent_app"
   ]
  },
  {
   "cell_type": "code",
   "execution_count": 38,
   "id": "1b760fa1-e47c-437f-8b29-be147fba8ecf",
   "metadata": {},
   "outputs": [
    {
     "name": "stdout",
     "output_type": "stream",
     "text": [
      "The weather in Lagos, Nigeria is expected to be patchy rain possible with average temperatures of 28°C / 25°C in July.\n"
     ]
    }
   ],
   "source": [
    "result = parent_app.invoke({\"query\":\"How is the weather in Lagos, Nigeria?\"})\n",
    "\n",
    "print(result[\"response\"])"
   ]
  },
  {
   "cell_type": "code",
   "execution_count": null,
   "id": "efd0f511-83f0-4c55-bce3-473fbd4af997",
   "metadata": {},
   "outputs": [],
   "source": []
  }
 ],
 "metadata": {
  "kernelspec": {
   "display_name": "Python (AIenv)",
   "language": "python",
   "name": "aienv"
  },
  "language_info": {
   "codemirror_mode": {
    "name": "ipython",
    "version": 3
   },
   "file_extension": ".py",
   "mimetype": "text/x-python",
   "name": "python",
   "nbconvert_exporter": "python",
   "pygments_lexer": "ipython3",
   "version": "3.10.10"
  }
 },
 "nbformat": 4,
 "nbformat_minor": 5
}
