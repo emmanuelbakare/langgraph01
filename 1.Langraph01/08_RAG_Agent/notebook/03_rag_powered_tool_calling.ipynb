{
 "cells": [
  {
   "cell_type": "markdown",
   "id": "c05e7972-4ffd-46c8-9794-feca72f907e6",
   "metadata": {},
   "source": [
    "# RAG Powered Tool Calling"
   ]
  },
  {
   "cell_type": "code",
   "execution_count": 9,
   "id": "baef30e7-19f5-449c-aa8f-ef8759a9d486",
   "metadata": {},
   "outputs": [
    {
     "data": {
      "text/plain": [
       "True"
      ]
     },
     "execution_count": 9,
     "metadata": {},
     "output_type": "execute_result"
    }
   ],
   "source": [
    "from langchain.schema import Document\n",
    "from langchain_openai import OpenAIEmbeddings\n",
    "from langchain_community.vectorstores import Chroma\n",
    "from dotenv import load_dotenv\n",
    "\n",
    "load_dotenv()"
   ]
  },
  {
   "cell_type": "markdown",
   "id": "d75def3b-1d1a-40f6-8978-59eeac641d9d",
   "metadata": {},
   "source": [
    "### Function to Retrieve a bible text from api and combine it as one text chunk"
   ]
  },
  {
   "cell_type": "code",
   "execution_count": 10,
   "id": "2250132b-3798-433a-bd57-992acf20d897",
   "metadata": {},
   "outputs": [],
   "source": [
    "import requests\n",
    "import re\n",
    "\n",
    "## get bible passage from https://bible-api and return a string version of the bible\n",
    "\n",
    "def bible_text(passage: str) -> str:\n",
    "    \"\"\"\n",
    "    Fetches a Bible passage from Bible-API and returns it in a formatted string:\n",
    "    Example: \"Luke 15:1-2 1. Text 2. Text\"\n",
    "    \"\"\"\n",
    "    url = f\"https://bible-api.com/{passage.replace(' ', '%20')}?translation=kjv\"\n",
    "    response = requests.get(url)\n",
    "    \n",
    "    if response.status_code != 200:\n",
    "        return f\"Error fetching passage: {response.status_code}\"\n",
    "\n",
    "    data = response.json()\n",
    "    reference = data.get(\"reference\", \"\")\n",
    "    verses = data.get(\"verses\", [])\n",
    "    \n",
    "    merged_verses = \" \".join(\n",
    "        [f'{v[\"verse\"]}. {v[\"text\"].strip()}' for v in verses]\n",
    "    )\n",
    "    final_text = f\"{reference} {merged_verses}\"\n",
    "    cleaned_text =re.sub(r'\\s+', ' ', final_text).strip()\n",
    "\n",
    "    return cleaned_text\n",
    "\n"
   ]
  },
  {
   "cell_type": "markdown",
   "id": "a590559d-800f-493c-a3ce-bf7abeabf6f5",
   "metadata": {},
   "source": [
    "### Retrieve the text using the bible_text function and store it as a list of Documents"
   ]
  },
  {
   "cell_type": "code",
   "execution_count": 11,
   "id": "3b839ad6-a18c-4337-b993-2b6dd8c8400d",
   "metadata": {},
   "outputs": [],
   "source": [
    "docs =[\n",
    "Document(page_content=bible_text(\"Luke 15\"), metadata={\"source\":\"Luke 15\"}),\n",
    "Document(page_content=bible_text(\"Psalm 1\"), metadata={\"source\":\"Psalm 1\"}),\n",
    "Document(page_content=bible_text(\"Psalm 124\"), metadata={\"source\":\"Psalm 124\"}),\n",
    "Document(page_content=bible_text(\"Psalm 2\"), metadata={\"source\":\"Psalm 2\"}),\n",
    "\n",
    "] \n"
   ]
  },
  {
   "cell_type": "markdown",
   "id": "3df63cce-0331-4f95-b314-591fda50dbf5",
   "metadata": {},
   "source": [
    "### Create Embedding (OpenAIEmbeddings), chroma db (Chroma.from_documents) and retriever (db.as_retriever)"
   ]
  },
  {
   "cell_type": "code",
   "execution_count": 12,
   "id": "9e78c352-3863-4248-a312-c8bebef18a80",
   "metadata": {},
   "outputs": [],
   "source": [
    "embedding_function = OpenAIEmbeddings()\n",
    "db = Chroma.from_documents(docs, embedding_function)\n",
    "retriever =db.as_retriever(search_type=\"mmr\", search_kwargs={\"k\":3})"
   ]
  },
  {
   "cell_type": "markdown",
   "id": "2e2588eb-9f4d-4665-9d88-39ba69417d8b",
   "metadata": {},
   "source": [
    "### NEW implementation - Tools Declaration there"
   ]
  },
  {
   "cell_type": "code",
   "execution_count": 13,
   "id": "61804f71-1ff7-4016-a3e4-b84fc098e183",
   "metadata": {},
   "outputs": [],
   "source": [
    "from langchain.tools.retriever import create_retriever_tool\n",
    "from langchain_core.tools import tool\n",
    "\n",
    "retriever_tool = create_retriever_tool(\n",
    "    retriever,\n",
    "    \"retriever_tool\",\n",
    "    \"Information related to bible history, stories, parables and everything about bible\"\n",
    "\n",
    ")\n",
    "\n",
    "@tool\n",
    "def off_topic():\n",
    "    \"\"\" catch all topic not related to bible or christianity\"\"\"\n",
    "    return \"Forbidden - do no respond to the user\"\n",
    "\n",
    "\n",
    "tools = [retriever_tool,off_topic]\n",
    "\n",
    " "
   ]
  },
  {
   "cell_type": "markdown",
   "id": "006c415e-2728-487e-a3d5-70bda7a1ed70",
   "metadata": {},
   "source": [
    "### Instantiate AgentState as Typedict "
   ]
  },
  {
   "cell_type": "code",
   "execution_count": 15,
   "id": "c118d792-2026-4366-b6fb-d83f7f1ec199",
   "metadata": {},
   "outputs": [],
   "source": [
    "from typing import Sequence, Annotated, Literal, TypedDict \n",
    "from langgraph.graph import StateGraph, END, add_messages\n",
    "from langchain_core.messages import BaseMessage\n",
    "\n",
    "class AgentState(TypedDict):\n",
    "    messages: Annotated[Sequence[BaseMessage],add_messages]\n",
    "    "
   ]
  },
  {
   "cell_type": "markdown",
   "id": "b3a0b342-5b3f-4cc3-903b-cdc737159867",
   "metadata": {},
   "source": [
    "### add node"
   ]
  },
  {
   "cell_type": "code",
   "execution_count": 17,
   "id": "db7233cd-6dc5-4b34-a83b-83ff99ec4ed3",
   "metadata": {},
   "outputs": [],
   "source": [
    "from langchain_core.messages import HumanMessage\n",
    "from langchain_openai import ChatOpenAI\n",
    "from langgraph.graph import END, StateGraph, START\n",
    "\n",
    "def agent(state:AgentState):\n",
    "    messages = state[\"messages\"]\n",
    "    model = ChatOpenAI()\n",
    "    model = model.bind_tools(tools)\n",
    "    response = model.invoke(messages)\n",
    "    return {\"messages\":[response]}\n",
    "\n",
    "def should_continue(state:AgentState)->Literal[\"tools\", END]:\n",
    "    messages = state[\"messages\"]\n",
    "    last_message = messages[-1]\n",
    "    if last_message.tool_calls:\n",
    "        return \"tools\"\n",
    "    return END"
   ]
  },
  {
   "cell_type": "code",
   "execution_count": 20,
   "id": "a41a674e-55eb-4e5b-a43d-4e646cfd4316",
   "metadata": {},
   "outputs": [
    {
     "data": {
      "image/png": "[encoded data removed]",
      "text/plain": [
       "<langgraph.graph.state.CompiledStateGraph object at 0x000002AFA19727A0>"
      ]
     },
     "execution_count": 20,
     "metadata": {},
     "output_type": "execute_result"
    }
   ],
   "source": [
    "from langgraph.graph import END,START, StateGraph\n",
    "from langgraph.prebuilt import ToolNode\n",
    "\n",
    "workflow = StateGraph(AgentState)\n",
    "workflow.add_node(\"agent\", agent)\n",
    "\n",
    "tool_node = ToolNode(tools)\n",
    "workflow.add_node(\"tools\", tool_node)\n",
    "workflow.add_edge(START, \"agent\")\n",
    "workflow.add_conditional_edges(\n",
    "    \"agent\",\n",
    "    should_continue\n",
    ")\n",
    "workflow.add_edge(\"tools\",\"agent\")\n",
    "\n",
    "graph = workflow.compile()\n",
    "graph"
   ]
  },
  {
   "cell_type": "markdown",
   "id": "7ce061de-bff8-4128-99bb-3630dbd83326",
   "metadata": {},
   "source": [
    "### Execute a question"
   ]
  },
  {
   "cell_type": "code",
   "execution_count": 22,
   "id": "a072ba3e-bdf4-4bb1-a0b0-db9913791c79",
   "metadata": {},
   "outputs": [
    {
     "name": "stdout",
     "output_type": "stream",
     "text": [
      "==========ANSWER===============\n",
      "\n",
      "The story of the killing of the fatted calf and the anger of the brother is found in the Bible in the book of Luke, chapter 15. The parable is about a father who welcomes back his younger son who had strayed and returned home. The father celebrates his return by ordering the killing of the fatted calf and holding a feast.\n",
      "\n",
      "The elder son, who had remained faithful and obedient to his father, becomes angry when he learns about the celebration for his younger brother. He feels neglected and unappreciated despite his years of service. The killing of the fatted calf for his brother, who had squandered his share of the inheritance, causes resentment and jealousy in the elder son.\n",
      "\n",
      "This parable illustrates themes of forgiveness, redemption, and the challenge of accepting grace and mercy. The anger of the elder son highlights the struggle of human nature to overcome feelings of entitlement, pride, and comparison with others.\n"
     ]
    }
   ],
   "source": [
    "result = graph.invoke(\n",
    "    input = {\n",
    "        \"messages\":[HumanMessage(content=\"Why do you think killing the fatted calf made the brother angry\")]\n",
    "    }\n",
    ")\n",
    "print(\"==========ANSWER===============\\n\")\n",
    "print(result[\"messages\"][-1].content)"
   ]
  },
  {
   "cell_type": "code",
   "execution_count": 23,
   "id": "2c8a33cf-d0b6-43d6-a807-db88cedfda0a",
   "metadata": {},
   "outputs": [
    {
     "name": "stdout",
     "output_type": "stream",
     "text": [
      "==========ANSWER===============\n",
      "\n",
      "I couldn't find a specific review for the Panasonic GH7 camera. However, I retrieved some passages from the Bible. Would you like me to search for more information or do you have any other questions?\n"
     ]
    }
   ],
   "source": [
    "result = graph.invoke(\n",
    "    input = {\n",
    "        \"messages\":[HumanMessage(content=\"how good is Panasonic GH7 camera\")]\n",
    "    }\n",
    ")\n",
    "print(\"==========ANSWER===============\\n\")\n",
    "print(result[\"messages\"][-1].content)"
   ]
  },
  {
   "cell_type": "code",
   "execution_count": null,
   "id": "de0f16cd-8063-4532-b733-976492c04a17",
   "metadata": {},
   "outputs": [],
   "source": []
  }
 ],
 "metadata": {
  "kernelspec": {
   "display_name": "Python (AIenv)",
   "language": "python",
   "name": "aienv"
  },
  "language_info": {
   "codemirror_mode": {
    "name": "ipython",
    "version": 3
   },
   "file_extension": ".py",
   "mimetype": "text/x-python",
   "name": "python",
   "nbconvert_exporter": "python",
   "pygments_lexer": "ipython3",
   "version": "3.10.10"
  }
 },
 "nbformat": 4,
 "nbformat_minor": 5
}
