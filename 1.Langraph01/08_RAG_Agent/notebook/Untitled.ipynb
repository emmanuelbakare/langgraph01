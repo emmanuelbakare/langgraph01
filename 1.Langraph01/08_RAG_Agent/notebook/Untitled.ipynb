{
 "cells": [
  {
   "cell_type": "markdown",
   "id": "95e6f71e-a55c-47cd-a3d0-8e95ab64a45c",
   "metadata": {},
   "source": [
    "# Resume Q and A (RAG)\n",
    "- load the resume\n",
    "- split the resume\n",
    "- get openai embedding\n",
    "- make a chroma db of the resume\n",
    "- get a retriever of the db "
   ]
  },
  {
   "cell_type": "code",
   "execution_count": 1,
   "id": "20d02dd8-107f-44ed-860c-31be0320f66b",
   "metadata": {},
   "outputs": [],
   "source": [
    "# get openai chat and embedding module\n",
    "from langchain_openai import ChatOpenAI, OpenAIEmbeddings\n",
    "#get document splitter chroma and splitter\n",
    "from langchain_community.document_loaders import PyPDFLoader\n",
    "from langchain.text_splitter import RecursiveCharacterTextSplitter\n",
    "from langchain_chroma import Chroma\n",
    "from dotenv import load_dotenv\n"
   ]
  },
  {
   "cell_type": "code",
   "execution_count": null,
   "id": "46297ab5-325a-4e9b-9f3a-774faebc3eb1",
   "metadata": {},
   "outputs": [],
   "source": [
    "load_dotenv()\n",
    "llm = ChatOpenAI(model=\"gpt-4o\", temperature=0)\n",
    "\n",
    "#get the current folder location\n"
   ]
  }
 ],
 "metadata": {
  "kernelspec": {
   "display_name": "Python (AIenv)",
   "language": "python",
   "name": "aienv"
  },
  "language_info": {
   "codemirror_mode": {
    "name": "ipython",
    "version": 3
   },
   "file_extension": ".py",
   "mimetype": "text/x-python",
   "name": "python",
   "nbconvert_exporter": "python",
   "pygments_lexer": "ipython3",
   "version": "3.10.10"
  }
 },
 "nbformat": 4,
 "nbformat_minor": 5
}
