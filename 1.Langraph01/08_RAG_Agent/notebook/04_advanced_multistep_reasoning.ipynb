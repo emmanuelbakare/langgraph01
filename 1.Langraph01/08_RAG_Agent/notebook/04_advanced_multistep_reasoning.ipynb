{
 "cells": [
  {
   "cell_type": "markdown",
   "id": "c05e7972-4ffd-46c8-9794-feca72f907e6",
   "metadata": {},
   "source": [
    "# Advanced Multistep Reasoning"
   ]
  },
  {
   "cell_type": "code",
   "execution_count": 22,
   "id": "baef30e7-19f5-449c-aa8f-ef8759a9d486",
   "metadata": {},
   "outputs": [
    {
     "data": {
      "text/plain": [
       "True"
      ]
     },
     "execution_count": 22,
     "metadata": {},
     "output_type": "execute_result"
    }
   ],
   "source": [
    "from langchain.schema import Document\n",
    "from langchain_openai import OpenAIEmbeddings\n",
    "from langchain_community.vectorstores import Chroma\n",
    "from dotenv import load_dotenv\n",
    "\n",
    "load_dotenv()"
   ]
  },
  {
   "cell_type": "markdown",
   "id": "d75def3b-1d1a-40f6-8978-59eeac641d9d",
   "metadata": {},
   "source": [
    "### Function to Retrieve a bible text from api and combine it as one text chunk"
   ]
  },
  {
   "cell_type": "code",
   "execution_count": 23,
   "id": "2250132b-3798-433a-bd57-992acf20d897",
   "metadata": {},
   "outputs": [],
   "source": [
    "import requests\n",
    "import re\n",
    "\n",
    "## get bible passage from https://bible-api and return a string version of the bible\n",
    "\n",
    "def bible_text(passage: str) -> str:\n",
    "    \"\"\"\n",
    "    Fetches a Bible passage from Bible-API and returns it in a formatted string:\n",
    "    Example: \"Luke 15:1-2 1. Text 2. Text\"\n",
    "    \"\"\"\n",
    "    url = f\"https://bible-api.com/{passage.replace(' ', '%20')}?translation=kjv\"\n",
    "    response = requests.get(url)\n",
    "    \n",
    "    if response.status_code != 200:\n",
    "        return f\"Error fetching passage: {response.status_code}\"\n",
    "\n",
    "    data = response.json()\n",
    "    reference = data.get(\"reference\", \"\")\n",
    "    verses = data.get(\"verses\", [])\n",
    "    \n",
    "    merged_verses = \" \".join(\n",
    "        [f'{v[\"verse\"]}. {v[\"text\"].strip()}' for v in verses]\n",
    "    )\n",
    "    final_text = f\"{reference} {merged_verses}\"\n",
    "    cleaned_text =re.sub(r'\\s+', ' ', final_text).strip()\n",
    "\n",
    "    return cleaned_text\n",
    "\n"
   ]
  },
  {
   "cell_type": "markdown",
   "id": "a590559d-800f-493c-a3ce-bf7abeabf6f5",
   "metadata": {},
   "source": [
    "### Retrieve the text using the bible_text function and store it as a list of Documents"
   ]
  },
  {
   "cell_type": "code",
   "execution_count": 24,
   "id": "3b839ad6-a18c-4337-b993-2b6dd8c8400d",
   "metadata": {},
   "outputs": [],
   "source": [
    "docs =[\n",
    "Document(page_content=bible_text(\"Luke 15\"), metadata={\"source\":\"Luke 15\"}),\n",
    "Document(page_content=bible_text(\"Psalm 1\"), metadata={\"source\":\"Psalm 1\"}),\n",
    "Document(page_content=bible_text(\"Psalm 124\"), metadata={\"source\":\"Psalm 124\"}),\n",
    "Document(page_content=bible_text(\"Psalm 2\"), metadata={\"source\":\"Psalm 2\"}),\n",
    "\n",
    "] \n"
   ]
  },
  {
   "cell_type": "markdown",
   "id": "3df63cce-0331-4f95-b314-591fda50dbf5",
   "metadata": {},
   "source": [
    "### Create Embedding (OpenAIEmbeddings), chroma db (Chroma.from_documents) and retriever (db.as_retriever)"
   ]
  },
  {
   "cell_type": "code",
   "execution_count": 25,
   "id": "9e78c352-3863-4248-a312-c8bebef18a80",
   "metadata": {},
   "outputs": [],
   "source": [
    "embedding_function = OpenAIEmbeddings()\n",
    "db = Chroma.from_documents(docs, embedding_function)\n",
    "retriever =db.as_retriever(search_type=\"mmr\", search_kwargs={\"k\":3})"
   ]
  },
  {
   "cell_type": "markdown",
   "id": "2e2588eb-9f4d-4665-9d88-39ba69417d8b",
   "metadata": {},
   "source": [
    "### NEW implementation - Tools Declaration there"
   ]
  },
  {
   "cell_type": "code",
   "execution_count": 26,
   "id": "61804f71-1ff7-4016-a3e4-b84fc098e183",
   "metadata": {},
   "outputs": [],
   "source": [
    "from langchain_core.prompts import ChatPromptTemplate\n",
    "from langchain_openai import ChatOpenAI\n",
    "\n",
    "llm =ChatOpenAI(model=\"gpt-4o\")\n",
    "\n",
    "template = \"\"\"\n",
    "Answer the question based on the followin context and the Chathistory. Especially take the latest quesiton into considerations:\n",
    "\n",
    "Chathistory: {history}\n",
    "\n",
    "Context: {context}\n",
    "\n",
    "Question: {question}\n",
    "\"\"\"\n",
    "\n",
    "prompt = ChatPromptTemplate.from_template(template)\n",
    "\n",
    "rag_chain = prompt | llm"
   ]
  },
  {
   "cell_type": "markdown",
   "id": "006c415e-2728-487e-a3d5-70bda7a1ed70",
   "metadata": {},
   "source": [
    "### Instantiate AgentState as Typedict "
   ]
  },
  {
   "cell_type": "code",
   "execution_count": 76,
   "id": "c118d792-2026-4366-b6fb-d83f7f1ec199",
   "metadata": {},
   "outputs": [],
   "source": [
    "from typing import Sequence, Annotated, Literal, TypedDict, List \n",
    "from langgraph.graph import StateGraph, END, add_messages\n",
    "from langchain_core.messages import BaseMessage, HumanMessage, SystemMessage, AIMessage\n",
    "from pydantic import BaseModel, Field\n",
    "\n",
    "class AgentState(TypedDict):\n",
    "    question: HumanMessage   # original question\n",
    "    messages: List[BaseMessage] # combination of all generated messages\n",
    "    documents: List[Document]  # list of generated documetn -  the document chunks retrieved\n",
    "    on_topic: str    # is the question on topic\n",
    "    rephrased_question: str # rephrased question here - if original question not robust, question is rephrased\n",
    "    proceed_to_generate: bool # if answer is found, then go and generate answer\n",
    "    rephrase_count: int # number of time question have been rephrased. if total exceeded then end\n",
    "\n",
    "\n",
    "class GradeQuestion(BaseModel):\n",
    "    score: str =Field(description=\"Question is not about the specified topic? if yes -> 'Yes' if no-> 'No'\")\n",
    "\n",
    "\n",
    "def question_rewriter(state:AgentState):\n",
    "    print(f\"Entering question_rewriter with the following state:{state}\")\n",
    "\n",
    "    # reset state variables except for 'question' and 'message'\n",
    "    state[\"documents\"] = []\n",
    "    state[\"on_topic\"] = \"\"\n",
    "    state[\"rephrased_question\"] = \"\"\n",
    "    state[\"proceed_to_generate\"] = False\n",
    "    state[\"rephrased_count\"] = 0\n",
    "\n",
    "    if \"messages\" not in state or state[\"messages\"] is None:\n",
    "        state[\"messages\"]=[]\n",
    "\n",
    "    if state[\"question\"] not in state[\"messages\"]:\n",
    "        state[\"messages\"].append(state[\"question\"])\n",
    "\n",
    "    if len(state[\"messages\"]) > 1:\n",
    "        conversation = state[\"messages\"][-1]\n",
    "        current_question = state[\"question\"].content\n",
    "        messages = [\n",
    "            SystemMessage(\n",
    "                content = \"\"\"You are a helpful assistnat that rephrases the user's question to be \n",
    "                            a standalone question optimized for retrieval.\n",
    "                            \"\"\"\n",
    "            )\n",
    "        ]\n",
    "\n",
    "        messages.extend(conversation)\n",
    "        messages.append(HumanMessage(content=current_question))\n",
    "        rephrase_prompt = ChatPromptTemplate.from_messages(messages)\n",
    "        # rephrase_prompt = ChatPromptTemplate.from_template(messages)\n",
    "        llm = ChatOpenAI(model=\"gpt-4o-mini\")\n",
    "        prompt = rephrase_prompt.format()\n",
    "        response = llm.invoke(prompt)\n",
    "        better_question = response.content.strip()\n",
    "        print(f\"Question_rewwriter: Rephrased Question:{better_question}\")\n",
    "        state[\"rephrased_question\"] =better_question\n",
    "    else:\n",
    "        state[\"rephrased_question\"] = state[\"question\"].content\n",
    "\n",
    "    return state\n",
    "\n",
    "\n",
    "def question_classifier(state:AgentState):\n",
    "    print(\"Entering Question_classifier\")\n",
    "    system_message= SystemMessage(\n",
    "        content= \"\"\"You are a classifier that determines whether a user's question is about bible related topics\n",
    "        If topic is about bible respond with 'Yes' otherwise respond with 'No'\n",
    "        \"\"\"\n",
    "    )\n",
    "\n",
    "    human_message = HumanMessage(content=f\"User Question {state['rephrased_question']}\") \n",
    "    grade_prompt = ChatPromptTemplate.from_messages(\n",
    "        [\n",
    "            system_message,\n",
    "            human_message\n",
    "        ]\n",
    "    )\n",
    "    llm = ChatOpenAI(model=\"gpt-4o\")\n",
    "    structured_llm = llm.with_structured_output(GradeQuestion)\n",
    "    grader_llm = grade_prompt | structured_llm\n",
    "    result = grader_llm.invoke({})\n",
    "    state[\"on_topic\"] = result.score.strip()\n",
    "    print(f\"question_classifier: on_topic = {state['on_topic']}\")\n",
    "    return state\n",
    "\n",
    "def on_topic_router(state:AgentState):\n",
    "    print(\"Entering on_topic_router\")\n",
    "    on_topic = state.get(\"on_topic\",\"\").strip().lower()\n",
    "    if on_topic ==\"yes\":\n",
    "        print(\"Routing to retrieve\")\n",
    "        return \"retrieve\"\n",
    "    else:\n",
    "        print(\"Routing to off_topic_response\")\n",
    "        return \"off_topic_response\"\n",
    "\n",
    "def retrieve(state:AgentState):\n",
    "    print(\"Entering retrieve\")\n",
    "    # print(f\"\\tCurrent State {state}\")\n",
    "    documents = retriever.invoke(state[\"rephrased_question\"])\n",
    "    # print(\"\\t...document created\")\n",
    "    print(f\"retrieve: Retrieve {len(documents)} documents\")\n",
    "    state[\"documents\"] = documents\n",
    "    return state\n",
    "\n",
    "#structured output definition for retriever_grader\n",
    "class GradeDocument(BaseModel):\n",
    "    score: str = Field(description=\"document is relevant to the quesiton? If yest-> 'Yes' if not -> 'No' \")\n",
    "    \n",
    "def retriever_grader(state:AgentState):\n",
    "    print(\"Entering retrieval_grader\")\n",
    "    system_message = SystemMessage(\n",
    "        content = \"\"\"You are a grader assessing the relevance of a retrieved document to a user question\n",
    "        Only answer with 'Yes' or 'No'\n",
    "\n",
    "        If the document contains information relevant to the user's question, respond with 'Yes', otherwise, respond with 'No'\n",
    "        \"\"\"\n",
    "    )\n",
    "\n",
    "    llm = ChatOpenAI(model=\"gpt-4o\")\n",
    "    structured_llm = llm.with_structured_output(GradeDocument)\n",
    "\n",
    "    relevant_docs = []\n",
    "    for doc in state[\"documents\"]:\n",
    "        human_message = HumanMessage(\n",
    "            content=f\"User question: {state['rephrased_question']}\\n\\nRetrieved document:\\n{doc.page_content}\"\n",
    "        )\n",
    "        grade_prompt = ChatPromptTemplate.from_messages(\n",
    "            [\n",
    "                system_message,\n",
    "                human_message\n",
    "            ]\n",
    "        )\n",
    "        grader_llm = grade_prompt | structured_llm\n",
    "        result = grader_llm.invoke({})\n",
    "        print(f\"Grading document {doc.page_content[:30]}... Result: {result.score.strip()}\")\n",
    "\n",
    "        if result.score.strip().lower()==\"yes\":\n",
    "            relevant_docs.append(doc)\n",
    "    state[\"documents\"] = relevant_docs\n",
    "    state[\"proceed_to_generate\"] = len(relevant_docs) > 0\n",
    "    print(f\"retrieval_grader: proceed_to_generate = {state['proceed_to_generate']}\")\n",
    "    return state\n",
    "\n",
    "def proceed_router(state:AgentState):\n",
    "    print(\"Entering Proceed_router\")\n",
    "    rephrase_count = state.get(\"rephrase_count\",0)\n",
    "    if state.get(\"proceed_to_generate\", False):\n",
    "        print(\"Routing to generate_answer\")\n",
    "        return \"generate_answer\"\n",
    "    elif rephrase_count >=2:\n",
    "        print(\"Maximum rephrase attempts reach. Cannot find  documents\")\n",
    "        return \"cannot_answer\"\n",
    "    else:\n",
    "        print(\"Routing to refine_question\")\n",
    "        return \"refine_question\"\n",
    "\n",
    "def refine_question(state:AgentState):\n",
    "    print(\"Entering refine_question\")\n",
    "    rephrase_count = state.get(\"rephrase_count\",0)\n",
    "    if rephrase_count >= 2:\n",
    "        print(\"Maximun rephrase attempts reached\")\n",
    "        return state\n",
    "    question_to_refine = state[\"rephrased_question\"]\n",
    "    system_message = SystemMessage(\n",
    "        content = \"\"\"\n",
    "        You ae a helpful assitant that slightly refines the user's question to improve retrieval result.\n",
    "        Provide a slightly adjusted version of the question.\n",
    "        \"\"\"\n",
    "    )\n",
    "    human_message = HumanMessage(\n",
    "        content= f\"Original question: {question_to_refine}\\n\\nProvide a slightely refined question\"\n",
    "    )\n",
    "    refine_prompt = ChatPromptTemplate.from_messages([system_message, human_message])\n",
    "    llm = ChatOpenAI(model=\"gpt-4o\")\n",
    "    prompt = refine_prompt.format()\n",
    "    response = llm.invoke(prompt)\n",
    "    refined_question = response.content.strip()\n",
    "    print(f\"refine_question: Refined question: {refined_question}\")\n",
    "    state[\"rephrased_question\"] =refined_question\n",
    "    state[\"rephrased_count\"] =refined_count + 1\n",
    "    return state\n",
    "\n",
    "def generate_answer(state: AgentState):\n",
    "    print(\"Entering generate_answer\")\n",
    "    if \"messages\" not in state or state[\"messages\"] is None:\n",
    "        raise ValueError(\"State must include 'messages' before generating an answer.\")\n",
    "\n",
    "    history = state[\"messages\"]\n",
    "    documents = state[\"documents\"]\n",
    "    rephrased_question = state[\"rephrased_question\"]\n",
    "\n",
    "    response = rag_chain.invoke(\n",
    "        {\"history\":history, \"context\": documents, \"question\": rephrased_question}\n",
    "    )\n",
    "    generation = response.content.strip()\n",
    "\n",
    "    state[\"messages\"].append(AIMessage(content=generation))\n",
    "    print(f\"generator_answer: Generated response: {generation}\")\n",
    "    return state\n",
    "\n",
    "def cannot_answer(state:AgentState):\n",
    "    print(\"entering cannot_answer\")\n",
    "    if \"messages\" not in state or state[\"messages\"] is None:\n",
    "        state[\"messages\"] = []\n",
    "    state[\"messages\"].append(\n",
    "        AIMessage(\n",
    "            content = \"I'm sorry, but I cannot find the information you're looking for \"\n",
    "        )\n",
    "    )\n",
    "    return state\n",
    "\n",
    "def off_topic_response(state: AgentState):\n",
    "    print(\"Entering off_topic_response\")\n",
    "    if \"messages\" not in state or state[\"messages\"] is None:\n",
    "        state[\"message\"] = []\n",
    "    state[\"messages\"].append(AIMessage(\n",
    "        content = \"\"\"I'm sorry! I cannot answer this question \"\"\"\n",
    "    ))\n",
    "    return state\n",
    "        \n",
    "        \n",
    "        \n",
    "        \n",
    "    "
   ]
  },
  {
   "cell_type": "code",
   "execution_count": 77,
   "id": "008ecb06-91ff-47cf-8fc4-1842039e8b72",
   "metadata": {},
   "outputs": [],
   "source": [
    "from langgraph.checkpoint.memory import MemorySaver\n",
    "\n",
    "checkpointer = MemorySaver()"
   ]
  },
  {
   "cell_type": "code",
   "execution_count": 78,
   "id": "33357a0d-e0b1-4358-be6b-ae6d97f5f627",
   "metadata": {},
   "outputs": [
    {
     "data": {
      "image/png": "[encoded data removed]",
      "text/plain": [
       "<langgraph.graph.state.CompiledStateGraph object at 0x000002E4A38C8460>"
      ]
     },
     "execution_count": 78,
     "metadata": {},
     "output_type": "execute_result"
    }
   ],
   "source": [
    "workflow = StateGraph(AgentState)\n",
    "workflow.add_node(\"question_rewriter\", question_rewriter)\n",
    "workflow.add_node(\"question_classifier\", question_classifier)\n",
    "workflow.add_node(\"off_topic_response\", off_topic_response)\n",
    "workflow.add_node(\"retrieve\", retrieve)\n",
    "workflow.add_node(\"retriever_grader\", retriever_grader)\n",
    "workflow.add_node(\"generate_answer\", generate_answer)\n",
    "workflow.add_node(\"refine_question\", refine_question)\n",
    "workflow.add_node(\"cannot_answer\", cannot_answer)\n",
    "\n",
    "workflow.add_edge(\"question_rewriter\",\"question_classifier\")\n",
    "workflow.add_conditional_edges(\n",
    "    \"question_classifier\",\n",
    "    on_topic_router,\n",
    "    {\n",
    "        \"retrieve\": \"retrieve\",\n",
    "        \"off_topic_response\": \"off_topic_response\",\n",
    "    })\n",
    "workflow.add_edge(\"retrieve\",\"retriever_grader\")\n",
    "workflow.add_conditional_edges(\n",
    "    \"retriever_grader\",\n",
    "    proceed_router,\n",
    "    {\n",
    "        \"generate_answer\":\"generate_answer\",\n",
    "        \"refine_question\":\"refine_question\",\n",
    "        \"cannot_answer\":\"cannot_answer\",\n",
    "    }\n",
    ")\n",
    "workflow.add_edge(\"refine_question\",\"retrieve\")\n",
    "workflow.add_edge(\"generate_answer\",END)\n",
    "workflow.add_edge(\"cannot_answer\",END)\n",
    "workflow.add_edge(\"off_topic_response\",END)\n",
    "workflow.set_entry_point(\"question_rewriter\")\n",
    "graph = workflow.compile(checkpointer=checkpointer)\n",
    "graph\n",
    "    \n",
    "\n"
   ]
  },
  {
   "cell_type": "code",
   "execution_count": 79,
   "id": "a443947a-187e-47f8-a748-3a8cd4440e72",
   "metadata": {},
   "outputs": [],
   "source": [
    "from uuid import uuid4\n"
   ]
  },
  {
   "cell_type": "code",
   "execution_count": 87,
   "id": "d381665c-7042-4282-a766-42ee3cde6271",
   "metadata": {},
   "outputs": [
    {
     "name": "stdout",
     "output_type": "stream",
     "text": [
      "Entering question_rewriter with the following state:{'question': HumanMessage(content='How much is Sony a7iv camera', additional_kwargs={}, response_metadata={})}\n",
      "Entering Question_classifier\n",
      "question_classifier: on_topic = No\n",
      "Entering on_topic_router\n",
      "Routing to off_topic_response\n",
      "Entering off_topic_response\n",
      "\n",
      "{'question': HumanMessage(content='How much is Sony a7iv camera', additional_kwargs={}, response_metadata={}), 'messages': [HumanMessage(content='How much is Sony a7iv camera', additional_kwargs={}, response_metadata={}), AIMessage(content=\"I'm sorry! I cannot answer this question \", additional_kwargs={}, response_metadata={})], 'documents': [], 'on_topic': 'No', 'rephrased_question': 'How much is Sony a7iv camera', 'proceed_to_generate': False}\n",
      "\n",
      "=======ANSWER==============\n",
      "I'm sorry! I cannot answer this question \n"
     ]
    }
   ],
   "source": [
    "\n",
    "input_data = { \"question\": HumanMessage(content=\"How much is Sony a7iv camera\")}\n",
    "id=uuid4()\n",
    "result = graph.invoke(\n",
    "    input=input_data, \n",
    "    config={\n",
    "        \"configurable\":{\"thread_id\":id}\n",
    "    })\n",
    "\n",
    "print()\n",
    "print(result)\n",
    "print(\"\\n=======ANSWER==============\")\n",
    "print(result['messages'][-1].content)"
   ]
  },
  {
   "cell_type": "code",
   "execution_count": 89,
   "id": "f8ac7da1-6ae1-41f7-ad44-213f09222ded",
   "metadata": {},
   "outputs": [
    {
     "name": "stdout",
     "output_type": "stream",
     "text": [
      "Entering question_rewriter with the following state:{'question': HumanMessage(content='why was the brother angry when the fatted calf was killed for his younger brother. Is there any lesson from it', additional_kwargs={}, response_metadata={})}\n",
      "Entering Question_classifier\n",
      "question_classifier: on_topic = Yes\n",
      "Entering on_topic_router\n",
      "Routing to retrieve\n",
      "Entering retrieve\n",
      "retrieve: Retrieve 3 documents\n",
      "Entering retrieval_grader\n",
      "Grading document Luke 15 1. Then drew near unto... Result: Yes\n",
      "Grading document Psalms 124 1. If it had not be... Result: No\n",
      "Grading document Psalms 1 1. Blessed is the man... Result: No\n",
      "retrieval_grader: proceed_to_generate = True\n",
      "Entering Proceed_router\n",
      "Routing to generate_answer\n",
      "Entering generate_answer\n",
      "generator_answer: Generated response: The elder brother was angry when the fatted calf was killed for his younger brother because he felt it was unfair. Despite his years of loyal service to their father and adherence to his commands, he had never been given such a celebration. Meanwhile, his younger brother, who had wasted his share of the inheritance on reckless living, was being honored with a feast upon his return. This perceived injustice and lack of recognition for his own dedication led to his anger.\n",
      "\n",
      "The lesson from this story, often referred to as the Parable of the Prodigal Son, underscores themes of forgiveness, grace, and rejoicing over the return of the lost. It highlights the father's unconditional love and willingness to forgive, emphasizing that repentance and redemption are valued more than resentment and strict adherence to rules. The story also encourages understanding and compassion, teaching that jealousy and bitterness should not overshadow the joy of seeing someone find their way back.\n",
      "\n",
      "{'question': HumanMessage(content='why was the brother angry when the fatted calf was killed for his younger brother. Is there any lesson from it', additional_kwargs={}, response_metadata={}), 'messages': [HumanMessage(content='why was the brother angry when the fatted calf was killed for his younger brother. Is there any lesson from it', additional_kwargs={}, response_metadata={}), AIMessage(content=\"The elder brother was angry when the fatted calf was killed for his younger brother because he felt it was unfair. Despite his years of loyal service to their father and adherence to his commands, he had never been given such a celebration. Meanwhile, his younger brother, who had wasted his share of the inheritance on reckless living, was being honored with a feast upon his return. This perceived injustice and lack of recognition for his own dedication led to his anger.\\n\\nThe lesson from this story, often referred to as the Parable of the Prodigal Son, underscores themes of forgiveness, grace, and rejoicing over the return of the lost. It highlights the father's unconditional love and willingness to forgive, emphasizing that repentance and redemption are valued more than resentment and strict adherence to rules. The story also encourages understanding and compassion, teaching that jealousy and bitterness should not overshadow the joy of seeing someone find their way back.\", additional_kwargs={}, response_metadata={})], 'documents': [Document(metadata={'source': 'Luke 15'}, page_content='Luke 15 1. Then drew near unto him all the publicans and sinners for to hear him. 2. And the Pharisees and scribes murmured, saying, This man receiveth sinners, and eateth with them. 3. And he spake this parable unto them, saying, 4. What man of you, having an hundred sheep, if he lose one of them, doth not leave the ninety and nine in the wilderness, and go after that which is lost, until he find it? 5. And when he hath found it, he layeth it on his shoulders, rejoicing. 6. And when he cometh home, he calleth together his friends and neighbours, saying unto them, Rejoice with me; for I have found my sheep which was lost. 7. I say unto you, that likewise joy shall be in heaven over one sinner that repenteth, more than over ninety and nine just persons, which need no repentance. 8. Either what woman having ten pieces of silver, if she lose one piece, doth not light a candle, and sweep the house, and seek diligently till she find it? 9. And when she hath found it, she calleth her friends and her neighbours together, saying, Rejoice with me; for I have found the piece which I had lost. 10. Likewise, I say unto you, there is joy in the presence of the angels of God over one sinner that repenteth. 11. And he said, A certain man had two sons: 12. And the younger of them said to his father, Father, give me the portion of goods that falleth to me. And he divided unto them his living. 13. And not many days after the younger son gathered all together, and took his journey into a far country, and there wasted his substance with riotous living. 14. And when he had spent all, there arose a mighty famine in that land; and he began to be in want. 15. And he went and joined himself to a citizen of that country; and he sent him into his fields to feed swine. 16. And he would fain have filled his belly with the husks that the swine did eat: and no man gave unto him. 17. And when he came to himself, he said, How many hired servants of my father’s have bread enough and to spare, and I perish with hunger! 18. I will arise and go to my father, and will say unto him, Father, I have sinned against heaven, and before thee, 19. And am no more worthy to be called thy son: make me as one of thy hired servants. 20. And he arose, and came to his father. But when he was yet a great way off, his father saw him, and had compassion, and ran, and fell on his neck, and kissed him. 21. And the son said unto him, Father, I have sinned against heaven, and in thy sight, and am no more worthy to be called thy son. 22. But the father said to his servants, Bring forth the best robe, and put it on him; and put a ring on his hand, and shoes on his feet: 23. And bring hither the fatted calf, and kill it; and let us eat, and be merry: 24. For this my son was dead, and is alive again; he was lost, and is found. And they began to be merry. 25. Now his elder son was in the field: and as he came and drew nigh to the house, he heard musick and dancing. 26. And he called one of the servants, and asked what these things meant. 27. And he said unto him, Thy brother is come; and thy father hath killed the fatted calf, because he hath received him safe and sound. 28. And he was angry, and would not go in: therefore came his father out, and intreated him. 29. And he answering said to his father, Lo, these many years do I serve thee, neither transgressed I at any time thy commandment: and yet thou never gavest me a kid, that I might make merry with my friends: 30. But as soon as this thy son was come, which hath devoured thy living with harlots, thou hast killed for him the fatted calf. 31. And he said unto him, Son, thou art ever with me, and all that I have is thine. 32. It was meet that we should make merry, and be glad: for this thy brother was dead, and is alive again; and was lost, and is found.')], 'on_topic': 'Yes', 'rephrased_question': 'why was the brother angry when the fatted calf was killed for his younger brother. Is there any lesson from it', 'proceed_to_generate': True}\n",
      "\n",
      "=======ANSWER==============\n",
      "The elder brother was angry when the fatted calf was killed for his younger brother because he felt it was unfair. Despite his years of loyal service to their father and adherence to his commands, he had never been given such a celebration. Meanwhile, his younger brother, who had wasted his share of the inheritance on reckless living, was being honored with a feast upon his return. This perceived injustice and lack of recognition for his own dedication led to his anger.\n",
      "\n",
      "The lesson from this story, often referred to as the Parable of the Prodigal Son, underscores themes of forgiveness, grace, and rejoicing over the return of the lost. It highlights the father's unconditional love and willingness to forgive, emphasizing that repentance and redemption are valued more than resentment and strict adherence to rules. The story also encourages understanding and compassion, teaching that jealousy and bitterness should not overshadow the joy of seeing someone find their way back.\n"
     ]
    }
   ],
   "source": [
    "input_data = {\n",
    "    \"question\": HumanMessage(\n",
    "        content= \"why was the brother angry when the fatted calf was killed for his younger brother. Is there any lesson from it\"\n",
    "    )\n",
    "}\n",
    "\n",
    "id=uuid4()\n",
    "result = graph.invoke(\n",
    "    input=input_data, \n",
    "        config={\n",
    "            \"configurable\":{\"thread_id\":id}\n",
    "        })\n",
    "\n",
    "print()\n",
    "print(result)\n",
    " "
   ]
  },
  {
   "cell_type": "code",
   "execution_count": 84,
   "id": "da841f10-316a-4a55-bb71-7250faca755b",
   "metadata": {},
   "outputs": [
    {
     "data": {
      "text/plain": [
       "\"The brother was angry because he felt a sense of injustice and resentment. Despite having served his father faithfully for many years and never disobeying his commands, he never received such a grand celebration or reward as the fatted calf to celebrate with his friends. Meanwhile, his younger brother, who squandered his father's wealth on irresponsible living, was given a lavish celebration upon his return. This contrast in treatment made the elder brother feel unappreciated and overlooked, fueling his anger and resentment.\""
      ]
     },
     "execution_count": 84,
     "metadata": {},
     "output_type": "execute_result"
    }
   ],
   "source": [
    "result['messages'][-1].content"
   ]
  },
  {
   "cell_type": "markdown",
   "id": "b3a0b342-5b3f-4cc3-903b-cdc737159867",
   "metadata": {},
   "source": [
    "### add node"
   ]
  },
  {
   "cell_type": "code",
   "execution_count": 21,
   "id": "de0f16cd-8063-4532-b733-976492c04a17",
   "metadata": {},
   "outputs": [
    {
     "data": {
      "text/plain": [
       "{'question': HumanMessage(content='How much is GH7 camera', additional_kwargs={}, response_metadata={}),\n",
       " 'messages': [HumanMessage(content='How much is GH7 camera', additional_kwargs={}, response_metadata={}),\n",
       "  AIMessage(content=\"I'm sorry! I cannot answer this question \", additional_kwargs={}, response_metadata={})],\n",
       " 'documents': [],\n",
       " 'on_topic': 'No',\n",
       " 'rephrased_question': 'How much is GH7 camera',\n",
       " 'proceed_to_generate': False}"
      ]
     },
     "execution_count": 21,
     "metadata": {},
     "output_type": "execute_result"
    }
   ],
   "source": [
    "result"
   ]
  },
  {
   "cell_type": "code",
   "execution_count": null,
   "id": "84a95880-9961-4dd8-96f1-54e901fcdcf8",
   "metadata": {},
   "outputs": [],
   "source": []
  }
 ],
 "metadata": {
  "kernelspec": {
   "display_name": "Python (AIenv)",
   "language": "python",
   "name": "aienv"
  },
  "language_info": {
   "codemirror_mode": {
    "name": "ipython",
    "version": 3
   },
   "file_extension": ".py",
   "mimetype": "text/x-python",
   "name": "python",
   "nbconvert_exporter": "python",
   "pygments_lexer": "ipython3",
   "version": "3.10.10"
  }
 },
 "nbformat": 4,
 "nbformat_minor": 5
}
