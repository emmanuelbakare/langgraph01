{
 "cells": [
  {
   "cell_type": "code",
   "execution_count": 90,
   "id": "7033fabd-5644-4017-bf83-48daa22ca76a",
   "metadata": {},
   "outputs": [
    {
     "data": {
      "text/plain": [
       "True"
      ]
     },
     "execution_count": 90,
     "metadata": {},
     "output_type": "execute_result"
    }
   ],
   "source": [
    "from typing import TypedDict, List, Annotated\n",
    "from dotenv import load_dotenv\n",
    "from langgraph.graph import StateGraph, END\n",
    "import operator\n",
    "\n",
    "load_dotenv()"
   ]
  },
  {
   "cell_type": "code",
   "execution_count": 91,
   "id": "9b385449-a5e0-45ff-9ca2-c7af2edf9ff6",
   "metadata": {},
   "outputs": [],
   "source": [
    "class SimpleState(TypedDict):\n",
    "    count: int\n",
    "    sum: int\n",
    "\n",
    "def increment(state:SimpleState)->SimpleState:\n",
    "    state['count'] = state['count'] + 1\n",
    "    return state\n",
    "\n",
    "def summation(state:SimpleState)->SimpleState:\n",
    "    state['sum'] += state['count']\n",
    "    return {\"sum\": state['sum']}"
   ]
  },
  {
   "cell_type": "code",
   "execution_count": 92,
   "id": "b5615655-9691-41cd-b759-ed2332fb8dba",
   "metadata": {},
   "outputs": [],
   "source": [
    "def should_continue(state:SimpleState)->str:\n",
    "    if state['count'] < 5:\n",
    "        return \"continue\"\n",
    "    return \"stop\""
   ]
  },
  {
   "cell_type": "code",
   "execution_count": 93,
   "id": "d0deb519-0c36-4ad2-baa6-6a373052cca9",
   "metadata": {},
   "outputs": [],
   "source": [
    "graph = StateGraph(SimpleState)\n",
    "graph.add_node(\"counter\", increment)\n",
    "graph.add_node(\"summer\", summation)\n",
    "\n",
    "graph.set_entry_point(\"counter\")\n",
    "graph.add_edge(\"counter\",\"summer\")\n",
    "graph.add_conditional_edges(\n",
    "    \"summer\",\n",
    "    should_continue,\n",
    "    {\n",
    "        \"stop\": END,\n",
    "        \"continue\":\"counter\"\n",
    "    }\n",
    ")\n",
    "app = graph.compile()"
   ]
  },
  {
   "cell_type": "code",
   "execution_count": 88,
   "id": "b75061df-588d-4740-a0fe-8bdb75918866",
   "metadata": {},
   "outputs": [
    {
     "data": {
      "image/png": "[encoded data removed]",
      "text/plain": [
       "<langgraph.graph.state.CompiledStateGraph object at 0x0000018F219ECDF0>"
      ]
     },
     "execution_count": 88,
     "metadata": {},
     "output_type": "execute_result"
    }
   ],
   "source": [
    "app"
   ]
  },
  {
   "cell_type": "code",
   "execution_count": 94,
   "id": "0697addd-d0ab-45ef-b0ea-c0618109aa9c",
   "metadata": {},
   "outputs": [
    {
     "name": "stdout",
     "output_type": "stream",
     "text": [
      "{'count': 5, 'sum': 15}\n"
     ]
    }
   ],
   "source": [
    "result= app.invoke({\"count\":0, \"sum\":0})\n",
    "print(result)"
   ]
  },
  {
   "cell_type": "code",
   "execution_count": 84,
   "id": "f312e3ac-d38a-4fee-9d89-48d41d484394",
   "metadata": {},
   "outputs": [
    {
     "ename": "AttributeError",
     "evalue": "type object 'SimpleState' has no attribute 'count'",
     "output_type": "error",
     "traceback": [
      "\u001b[1;31m---------------------------------------------------------------------------\u001b[0m",
      "\u001b[1;31mAttributeError\u001b[0m                            Traceback (most recent call last)",
      "Cell \u001b[1;32mIn[84], line 1\u001b[0m\n\u001b[1;32m----> 1\u001b[0m \u001b[43mSimpleState\u001b[49m\u001b[38;5;241;43m.\u001b[39;49m\u001b[43mcount\u001b[49m\n",
      "\u001b[1;31mAttributeError\u001b[0m: type object 'SimpleState' has no attribute 'count'"
     ]
    }
   ],
   "source": [
    "SimpleState.count"
   ]
  },
  {
   "cell_type": "code",
   "execution_count": null,
   "id": "750b66c5-8b1f-44e1-b9b7-adc8585c06fa",
   "metadata": {},
   "outputs": [],
   "source": []
  }
 ],
 "metadata": {
  "kernelspec": {
   "display_name": "Python (AIenv)",
   "language": "python",
   "name": "aienv"
  },
  "language_info": {
   "codemirror_mode": {
    "name": "ipython",
    "version": 3
   },
   "file_extension": ".py",
   "mimetype": "text/x-python",
   "name": "python",
   "nbconvert_exporter": "python",
   "pygments_lexer": "ipython3",
   "version": "3.10.10"
  }
 },
 "nbformat": 4,
 "nbformat_minor": 5
}
