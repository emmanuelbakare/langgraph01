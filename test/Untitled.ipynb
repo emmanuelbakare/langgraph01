{
 "cells": [
  {
   "cell_type": "code",
   "execution_count": 2,
   "id": "95cfebf8-75a1-4327-a508-f6a8323f361a",
   "metadata": {},
   "outputs": [],
   "source": [
    "from typing import TypedDict, List, Dict\n",
    "\n",
    "class AgentState(TypedDict):\n",
    "    messages: List[Dict[str, str]]"
   ]
  },
  {
   "cell_type": "code",
   "execution_count": 3,
   "id": "256504fa-85ee-4484-ae1b-0f6be04c9c02",
   "metadata": {},
   "outputs": [],
   "source": [
    "def node1(state: AgentState) -> AgentState:\n",
    "    user_message = state[\"messages\"][-1][\"content\"]\n",
    "    if \"add\" in user_message:\n",
    "        numbers = [int(s) for s in user_message.split() if s.isdigit()]\n",
    "        result = sum(numbers)\n",
    "        response = {\"role\": \"assistant\", \"content\": str(result)}\n",
    "    else:\n",
    "        response = {\"role\": \"assistant\", \"content\": \"I don't understand.\"}\n",
    "    \n",
    "    return {\"messages\": state[\"messages\"] + [response]}"
   ]
  },
  {
   "cell_type": "code",
   "execution_count": 12,
   "id": "f7a40d14-8a34-4835-b3c7-a355ce155a46",
   "metadata": {},
   "outputs": [],
   "source": [
    "def node2(state: AgentState):\n",
    "    user_message = state[\"messages\"][-1][\"content\"]\n",
    "    print(user_message)\n",
    "    return user_message\n",
    "     "
   ]
  },
  {
   "cell_type": "code",
   "execution_count": 22,
   "id": "eca381bc-15dd-4faa-abba-a8235d7e7e2e",
   "metadata": {},
   "outputs": [
    {
     "name": "stdout",
     "output_type": "stream",
     "text": [
      "add 2 and 4\n",
      "[2, 4]\n"
     ]
    }
   ],
   "source": [
    "input_state = {\n",
    "    \"messages\": [\n",
    "        {\"role\": \"user\", \"content\": \"add 2 and 4\"}\n",
    "    ]\n",
    "}\n",
    "# node2(input_state).split()\n",
    "sum  = [ int(num)  for num in node2(input_state).split() if num.isdigit()]\n",
    "print(sum)\n"
   ]
  },
  {
   "cell_type": "code",
   "execution_count": 23,
   "id": "ac4589ae-4ec4-478c-86fd-c51fd20a9326",
   "metadata": {},
   "outputs": [
    {
     "ename": "TypeError",
     "evalue": "'list' object is not callable",
     "output_type": "error",
     "traceback": [
      "\u001b[1;31m---------------------------------------------------------------------------\u001b[0m",
      "\u001b[1;31mTypeError\u001b[0m                                 Traceback (most recent call last)",
      "Cell \u001b[1;32mIn[23], line 1\u001b[0m\n\u001b[1;32m----> 1\u001b[0m \u001b[38;5;28;43msum\u001b[39;49m\u001b[43m(\u001b[49m\u001b[43m[\u001b[49m\u001b[38;5;241;43m10\u001b[39;49m\u001b[43m,\u001b[49m\u001b[38;5;241;43m2\u001b[39;49m\u001b[43m]\u001b[49m\u001b[43m)\u001b[49m\n",
      "\u001b[1;31mTypeError\u001b[0m: 'list' object is not callable"
     ]
    }
   ],
   "source": [
    "sum([10,2])"
   ]
  },
  {
   "cell_type": "code",
   "execution_count": null,
   "id": "8c17db5d-917f-423a-a80b-50c951c2e60b",
   "metadata": {},
   "outputs": [],
   "source": []
  }
 ],
 "metadata": {
  "kernelspec": {
   "display_name": "Python 3 (ipykernel)",
   "language": "python",
   "name": "python3"
  },
  "language_info": {
   "codemirror_mode": {
    "name": "ipython",
    "version": 3
   },
   "file_extension": ".py",
   "mimetype": "text/x-python",
   "name": "python",
   "nbconvert_exporter": "python",
   "pygments_lexer": "ipython3",
   "version": "3.12.4"
  }
 },
 "nbformat": 4,
 "nbformat_minor": 5
}
