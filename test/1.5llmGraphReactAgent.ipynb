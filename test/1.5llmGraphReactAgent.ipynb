{
 "cells": [
  {
   "cell_type": "code",
   "execution_count": 4,
   "id": "35cdef9b-775c-47c7-a8d2-b2869559b552",
   "metadata": {},
   "outputs": [
    {
     "data": {
      "text/plain": [
       "True"
      ]
     },
     "execution_count": 4,
     "metadata": {},
     "output_type": "execute_result"
    }
   ],
   "source": [
    "from typing import TypedDict, Sequence, Annotated\n",
    "from dotenv import load_dotenv\n",
    "from langchain_core.messages import BaseMessage, SystemMessage, ToolMessage\n",
    "from langchain.agents import tool, initialize_agent\n",
    "from langgraph.graph.message import add_messages\n",
    "from langgraph.graph import StateGraph, START, END\n",
    "from langgraph.prebuilt import ToolNode\n",
    "from langchain_google_genai import ChatGoogleGenerativeAI\n",
    "from langchain_openai import ChatOpenAI\n",
    "\n",
    "load_dotenv()"
   ]
  },
  {
   "cell_type": "markdown",
   "id": "ebd4f899-def6-42f3-aff4-38f217690540",
   "metadata": {},
   "source": [
    "### add all the function tools that will be used"
   ]
  },
  {
   "cell_type": "code",
   "execution_count": 5,
   "id": "510cf49b-5052-4e8d-b0de-d67abdeb64f6",
   "metadata": {},
   "outputs": [],
   "source": [
    "@tool\n",
    "def add(a:int, b:int):\n",
    "    \"\"\"This is an Addition function that adds two numbers together\"\"\"\n",
    "    return a + b \n",
    "\n",
    "@tool\n",
    "def subtract(a:int, b:int):\n",
    "    \"\"\"This is an Substration function that Substract one number from the other\"\"\"\n",
    "    return a - b \n",
    "\n",
    "@tool\n",
    "def multiply(a:int, b:int):\n",
    "    \"\"\"This is an Multiplication function that multiplies two numbers\"\"\"\n",
    "    return a * b \n",
    "\n",
    "\n",
    "\n",
    "@tool\n",
    "def divide(a:int, b:int):\n",
    "    \"\"\"This is an Division function that divides one numbers from the other\"\"\"\n",
    "    return a / b \n",
    "\n",
    "tools = [add,subtract, multiply, divide]"
   ]
  },
  {
   "cell_type": "markdown",
   "id": "58a9422f-3472-46c8-b040-2535bf94460b",
   "metadata": {},
   "source": [
    "#### create the model, bind the tools to the modela and create AgentState Typed Dictionary (called state) that serves as a memory for the graph"
   ]
  },
  {
   "cell_type": "code",
   "execution_count": 6,
   "id": "2509a713-ec1a-422a-b962-b05afe4739ae",
   "metadata": {},
   "outputs": [],
   "source": [
    "model = ChatGoogleGenerativeAI(model=\"gemini-2.5-flash-preview-05-20\").bind_tools(tools) # For Gemini\n",
    "\n",
    "\n",
    "class AgentState(TypedDict):\n",
    "    #this property uses add_meessage to concatenate messages passed to 'messages' instead of overwriting them\n",
    "    messages: Annotated[Sequence[BaseMessage], add_messages]"
   ]
  },
  {
   "cell_type": "markdown",
   "id": "afa42211-809d-48ce-98ff-23d7eaa946b8",
   "metadata": {},
   "source": [
    "#### Create the nodes"
   ]
  },
  {
   "cell_type": "code",
   "execution_count": 7,
   "id": "9cca1bc0-4b64-4d8e-baf0-e858ad87d748",
   "metadata": {},
   "outputs": [],
   "source": [
    "# node for invoking the llm\n",
    "def agent_call(state:AgentState)->AgentState:\n",
    "    system_prompt = SystemMessage(content=\"You are my AI Assistant. Please answer my query to the best of your ability\")\n",
    "\n",
    "    response = model.invoke([system_prompt] + state['messages'])\n",
    "    return {\"messages\":[response]}\n",
    "\n",
    "# conditional node\n",
    "def should_continue(state:AgentState):\n",
    "    messages = state['messages']\n",
    "    print(messages)\n",
    "    # check is there is a tool to call on the last message\n",
    "    last_message = messages[-1]\n",
    "    if last_message.tool_calls:\n",
    "        return 'continue'\n",
    "    else:\n",
    "        return 'end'\n",
    "\n"
   ]
  },
  {
   "cell_type": "markdown",
   "id": "c067e472-7948-4558-9db8-bbc485fbe472",
   "metadata": {},
   "source": [
    "### Graph creation"
   ]
  },
  {
   "cell_type": "code",
   "execution_count": 8,
   "id": "58845179-b08a-43a8-971d-cf827bed7370",
   "metadata": {},
   "outputs": [],
   "source": [
    "AGENT=\"LLM Agent\"\n",
    "TOOL = \"Tools\"\n",
    "graph= StateGraph(AgentState)\n",
    "\n",
    "graph.add_node(AGENT, agent_call)\n",
    "\n",
    "graph.add_edge(START, AGENT)\n",
    "\n",
    "tool_node = ToolNode(tools=tools)\n",
    "graph.add_node(TOOL, tool_node)\n",
    "\n",
    "graph.add_conditional_edges(\n",
    "    AGENT,\n",
    "    should_continue,\n",
    "    {\n",
    "        \"continue\": TOOL,\n",
    "        \"end\": END\n",
    "    }\n",
    ")\n",
    "\n",
    "graph.add_edge(TOOL, AGENT)\n",
    "\n",
    "app = graph.compile()"
   ]
  },
  {
   "cell_type": "code",
   "execution_count": 9,
   "id": "8170b499-8c72-42ea-a557-9017811b696a",
   "metadata": {},
   "outputs": [
    {
     "data": {
      "image/png": "[encoded data removed]",
      "text/plain": [
       "<langgraph.graph.state.CompiledStateGraph object at 0x0000018AF4DEBB80>"
      ]
     },
     "execution_count": 9,
     "metadata": {},
     "output_type": "execute_result"
    }
   ],
   "source": [
    "app"
   ]
  },
  {
   "cell_type": "markdown",
   "id": "53d30b58-1470-4443-b6f9-dabbea1824c5",
   "metadata": {},
   "source": [
    "#### function to print out the final output in a stream"
   ]
  },
  {
   "cell_type": "code",
   "execution_count": 10,
   "id": "afe0c83c-9a8c-4490-8ea1-9097955a3b33",
   "metadata": {},
   "outputs": [],
   "source": [
    "def print_stream(stream):\n",
    "    for s in stream:\n",
    "        message = s['messages'][-1]\n",
    "\n",
    "        if isinstance(message, tuple):\n",
    "            print(message)\n",
    "        else:\n",
    "            message.pretty_print()"
   ]
  },
  {
   "cell_type": "markdown",
   "id": "b51590e1-8964-438a-9b57-c126ead5f22e",
   "metadata": {},
   "source": [
    "#### State the input "
   ]
  },
  {
   "cell_type": "code",
   "execution_count": 11,
   "id": "ee61d4be-bfb2-42de-bd02-1f7c05184744",
   "metadata": {},
   "outputs": [],
   "source": [
    "inputs = {\"messages\":[(\"user\", \"Add 3 + 4 and multiply the result by 10\")]}"
   ]
  },
  {
   "cell_type": "code",
   "execution_count": 12,
   "id": "99b3739d-0f13-4c80-890f-54b7e373f68b",
   "metadata": {},
   "outputs": [
    {
     "name": "stdout",
     "output_type": "stream",
     "text": [
      "[('user', 'Add 3 + 4 and multiply the result by 10')]\n"
     ]
    }
   ],
   "source": [
    "#note path of the code only to test the content of state\n",
    "def see_state(state:AgentState):\n",
    "    # state['messages'] = state['messages'].append(inputs)\n",
    "    print( state['messages'])\n",
    "\n",
    "see_state(inputs)"
   ]
  },
  {
   "cell_type": "code",
   "execution_count": 13,
   "id": "04c7c186-a759-4b78-ba8e-46e3ba6b34c6",
   "metadata": {},
   "outputs": [],
   "source": [
    "stream = app.stream(inputs, stream_mode=\"values\")"
   ]
  },
  {
   "cell_type": "markdown",
   "id": "68bc1c4e-bdb3-44b9-aa79-ecacf585f4dd",
   "metadata": {},
   "source": [
    "### Pass the input in and print out the output"
   ]
  },
  {
   "cell_type": "code",
   "execution_count": 17,
   "id": "e0c78f0f-fb05-4f71-bb2c-91d2536e859c",
   "metadata": {},
   "outputs": [
    {
     "name": "stdout",
     "output_type": "stream",
     "text": [
      "[HumanMessage(content='Add 3 + 4 and multiply the result by 10', additional_kwargs={}, response_metadata={}, id='6c8047f7-52ae-43f5-883c-d57f59946dc8'), AIMessage(content='', additional_kwargs={'function_call': {'name': 'add', 'arguments': '{\"a\": 3.0, \"b\": 4.0}'}}, response_metadata={'prompt_feedback': {'block_reason': 0, 'safety_ratings': []}, 'finish_reason': 'STOP', 'model_name': 'models/gemini-2.5-flash-preview-05-20', 'safety_ratings': []}, id='run--1006a8f7-4d51-43fd-a6ca-36c1ae6c8254-0', tool_calls=[{'name': 'add', 'args': {'a': 3.0, 'b': 4.0}, 'id': 'd0850d07-7b02-4283-9c69-4d15cbc82f26', 'type': 'tool_call'}], usage_metadata={'input_tokens': 240, 'output_tokens': 18, 'total_tokens': 404, 'input_token_details': {'cache_read': 0}, 'output_token_details': {'reasoning': 146}}), ToolMessage(content='7', name='add', id='e2ec93f3-b78a-4873-aa47-fe7a011d9ec7', tool_call_id='d0850d07-7b02-4283-9c69-4d15cbc82f26'), AIMessage(content='', additional_kwargs={'function_call': {'name': 'multiply', 'arguments': '{\"a\": 7.0, \"b\": 10.0}'}}, response_metadata={'prompt_feedback': {'block_reason': 0, 'safety_ratings': []}, 'finish_reason': 'STOP', 'model_name': 'models/gemini-2.5-flash-preview-05-20', 'safety_ratings': []}, id='run--8722033c-599f-43d9-99ba-d9c473c95132-0', tool_calls=[{'name': 'multiply', 'args': {'a': 7.0, 'b': 10.0}, 'id': 'bc4c947d-d1ed-4f88-8624-3f0664f45878', 'type': 'tool_call'}], usage_metadata={'input_tokens': 271, 'output_tokens': 19, 'total_tokens': 395, 'input_token_details': {'cache_read': 0}, 'output_token_details': {'reasoning': 105}})]\n"
     ]
    },
    {
     "data": {
      "text/plain": [
       "{'messages': [HumanMessage(content='Add 3 + 4 and multiply the result by 10', additional_kwargs={}, response_metadata={}, id='6c8047f7-52ae-43f5-883c-d57f59946dc8'),\n",
       "  AIMessage(content='', additional_kwargs={'function_call': {'name': 'add', 'arguments': '{\"a\": 3.0, \"b\": 4.0}'}}, response_metadata={'prompt_feedback': {'block_reason': 0, 'safety_ratings': []}, 'finish_reason': 'STOP', 'model_name': 'models/gemini-2.5-flash-preview-05-20', 'safety_ratings': []}, id='run--1006a8f7-4d51-43fd-a6ca-36c1ae6c8254-0', tool_calls=[{'name': 'add', 'args': {'a': 3.0, 'b': 4.0}, 'id': 'd0850d07-7b02-4283-9c69-4d15cbc82f26', 'type': 'tool_call'}], usage_metadata={'input_tokens': 240, 'output_tokens': 18, 'total_tokens': 404, 'input_token_details': {'cache_read': 0}, 'output_token_details': {'reasoning': 146}}),\n",
       "  ToolMessage(content='7', name='add', id='e2ec93f3-b78a-4873-aa47-fe7a011d9ec7', tool_call_id='d0850d07-7b02-4283-9c69-4d15cbc82f26'),\n",
       "  AIMessage(content='', additional_kwargs={'function_call': {'name': 'multiply', 'arguments': '{\"a\": 7.0, \"b\": 10.0}'}}, response_metadata={'prompt_feedback': {'block_reason': 0, 'safety_ratings': []}, 'finish_reason': 'STOP', 'model_name': 'models/gemini-2.5-flash-preview-05-20', 'safety_ratings': []}, id='run--8722033c-599f-43d9-99ba-d9c473c95132-0', tool_calls=[{'name': 'multiply', 'args': {'a': 7.0, 'b': 10.0}, 'id': 'bc4c947d-d1ed-4f88-8624-3f0664f45878', 'type': 'tool_call'}], usage_metadata={'input_tokens': 271, 'output_tokens': 19, 'total_tokens': 395, 'input_token_details': {'cache_read': 0}, 'output_token_details': {'reasoning': 105}})]}"
      ]
     },
     "execution_count": 17,
     "metadata": {},
     "output_type": "execute_result"
    }
   ],
   "source": [
    "next(stream)"
   ]
  },
  {
   "cell_type": "code",
   "execution_count": null,
   "id": "c210aae2-d729-4308-bea0-e605ecd74280",
   "metadata": {},
   "outputs": [],
   "source": []
  },
  {
   "cell_type": "code",
   "execution_count": 29,
   "id": "023e9cca-9479-479f-a062-9124752a2ddc",
   "metadata": {},
   "outputs": [
    {
     "name": "stdout",
     "output_type": "stream",
     "text": [
      "================================\u001b[1m Human Message \u001b[0m=================================\n",
      "\n",
      "Add 3 + 4 and multiply the result by 10\n",
      "==================================\u001b[1m Ai Message \u001b[0m==================================\n",
      "Tool Calls:\n",
      "  add (3ef8093e-ba11-4d19-a5aa-2b6bb7759a38)\n",
      " Call ID: 3ef8093e-ba11-4d19-a5aa-2b6bb7759a38\n",
      "  Args:\n",
      "    a: 3.0\n",
      "    b: 4.0\n",
      "=================================\u001b[1m Tool Message \u001b[0m=================================\n",
      "Name: add\n",
      "\n",
      "7\n",
      "==================================\u001b[1m Ai Message \u001b[0m==================================\n",
      "Tool Calls:\n",
      "  multiply (0935521c-4e6e-453d-aba2-c58428a0d07c)\n",
      " Call ID: 0935521c-4e6e-453d-aba2-c58428a0d07c\n",
      "  Args:\n",
      "    a: 7.0\n",
      "    b: 10.0\n",
      "=================================\u001b[1m Tool Message \u001b[0m=================================\n",
      "Name: multiply\n",
      "\n",
      "70\n",
      "==================================\u001b[1m Ai Message \u001b[0m==================================\n",
      "\n",
      "The answer is 70.\n"
     ]
    }
   ],
   "source": [
    "print_stream(app.stream(inputs, stream_mode=\"values\"))"
   ]
  }
 ],
 "metadata": {
  "kernelspec": {
   "display_name": "Python (AIenv)",
   "language": "python",
   "name": "aienv"
  },
  "language_info": {
   "codemirror_mode": {
    "name": "ipython",
    "version": 3
   },
   "file_extension": ".py",
   "mimetype": "text/x-python",
   "name": "python",
   "nbconvert_exporter": "python",
   "pygments_lexer": "ipython3",
   "version": "3.10.10"
  }
 },
 "nbformat": 4,
 "nbformat_minor": 5
}
