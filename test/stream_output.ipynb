{
 "cells": [
  {
   "cell_type": "code",
   "execution_count": 44,
   "id": "ea848719-2512-44be-9b88-f7040c44bb45",
   "metadata": {},
   "outputs": [],
   "source": [
    "from langchain_openai import ChatOpenAI\n",
    "from dotenv import load_dotenv\n",
    "\n",
    "load_dotenv()\n",
    "llm = ChatOpenAI(model='gpt-4o-mini')"
   ]
  },
  {
   "cell_type": "markdown",
   "id": "838c1f45-086d-4b22-a9a0-9b75cd5fd268",
   "metadata": {},
   "source": [
    "#### use the .stream method to output your response as if it is being typed out. Like CHatLLM works"
   ]
  },
  {
   "cell_type": "code",
   "execution_count": 45,
   "id": "6274b91c-be5a-4386-98f5-89d70ffc06f9",
   "metadata": {},
   "outputs": [
    {
     "name": "stdout",
     "output_type": "stream",
     "text": [
      "In the quiet dawn, the world unfolds,  \n",
      "A tapestry of dreams in shades of gold.  \n",
      "Whispers of the morning breeze intertwine,  \n",
      "With secrets of the night that gently resign.  \n",
      "The dewdrops glisten on the blades of grass,  \n",
      "Each one a promise, a moment to amass.  \n",
      "Birds serenade the sun as it breaks,  \n",
      "A symphony of life, as the day awakes.  \n",
      "\n",
      "As twilight descends, the sky is aglow,  \n",
      "Streaks of crimson and lavender flow.  \n",
      "Stars emerge, like jewels in the deep,  \n",
      "While the moon watches over, a guardian of sleep.  \n",
      "With every heartbeat, the story unfolds,  \n",
      "Of love, of laughter, in memories bold.  \n",
      "In the dance of the hours, we find our place,  \n",
      "A fleeting moment, wrapped in time's embrace."
     ]
    }
   ],
   "source": [
    "user_input = \"write a 2 paragraph poem\"\n",
    "\n",
    "for chunk in llm.stream(user_input):\n",
    "    print(chunk.content, end=\"\", flush=True)"
   ]
  },
  {
   "cell_type": "code",
   "execution_count": null,
   "id": "76799939-8875-4971-8466-40a3a57acea1",
   "metadata": {},
   "outputs": [],
   "source": []
  }
 ],
 "metadata": {
  "kernelspec": {
   "display_name": "Python (AIenv)",
   "language": "python",
   "name": "aienv"
  },
  "language_info": {
   "codemirror_mode": {
    "name": "ipython",
    "version": 3
   },
   "file_extension": ".py",
   "mimetype": "text/x-python",
   "name": "python",
   "nbconvert_exporter": "python",
   "pygments_lexer": "ipython3",
   "version": "3.10.10"
  }
 },
 "nbformat": 4,
 "nbformat_minor": 5
}
