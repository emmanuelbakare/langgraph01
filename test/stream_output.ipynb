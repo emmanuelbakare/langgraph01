{
 "cells": [
  {
   "cell_type": "code",
   "execution_count": 46,
   "id": "ea848719-2512-44be-9b88-f7040c44bb45",
   "metadata": {},
   "outputs": [],
   "source": [
    "from langchain_openai import ChatOpenAI\n",
    "from dotenv import load_dotenv\n",
    "\n",
    "load_dotenv()\n",
    "llm = ChatOpenAI(model='gpt-4o-mini')"
   ]
  },
  {
   "cell_type": "markdown",
   "id": "838c1f45-086d-4b22-a9a0-9b75cd5fd268",
   "metadata": {},
   "source": [
    "#### Use the stream method to output your response as if it is being typed out. Like CHatLLM works"
   ]
  },
  {
   "cell_type": "code",
   "execution_count": 47,
   "id": "6274b91c-be5a-4386-98f5-89d70ffc06f9",
   "metadata": {},
   "outputs": [
    {
     "name": "stdout",
     "output_type": "stream",
     "text": [
      "In the soft embrace of twilight’s glow,  \n",
      "Whispers of the evening start to unfold,  \n",
      "Stars awaken, in silver they flow,  \n",
      "Painting the canvas with stories untold.  \n",
      "The moon hangs low, a guardian bright,  \n",
      "Guiding the dreams that dance through the night,  \n",
      "As shadows stretch long, and time drifts away,  \n",
      "In this gentle stillness, we yearn, we sway.  \n",
      "\n",
      "Yet dawn will break, with its vibrant hues,  \n",
      "Chasing the stars, like a fleeting sigh,  \n",
      "Waking the world with the promise of news,  \n",
      "As sunlight spills gold from the edge of the sky.  \n",
      "Each moment a treasure, a heartbeat, a breath,  \n",
      "In the cycle of life, where we flourish and fade,  \n",
      "So let us embrace both the sorrow and mirth,  \n",
      "For in every ending, a new dream is made."
     ]
    }
   ],
   "source": [
    "user_input = \"write a 2 paragraph poem\"\n",
    "\n",
    "for chunk in llm.stream(user_input):\n",
    "    print(chunk.content, end=\"\", flush=True)"
   ]
  },
  {
   "cell_type": "code",
   "execution_count": null,
   "id": "76799939-8875-4971-8466-40a3a57acea1",
   "metadata": {},
   "outputs": [],
   "source": []
  }
 ],
 "metadata": {
  "kernelspec": {
   "display_name": "Python (AIenv)",
   "language": "python",
   "name": "aienv"
  },
  "language_info": {
   "codemirror_mode": {
    "name": "ipython",
    "version": 3
   },
   "file_extension": ".py",
   "mimetype": "text/x-python",
   "name": "python",
   "nbconvert_exporter": "python",
   "pygments_lexer": "ipython3",
   "version": "3.10.10"
  }
 },
 "nbformat": 4,
 "nbformat_minor": 5
}
