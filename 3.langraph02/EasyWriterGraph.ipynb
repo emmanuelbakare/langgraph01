{
 "cells": [
  {
   "cell_type": "code",
   "execution_count": 59,
   "id": "9230c19b-1ed8-4841-8b5a-d0f6c865ef1a",
   "metadata": {},
   "outputs": [],
   "source": [
    "from typing import TypedDict, List, Annotated\n",
    "from langchain_core.messages import AnyMessage, SystemMessage, HumanMessage, AIMessage, ChatMessage\n",
    "from langgraph.graph import StateGraph, END\n",
    "from langchain_openai import ChatOpenAI\n",
    "from dotenv import load_dotenv\n",
    "\n"
   ]
  },
  {
   "cell_type": "code",
   "execution_count": 60,
   "id": "fd4925a6-c2c2-43f1-a533-9bf65a0e5853",
   "metadata": {},
   "outputs": [],
   "source": [
    "load_dotenv()\n",
    "\n",
    "model = ChatOpenAI(model=\"gpt-4o-mini\", temperature=0)"
   ]
  },
  {
   "cell_type": "code",
   "execution_count": 61,
   "id": "7548c876-fa32-4c62-be17-e9489501cc37",
   "metadata": {},
   "outputs": [],
   "source": [
    "class AgentState(TypedDict):\n",
    "    task: str # keep track of the task (the human input or prompt\n",
    "    plan: str # the plan that the planning agent will generate in the first step\n",
    "    draft: str # draft of the easey\n",
    "    critique: str # critic message - the critic agent will populate this key\n",
    "    content: List[str] # list of document AI as research and returned\n",
    "    revision_number: int # keep track of the number of revision made\n",
    "    max_revisions: int # maximum number of revision to make\n",
    "    \n"
   ]
  },
  {
   "cell_type": "code",
   "execution_count": 62,
   "id": "1937ea8a-fc43-46fc-a798-08ec7cdaf0d8",
   "metadata": {},
   "outputs": [],
   "source": [
    "# defining the planning prompt\n",
    "PLAN_PROMPT = \"\"\"\n",
    "You are an expert writer tasked with writing a high level outline of an essay. Write such an outline for the user provided topic.\n",
    "Give an outline of the essay along with any relevant notes or instructions for the sections.\n",
    "\"\"\"\n",
    "\n",
    "# defining the prompt that will beused by the agents that's doing research after the planning step\n",
    "# givein a plan, it will generate some queries and pass them to Tavily\n",
    "\n",
    "RESEARCH_PLAN_PROMPT = \"\"\" \n",
    "You are a researcher charged with providing information that can be used whwn writing the following essay\n",
    "Generate a list of search queires that will gather any relevant information. Only generate 3 queries max\n",
    "\"\"\"\n",
    "\n",
    "# Defining the Writer Prompt\n",
    "WRITER_PROMPT =\"\"\"\n",
    "You are an essay assistant tasked with writing excellent 5-paragraph essays.\n",
    "Generate the best essay possible for the user's request and the initial outline.\n",
    "If theuser provides critique, respond with a reised version of your previous attempts.\n",
    "Utilize all the information below as needed\n",
    "---\n",
    "{content}\n",
    "\"\"\"\n",
    "\n",
    "#Define the reflection prompt\n",
    "REFLECTION_PROMPT = \"\"\"\n",
    "You are a teacher grading an essay submission .\n",
    "Generate critique and recommendations for the user's submission.\n",
    "Provide detailed recommendations, including requests for length, depth, style etc\n",
    "\"\"\"\n",
    "\n",
    "# Defining the research Critique Prompt\n",
    "RESEARCH_CRITIQUE_PROMPT = \"\"\"\n",
    "You are a researcher chargd with providing information that can be used when makinig any requested revisions (As outlined below).\n",
    "Generate a list of search queries that will gather any relevant information. Only generate 3 queries max.\n",
    "\"\"\""
   ]
  },
  {
   "cell_type": "code",
   "execution_count": 63,
   "id": "0b65c478-6ffc-43f8-be2f-706e6861329b",
   "metadata": {},
   "outputs": [],
   "source": [
    "from pydantic import BaseModel\n",
    "from typing import List\n",
    "\n",
    "class Queries(BaseModel):\n",
    "    queries: List[str]"
   ]
  },
  {
   "cell_type": "markdown",
   "id": "abff44d5-4221-4b70-a672-036148554f2e",
   "metadata": {},
   "source": [
    "### import and instantiate Tavily"
   ]
  },
  {
   "cell_type": "code",
   "execution_count": 64,
   "id": "13a9a0e3-a012-4b67-9795-79161b4aa596",
   "metadata": {},
   "outputs": [],
   "source": [
    "# from tavily import TavilyClient\n",
    "# import os\n",
    "\n",
    "# tavily = TavilyClient()\n",
    "\n",
    "from langchain_community.tools.tavily_search import TavilySearchResults\n",
    "\n",
    "# Initialize the tool (it reads the API key from the environment variable `TAVILY_API_KEY`)\n",
    "tavily = TavilySearchResults()"
   ]
  },
  {
   "cell_type": "markdown",
   "id": "522a0955-f54b-497a-a36f-d4218db8cd35",
   "metadata": {},
   "source": [
    "### Implement the Agent and the Nodes"
   ]
  },
  {
   "cell_type": "code",
   "execution_count": 65,
   "id": "4c731175-3be1-402e-8b92-8d22d861dc58",
   "metadata": {},
   "outputs": [],
   "source": [
    "#creating the planning node\n",
    "\n",
    "def plan_node(state:AgentState):\n",
    "    message = [\n",
    "        SystemMessage(content= PLAN_PROMPT),\n",
    "        HumanMessage(content=state['task'])\n",
    "    ]\n",
    "    response = model.invoke(message)\n",
    "    return {\"plan\":response.content}\n"
   ]
  },
  {
   "cell_type": "code",
   "execution_count": 66,
   "id": "fce94b90-cd5f-46d4-9e93-8715c986864a",
   "metadata": {},
   "outputs": [],
   "source": [
    "# creating the research_pla_node\n",
    "# It generates research queries based on a given task and retrieves relevant content usisng those queries\n",
    "\n",
    "def research_plan_node(state:AgentState):\n",
    "    queries = model.with_structured_output(Queries).invoke([\n",
    "        SystemMessage(content=RESEARCH_PLAN_PROMPT),\n",
    "        HumanMessage(content = state['task'])\n",
    "    ])\n",
    "\n",
    "    content = state.get('content',[])\n",
    "    for q in queries.queries:\n",
    "        response =  tavily.invoke({\"query\":q, \"max_results\":2})\n",
    "        for resp in response['results']:\n",
    "            content.append(resp['content'])\n",
    "    return {\"content\": content }"
   ]
  },
  {
   "cell_type": "code",
   "execution_count": 67,
   "id": "d2a07585-e4e5-404e-a376-95a083162619",
   "metadata": {},
   "outputs": [],
   "source": [
    "# creating the generation node\n",
    "\n",
    "def generation_node(state:AgentState):\n",
    "    content = \"\\n\\n\".join(state['content'] or [])\n",
    "\n",
    "    user_message = HumanMessage(\n",
    "        content = f\"{state['task']}\\n\\nHere is my plan\\n\\n {state['plan']}\"\n",
    "    )\n",
    "\n",
    "    messages = [\n",
    "        SystemMessage(\n",
    "            content= WRITER_PROMPT.format(content=content)\n",
    "        ),\n",
    "        user_message\n",
    "\n",
    "    ]\n",
    "\n",
    "    response = model.invoke(messages)\n",
    "\n",
    "    return {\n",
    "        \"drafts\": response.content,\n",
    "        \"revision_number\": state.get(\"revision_number\",1)+1\n",
    "    }"
   ]
  },
  {
   "cell_type": "code",
   "execution_count": 68,
   "id": "8cf699a9-bd52-435e-9c1c-20b5320f7eaf",
   "metadata": {},
   "outputs": [],
   "source": [
    "# creating the reflection node\n",
    "\n",
    "def reflection_node(state:AgentState):\n",
    "    messages = [\n",
    "        SystemMessage(content=REFLECTION_PROMPT),\n",
    "        HumanMessage(content=state['draft'])\n",
    "    ]\n",
    "    response = model.invokes(messages)\n",
    "    return {\"critique\": response.content}"
   ]
  },
  {
   "cell_type": "code",
   "execution_count": 69,
   "id": "9fccdc2d-96c0-4b4d-9adf-f4e2c0506d62",
   "metadata": {},
   "outputs": [],
   "source": [
    "# Creating the Search Critique node\n",
    "\n",
    "def research_critique_node(state:AgentState):\n",
    "    queries = model.with_structure_output(Queries).invoke([\n",
    "        SystemMessage(content=RESEARCH_CRITIQUE_PROMPT),\n",
    "        HumanMessage(content=state['critique'])\n",
    "    ])\n",
    "    content = state.get('content',[])\n",
    "    for q in queries.queries:\n",
    "        response =  tavily.invoke({\"query\":q, \"max_results\":2})\n",
    "        for resp in response['results']:\n",
    "            content.append(resp['content'])\n",
    "    return {\"content\": content }"
   ]
  },
  {
   "cell_type": "markdown",
   "id": "33291038-abe1-481e-8491-9c85bec14c30",
   "metadata": {},
   "source": [
    "### Defining the Conditional Edge"
   ]
  },
  {
   "cell_type": "code",
   "execution_count": 70,
   "id": "98a0538d-60c5-49f7-b83c-9a5e41ddf909",
   "metadata": {},
   "outputs": [],
   "source": [
    "# Defining the conditional Edge\n",
    "\n",
    "def should_continue(state:AgentState):\n",
    "    if state['revision_number'] > state['max_revisions']:\n",
    "        return END\n",
    "    return 'reflect'\n",
    "    "
   ]
  },
  {
   "cell_type": "markdown",
   "id": "627ce818-ecf7-4ef6-ab33-4032a0f3239b",
   "metadata": {},
   "source": [
    "### Defining the Graph"
   ]
  },
  {
   "cell_type": "code",
   "execution_count": 71,
   "id": "51324f9d-867b-4857-832c-71fd2c78ae74",
   "metadata": {},
   "outputs": [
    {
     "data": {
      "text/plain": [
       "<langgraph.graph.state.StateGraph at 0x1614b2277c0>"
      ]
     },
     "execution_count": 71,
     "metadata": {},
     "output_type": "execute_result"
    }
   ],
   "source": [
    "graph = StateGraph(AgentState)\n",
    "\n",
    "#adding node to the graph\n",
    "graph.add_node('planner', plan_node)\n",
    "graph.add_node('generate', generation_node)\n",
    "graph.add_node('reflect', reflection_node)\n",
    "graph.add_node('research_plan', research_plan_node)\n",
    "graph.add_node('research_critique', research_critique_node)\n",
    "\n",
    "graph.set_entry_point('planner')\n",
    "\n",
    "#adding the conditional edge\n",
    "graph.add_conditional_edges(\n",
    "    \"generate\",\n",
    "    should_continue,\n",
    "    {END:END, \"reflect\": \"reflect\"}\n",
    "     )\n",
    "# adding regula edges\n",
    "graph.add_edge('planner','research_plan')\n",
    "graph.add_edge('research_plan','generate')\n",
    "graph.add_edge('reflect','research_critique')\n",
    "graph.add_edge('research_critique','generate')"
   ]
  },
  {
   "cell_type": "code",
   "execution_count": 72,
   "id": "c1bdab23-a260-4152-8eee-5352013a70ed",
   "metadata": {},
   "outputs": [],
   "source": [
    "# from langgraph.checkpoint.sqlite_saver import SqliteSaver\n",
    "# from langgraph.checkpoint.memory import MemorySaver\n",
    "\n",
    "# # Option 1: Using in-memory SQLite checkpointing\n",
    "# memory = SqliteSaver.from_conn_str(\":memory:\")\n",
    "# graph = graph.compile(checkpointer=memory)\n",
    "\n",
    "# Option 2: Using simple in-memory (RAM-based) checkpointing\n",
    "# memory = MemorySaver()\n",
    "# graph = graph.compile(checkpointer=memory)\n",
    "\n",
    "\n",
    "from langgraph.checkpoint.memory import MemorySaver\n",
    "\n",
    "memory = MemorySaver()\n",
    "graph = graph.compile(checkpointer=memory)"
   ]
  },
  {
   "cell_type": "code",
   "execution_count": 73,
   "id": "54f9b324-193f-420d-aff4-0db65f468c8c",
   "metadata": {},
   "outputs": [
    {
     "data": {
      "image/png": "[encoded data removed]",
      "text/plain": [
       "<langgraph.graph.state.CompiledStateGraph object at 0x000001614B19D9C0>"
      ]
     },
     "execution_count": 73,
     "metadata": {},
     "output_type": "execute_result"
    }
   ],
   "source": [
    "graph"
   ]
  },
  {
   "cell_type": "markdown",
   "id": "9bf41e51-0761-43dd-83c1-832b765c31cf",
   "metadata": {},
   "source": [
    "### Running the Agentic App"
   ]
  },
  {
   "cell_type": "code",
   "execution_count": 74,
   "id": "a079fac5-d73c-4368-8475-0ee2140fc9af",
   "metadata": {},
   "outputs": [
    {
     "name": "stdout",
     "output_type": "stream",
     "text": [
      "{'planner': {'plan': \"**Essay Outline: Reflection vs. Reflextion in Langraph**\\n\\n**I. Introduction**\\n   A. Definition of key terms\\n      1. Reflection: The process of introspection and consideration of one's thoughts, feelings, and experiences.\\n      2. Reflextion: A term coined within the context of Langraph, representing a unique perspective or interpretation of reflection.\\n   B. Importance of the topic\\n      1. Understanding the nuances between reflection and reflextion can enhance personal growth and communication.\\n      2. Relevance in various fields such as psychology, education, and interpersonal relationships.\\n   C. Thesis statement\\n      1. This essay will explore the distinctions between reflection and reflextion in Langraph, their implications for personal development, and their applications in real-world scenarios.\\n\\n**II. Historical Context of Reflection in Langraph**\\n   A. Origins of the concept of reflection\\n      1. Philosophical roots (e.g., Socratic method, existentialism)\\n      2. Evolution of reflection in educational practices\\n   B. Introduction of reflextion in Langraph\\n      1. Definition and origin of the term within the Langraph framework\\n      2. Key figures or theorists who contributed to the development of reflextion\\n\\n**III. Key Differences Between Reflection and Reflextion**\\n   A. Nature of the processes\\n      1. Reflection as a linear, analytical process\\n      2. Reflextion as a dynamic, multi-dimensional experience\\n   B. Outcomes of each process\\n      1. Reflection leading to self-awareness and understanding\\n      2. Reflextion fostering creativity and innovative thinking\\n   C. Examples illustrating the differences\\n      1. Case studies or anecdotes demonstrating reflection\\n      2. Case studies or anecdotes demonstrating reflextion\\n\\n**IV. Implications for Personal Development**\\n   A. Benefits of engaging in reflection\\n      1. Improved decision-making and problem-solving skills\\n      2. Enhanced emotional intelligence\\n   B. Advantages of embracing reflextion\\n      1. Encouragement of diverse perspectives and adaptability\\n      2. Promotion of holistic understanding and empathy\\n   C. Strategies for integrating both processes into daily life\\n      1. Journaling, meditation, and discussion groups for reflection\\n      2. Creative exercises, brainstorming sessions, and collaborative projects for reflextion\\n\\n**V. Applications in Various Fields**\\n   A. Education\\n      1. Role of reflection in teaching and learning\\n      2. Incorporating reflextion into curriculum design and student engagement\\n   B. Psychology\\n      1. Therapeutic practices that utilize reflection\\n      2. Innovative approaches in therapy that leverage reflextion\\n   C. Business and Leadership\\n      1. Importance of reflection in strategic planning and leadership development\\n      2. Utilizing reflextion for team building and fostering innovation\\n\\n**VI. Conclusion**\\n   A. Recap of the main points discussed\\n      1. Summary of the differences between reflection and reflextion\\n      2. Importance of both processes for personal and professional growth\\n   B. Final thoughts on the significance of understanding these concepts in Langraph\\n      1. Encouragement for readers to explore both reflection and reflextion in their own lives\\n      2. Call to action for further research and application of these concepts in various fields\\n\\n**Notes/Instructions:**\\n- Ensure that each section flows logically into the next, maintaining coherence throughout the essay.\\n- Use examples and case studies to illustrate points, making the concepts relatable and easier to understand.\\n- Consider including quotes from relevant theorists or practitioners to support arguments.\\n- Maintain an academic tone while ensuring accessibility for a broader audience.\"}}\n",
      "= 130\n"
     ]
    },
    {
     "ename": "TypeError",
     "evalue": "list indices must be integers or slices, not str",
     "output_type": "error",
     "traceback": [
      "\u001b[1;31m---------------------------------------------------------------------------\u001b[0m",
      "\u001b[1;31mTypeError\u001b[0m                                 Traceback (most recent call last)",
      "Cell \u001b[1;32mIn[74], line 12\u001b[0m\n\u001b[0;32m      4\u001b[0m prompt \u001b[38;5;241m=\u001b[39m {\n\u001b[0;32m      5\u001b[0m     \u001b[38;5;124m'\u001b[39m\u001b[38;5;124mtask\u001b[39m\u001b[38;5;124m'\u001b[39m: task,\n\u001b[0;32m      6\u001b[0m     \u001b[38;5;124m'\u001b[39m\u001b[38;5;124mmax_revision\u001b[39m\u001b[38;5;124m'\u001b[39m:\u001b[38;5;241m2\u001b[39m,\n\u001b[0;32m      7\u001b[0m     \u001b[38;5;124m'\u001b[39m\u001b[38;5;124mrevision_number\u001b[39m\u001b[38;5;124m'\u001b[39m:\u001b[38;5;241m1\u001b[39m,\n\u001b[0;32m      8\u001b[0m }\n\u001b[0;32m     10\u001b[0m events \u001b[38;5;241m=\u001b[39m graph\u001b[38;5;241m.\u001b[39mstream(prompt, thread)\n\u001b[1;32m---> 12\u001b[0m \u001b[38;5;28;01mfor\u001b[39;00m e \u001b[38;5;129;01min\u001b[39;00m events:\n\u001b[0;32m     13\u001b[0m     \u001b[38;5;28mprint\u001b[39m(e)\n\u001b[0;32m     14\u001b[0m     \u001b[38;5;28mprint\u001b[39m(\u001b[38;5;124m'\u001b[39m\u001b[38;5;124m=\u001b[39m\u001b[38;5;124m'\u001b[39m,\u001b[38;5;241m130\u001b[39m)\n",
      "File \u001b[1;32mD:\\codes\\ai\\lib\\site-packages\\langgraph\\pregel\\__init__.py:2436\u001b[0m, in \u001b[0;36mPregel.stream\u001b[1;34m(self, input, config, stream_mode, output_keys, interrupt_before, interrupt_after, checkpoint_during, debug, subgraphs)\u001b[0m\n\u001b[0;32m   2434\u001b[0m         \u001b[38;5;28;01mfor\u001b[39;00m task \u001b[38;5;129;01min\u001b[39;00m loop\u001b[38;5;241m.\u001b[39mmatch_cached_writes():\n\u001b[0;32m   2435\u001b[0m             loop\u001b[38;5;241m.\u001b[39moutput_writes(task\u001b[38;5;241m.\u001b[39mid, task\u001b[38;5;241m.\u001b[39mwrites, cached\u001b[38;5;241m=\u001b[39m\u001b[38;5;28;01mTrue\u001b[39;00m)\n\u001b[1;32m-> 2436\u001b[0m         \u001b[38;5;28;01mfor\u001b[39;00m _ \u001b[38;5;129;01min\u001b[39;00m runner\u001b[38;5;241m.\u001b[39mtick(\n\u001b[0;32m   2437\u001b[0m             [t \u001b[38;5;28;01mfor\u001b[39;00m t \u001b[38;5;129;01min\u001b[39;00m loop\u001b[38;5;241m.\u001b[39mtasks\u001b[38;5;241m.\u001b[39mvalues() \u001b[38;5;28;01mif\u001b[39;00m \u001b[38;5;129;01mnot\u001b[39;00m t\u001b[38;5;241m.\u001b[39mwrites],\n\u001b[0;32m   2438\u001b[0m             timeout\u001b[38;5;241m=\u001b[39m\u001b[38;5;28mself\u001b[39m\u001b[38;5;241m.\u001b[39mstep_timeout,\n\u001b[0;32m   2439\u001b[0m             get_waiter\u001b[38;5;241m=\u001b[39mget_waiter,\n\u001b[0;32m   2440\u001b[0m             schedule_task\u001b[38;5;241m=\u001b[39mloop\u001b[38;5;241m.\u001b[39maccept_push,\n\u001b[0;32m   2441\u001b[0m         ):\n\u001b[0;32m   2442\u001b[0m             \u001b[38;5;66;03m# emit output\u001b[39;00m\n\u001b[0;32m   2443\u001b[0m             \u001b[38;5;28;01myield from\u001b[39;00m output()\n\u001b[0;32m   2444\u001b[0m \u001b[38;5;66;03m# emit output\u001b[39;00m\n",
      "File \u001b[1;32mD:\\codes\\ai\\lib\\site-packages\\langgraph\\pregel\\runner.py:161\u001b[0m, in \u001b[0;36mPregelRunner.tick\u001b[1;34m(self, tasks, reraise, timeout, retry_policy, get_waiter, schedule_task)\u001b[0m\n\u001b[0;32m    159\u001b[0m t \u001b[38;5;241m=\u001b[39m tasks[\u001b[38;5;241m0\u001b[39m]\n\u001b[0;32m    160\u001b[0m \u001b[38;5;28;01mtry\u001b[39;00m:\n\u001b[1;32m--> 161\u001b[0m     \u001b[43mrun_with_retry\u001b[49m\u001b[43m(\u001b[49m\n\u001b[0;32m    162\u001b[0m \u001b[43m        \u001b[49m\u001b[43mt\u001b[49m\u001b[43m,\u001b[49m\n\u001b[0;32m    163\u001b[0m \u001b[43m        \u001b[49m\u001b[43mretry_policy\u001b[49m\u001b[43m,\u001b[49m\n\u001b[0;32m    164\u001b[0m \u001b[43m        \u001b[49m\u001b[43mconfigurable\u001b[49m\u001b[38;5;241;43m=\u001b[39;49m\u001b[43m{\u001b[49m\n\u001b[0;32m    165\u001b[0m \u001b[43m            \u001b[49m\u001b[43mCONFIG_KEY_CALL\u001b[49m\u001b[43m:\u001b[49m\u001b[43m \u001b[49m\u001b[43mpartial\u001b[49m\u001b[43m(\u001b[49m\n\u001b[0;32m    166\u001b[0m \u001b[43m                \u001b[49m\u001b[43m_call\u001b[49m\u001b[43m,\u001b[49m\n\u001b[0;32m    167\u001b[0m \u001b[43m                \u001b[49m\u001b[43mweakref\u001b[49m\u001b[38;5;241;43m.\u001b[39;49m\u001b[43mref\u001b[49m\u001b[43m(\u001b[49m\u001b[43mt\u001b[49m\u001b[43m)\u001b[49m\u001b[43m,\u001b[49m\n\u001b[0;32m    168\u001b[0m \u001b[43m                \u001b[49m\u001b[43mretry\u001b[49m\u001b[38;5;241;43m=\u001b[39;49m\u001b[43mretry_policy\u001b[49m\u001b[43m,\u001b[49m\n\u001b[0;32m    169\u001b[0m \u001b[43m                \u001b[49m\u001b[43mfutures\u001b[49m\u001b[38;5;241;43m=\u001b[39;49m\u001b[43mweakref\u001b[49m\u001b[38;5;241;43m.\u001b[39;49m\u001b[43mref\u001b[49m\u001b[43m(\u001b[49m\u001b[43mfutures\u001b[49m\u001b[43m)\u001b[49m\u001b[43m,\u001b[49m\n\u001b[0;32m    170\u001b[0m \u001b[43m                \u001b[49m\u001b[43mschedule_task\u001b[49m\u001b[38;5;241;43m=\u001b[39;49m\u001b[43mschedule_task\u001b[49m\u001b[43m,\u001b[49m\n\u001b[0;32m    171\u001b[0m \u001b[43m                \u001b[49m\u001b[43msubmit\u001b[49m\u001b[38;5;241;43m=\u001b[39;49m\u001b[38;5;28;43mself\u001b[39;49m\u001b[38;5;241;43m.\u001b[39;49m\u001b[43msubmit\u001b[49m\u001b[43m,\u001b[49m\n\u001b[0;32m    172\u001b[0m \u001b[43m            \u001b[49m\u001b[43m)\u001b[49m\u001b[43m,\u001b[49m\n\u001b[0;32m    173\u001b[0m \u001b[43m        \u001b[49m\u001b[43m}\u001b[49m\u001b[43m,\u001b[49m\n\u001b[0;32m    174\u001b[0m \u001b[43m    \u001b[49m\u001b[43m)\u001b[49m\n\u001b[0;32m    175\u001b[0m     \u001b[38;5;28mself\u001b[39m\u001b[38;5;241m.\u001b[39mcommit(t, \u001b[38;5;28;01mNone\u001b[39;00m)\n\u001b[0;32m    176\u001b[0m \u001b[38;5;28;01mexcept\u001b[39;00m \u001b[38;5;167;01mException\u001b[39;00m \u001b[38;5;28;01mas\u001b[39;00m exc:\n",
      "File \u001b[1;32mD:\\codes\\ai\\lib\\site-packages\\langgraph\\pregel\\retry.py:40\u001b[0m, in \u001b[0;36mrun_with_retry\u001b[1;34m(task, retry_policy, configurable)\u001b[0m\n\u001b[0;32m     38\u001b[0m     task\u001b[38;5;241m.\u001b[39mwrites\u001b[38;5;241m.\u001b[39mclear()\n\u001b[0;32m     39\u001b[0m     \u001b[38;5;66;03m# run the task\u001b[39;00m\n\u001b[1;32m---> 40\u001b[0m     \u001b[38;5;28;01mreturn\u001b[39;00m \u001b[43mtask\u001b[49m\u001b[38;5;241;43m.\u001b[39;49m\u001b[43mproc\u001b[49m\u001b[38;5;241;43m.\u001b[39;49m\u001b[43minvoke\u001b[49m\u001b[43m(\u001b[49m\u001b[43mtask\u001b[49m\u001b[38;5;241;43m.\u001b[39;49m\u001b[43minput\u001b[49m\u001b[43m,\u001b[49m\u001b[43m \u001b[49m\u001b[43mconfig\u001b[49m\u001b[43m)\u001b[49m\n\u001b[0;32m     41\u001b[0m \u001b[38;5;28;01mexcept\u001b[39;00m ParentCommand \u001b[38;5;28;01mas\u001b[39;00m exc:\n\u001b[0;32m     42\u001b[0m     ns: \u001b[38;5;28mstr\u001b[39m \u001b[38;5;241m=\u001b[39m config[CONF][CONFIG_KEY_CHECKPOINT_NS]\n",
      "File \u001b[1;32mD:\\codes\\ai\\lib\\site-packages\\langgraph\\utils\\runnable.py:623\u001b[0m, in \u001b[0;36mRunnableSeq.invoke\u001b[1;34m(self, input, config, **kwargs)\u001b[0m\n\u001b[0;32m    621\u001b[0m     \u001b[38;5;66;03m# run in context\u001b[39;00m\n\u001b[0;32m    622\u001b[0m     \u001b[38;5;28;01mwith\u001b[39;00m set_config_context(config, run) \u001b[38;5;28;01mas\u001b[39;00m context:\n\u001b[1;32m--> 623\u001b[0m         \u001b[38;5;28minput\u001b[39m \u001b[38;5;241m=\u001b[39m context\u001b[38;5;241m.\u001b[39mrun(step\u001b[38;5;241m.\u001b[39minvoke, \u001b[38;5;28minput\u001b[39m, config, \u001b[38;5;241m*\u001b[39m\u001b[38;5;241m*\u001b[39mkwargs)\n\u001b[0;32m    624\u001b[0m \u001b[38;5;28;01melse\u001b[39;00m:\n\u001b[0;32m    625\u001b[0m     \u001b[38;5;28minput\u001b[39m \u001b[38;5;241m=\u001b[39m step\u001b[38;5;241m.\u001b[39minvoke(\u001b[38;5;28minput\u001b[39m, config)\n",
      "File \u001b[1;32mD:\\codes\\ai\\lib\\site-packages\\langgraph\\utils\\runnable.py:377\u001b[0m, in \u001b[0;36mRunnableCallable.invoke\u001b[1;34m(self, input, config, **kwargs)\u001b[0m\n\u001b[0;32m    375\u001b[0m         run_manager\u001b[38;5;241m.\u001b[39mon_chain_end(ret)\n\u001b[0;32m    376\u001b[0m \u001b[38;5;28;01melse\u001b[39;00m:\n\u001b[1;32m--> 377\u001b[0m     ret \u001b[38;5;241m=\u001b[39m \u001b[38;5;28mself\u001b[39m\u001b[38;5;241m.\u001b[39mfunc(\u001b[38;5;241m*\u001b[39margs, \u001b[38;5;241m*\u001b[39m\u001b[38;5;241m*\u001b[39mkwargs)\n\u001b[0;32m    378\u001b[0m \u001b[38;5;28;01mif\u001b[39;00m \u001b[38;5;28mself\u001b[39m\u001b[38;5;241m.\u001b[39mrecurse \u001b[38;5;129;01mand\u001b[39;00m \u001b[38;5;28misinstance\u001b[39m(ret, Runnable):\n\u001b[0;32m    379\u001b[0m     \u001b[38;5;28;01mreturn\u001b[39;00m ret\u001b[38;5;241m.\u001b[39minvoke(\u001b[38;5;28minput\u001b[39m, config)\n",
      "Cell \u001b[1;32mIn[66], line 13\u001b[0m, in \u001b[0;36mresearch_plan_node\u001b[1;34m(state)\u001b[0m\n\u001b[0;32m     11\u001b[0m \u001b[38;5;28;01mfor\u001b[39;00m q \u001b[38;5;129;01min\u001b[39;00m queries\u001b[38;5;241m.\u001b[39mqueries:\n\u001b[0;32m     12\u001b[0m     response \u001b[38;5;241m=\u001b[39m  tavily\u001b[38;5;241m.\u001b[39minvoke({\u001b[38;5;124m\"\u001b[39m\u001b[38;5;124mquery\u001b[39m\u001b[38;5;124m\"\u001b[39m:q, \u001b[38;5;124m\"\u001b[39m\u001b[38;5;124mmax_results\u001b[39m\u001b[38;5;124m\"\u001b[39m:\u001b[38;5;241m2\u001b[39m})\n\u001b[1;32m---> 13\u001b[0m     \u001b[38;5;28;01mfor\u001b[39;00m resp \u001b[38;5;129;01min\u001b[39;00m \u001b[43mresponse\u001b[49m\u001b[43m[\u001b[49m\u001b[38;5;124;43m'\u001b[39;49m\u001b[38;5;124;43mresults\u001b[39;49m\u001b[38;5;124;43m'\u001b[39;49m\u001b[43m]\u001b[49m:\n\u001b[0;32m     14\u001b[0m         content\u001b[38;5;241m.\u001b[39mappend(resp[\u001b[38;5;124m'\u001b[39m\u001b[38;5;124mcontent\u001b[39m\u001b[38;5;124m'\u001b[39m])\n\u001b[0;32m     15\u001b[0m \u001b[38;5;28;01mreturn\u001b[39;00m {\u001b[38;5;124m\"\u001b[39m\u001b[38;5;124mcontent\u001b[39m\u001b[38;5;124m\"\u001b[39m: content }\n",
      "\u001b[1;31mTypeError\u001b[0m: list indices must be integers or slices, not str"
     ]
    }
   ],
   "source": [
    "thread = {'configurable':{'thread_id':'1'}}\n",
    "task = 'write an essay about Reflection vs. Reflextion in Langraph'\n",
    "\n",
    "prompt = {\n",
    "    'task': task,\n",
    "    'max_revision':2,\n",
    "    'revision_number':1,\n",
    "}\n",
    "\n",
    "events = graph.stream(prompt, thread)\n",
    "\n",
    "for e in events:\n",
    "    print(e)\n",
    "    print('=',130)\n"
   ]
  },
  {
   "cell_type": "code",
   "execution_count": null,
   "id": "27726e84-5d4e-400e-b874-a88980c947aa",
   "metadata": {},
   "outputs": [],
   "source": []
  },
  {
   "cell_type": "code",
   "execution_count": null,
   "id": "cb8aa443-0f2b-4c8d-8db9-26f0bfad0da0",
   "metadata": {},
   "outputs": [],
   "source": []
  }
 ],
 "metadata": {
  "kernelspec": {
   "display_name": "Python (AIenv)",
   "language": "python",
   "name": "aienv"
  },
  "language_info": {
   "codemirror_mode": {
    "name": "ipython",
    "version": 3
   },
   "file_extension": ".py",
   "mimetype": "text/x-python",
   "name": "python",
   "nbconvert_exporter": "python",
   "pygments_lexer": "ipython3",
   "version": "3.10.10"
  }
 },
 "nbformat": 4,
 "nbformat_minor": 5
}
