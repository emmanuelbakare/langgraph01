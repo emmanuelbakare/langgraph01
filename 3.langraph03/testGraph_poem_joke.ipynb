{
 "cells": [
  {
   "cell_type": "code",
   "execution_count": 72,
   "id": "fd3eaa9f-c177-4b43-958a-22a794a75bce",
   "metadata": {},
   "outputs": [],
   "source": [
    "from typing import TypedDict, List, Annotated\n",
    "from langchain_core.messages import AnyMessage, SystemMessage, HumanMessage, AIMessage, ChatMessage\n",
    "from langgraph.graph import StateGraph, END, START\n",
    "from langchain_openai import ChatOpenAI\n",
    "from dotenv import load_dotenv\n"
   ]
  },
  {
   "cell_type": "code",
   "execution_count": 73,
   "id": "ae6a034a-f5aa-4ed7-b4be-9b26bf700b29",
   "metadata": {},
   "outputs": [],
   "source": [
    "load_dotenv()\n",
    "\n",
    "model = ChatOpenAI(model=\"gpt-4o-mini\", temperature=0)"
   ]
  },
  {
   "cell_type": "code",
   "execution_count": 74,
   "id": "f68f696f-e6b0-4ece-9450-d931df41660d",
   "metadata": {},
   "outputs": [],
   "source": [
    "class AgentState(TypedDict):\n",
    "    ask: str\n",
    "    poem: str\n",
    "    joke: str\n",
    "\n",
    "system_prompt =\"You are an expert in writing poems You are also very good at making a joke out of anything. Let your output be 3 lines only\"\n",
    "def poem_node(state:TypedDict):\n",
    "    \"\"\" create a 3 line poem\"\"\"\n",
    "    messages = [\n",
    "         SystemMessage(content=system_prompt),\n",
    "        HumanMessage(content = state['ask'])\n",
    "    ]\n",
    "    response = model.invoke(messages)\n",
    "\n",
    "    return  {\"poem\":response.content}\n",
    "\n",
    "\n",
    "    \n",
    "    "
   ]
  },
  {
   "cell_type": "code",
   "execution_count": 75,
   "id": "56e3be72-5e95-4a0c-87f8-a11d3f7d5875",
   "metadata": {},
   "outputs": [],
   "source": [
    "def joke_node(state:AgentState):\n",
    "    \"\"\"Make a joke out of the poem\"\"\"\n",
    "    # state['ask']=\"Make a funny out of the poem\"\n",
    "    # messages = [state['ask'] + state['poem']]\n",
    "    # messages = [state['ask']] + [state['poem']]\n",
    "    input=\"write a joke about the poem\"\n",
    "    messages = [\n",
    "        SystemMessage(content=system_prompt),\n",
    "        HumanMessage(content=state['poem']),\n",
    "        HumanMessage(content=input),\n",
    "    ]\n",
    "    print(\"JOKE MESSAGE:\", messages)\n",
    "    response = model.invoke(messages)\n",
    "    return {\"joke\":response.content}\n",
    "\n"
   ]
  },
  {
   "cell_type": "code",
   "execution_count": 76,
   "id": "c084fdf0-eef3-4d7d-afe3-f5ea062cbfb0",
   "metadata": {},
   "outputs": [],
   "source": [
    "graph = StateGraph(AgentState)\n",
    "POEM= \"Poem Node\"\n",
    "JOKE = \"Joke Node\"\n",
    "graph.add_node(POEM, poem_node)\n",
    "graph.add_node(JOKE, joke_node)\n",
    "\n",
    "graph.add_edge(START, POEM)\n",
    "graph.add_edge(POEM, JOKE)\n",
    "graph.add_edge(JOKE,END)\n",
    "\n",
    "app = graph.compile()\n"
   ]
  },
  {
   "cell_type": "code",
   "execution_count": 77,
   "id": "fcf197e7-37be-431c-ad91-7c9bc32213d3",
   "metadata": {},
   "outputs": [
    {
     "data": {
      "image/png": "[encoded data removed]",
      "text/plain": [
       "<langgraph.graph.state.CompiledStateGraph object at 0x000002149978F430>"
      ]
     },
     "execution_count": 77,
     "metadata": {},
     "output_type": "execute_result"
    }
   ],
   "source": [
    "app"
   ]
  },
  {
   "cell_type": "code",
   "execution_count": 79,
   "id": "927510a4-904d-41af-9b17-b7e14f9e06b1",
   "metadata": {},
   "outputs": [
    {
     "name": "stdout",
     "output_type": "stream",
     "text": [
      "========ask================\n",
      "- write a poem. no snail poem\n",
      "\n",
      "\n",
      "========poem================\n",
      "- In a world where socks go missing,  \n",
      "I ponder if they’re off on a mission,  \n",
      "To find their sole-mates, what a funny vision!\n",
      "\n",
      "\n",
      "JOKE MESSAGE [SystemMessage(content='You are an expert in writing poems You are also very good at making a joke out of anything. Let your output be 3 lines only', additional_kwargs={}, response_metadata={}), HumanMessage(content='In a world where socks go missing,  \\nI ponder if they’re off on a mission,  \\nTo find their sole-mates, what a funny vision!', additional_kwargs={}, response_metadata={}), HumanMessage(content='write a joke about the poem', additional_kwargs={}, response_metadata={})]\n",
      "========joke================\n",
      "- Why did the sock break up with its partner?  \n",
      "Because it couldn't handle the pressure of a \"sole\" relationship!\n",
      "\n",
      "\n"
     ]
    }
   ],
   "source": [
    "input = {\"ask\":\"write a poem.\"}\n",
    "streams = app.stream(input, stream_mode=\"values\")\n",
    "\n",
    "for s in streams:\n",
    "    message = list(s.items())[-1]\n",
    "    print(f\"========{message[0]}================\")\n",
    "    print(f\"- {message[1]}\\n\\n\") \n",
    "     "
   ]
  },
  {
   "cell_type": "code",
   "execution_count": 44,
   "id": "1701b011-bd03-4bd5-840e-a351908b00cb",
   "metadata": {},
   "outputs": [],
   "source": [
    "msg = ('poem', 'In the garden where laughter blooms,  \\nSunshine dances, chasing gloom,  \\nEven weeds wear silly costumes!')"
   ]
  },
  {
   "cell_type": "code",
   "execution_count": 46,
   "id": "8e8ae000-7106-4983-b926-e588890ee480",
   "metadata": {},
   "outputs": [
    {
     "data": {
      "text/plain": [
       "'In the garden where laughter blooms,  \\nSunshine dances, chasing gloom,  \\nEven weeds wear silly costumes!'"
      ]
     },
     "execution_count": 46,
     "metadata": {},
     "output_type": "execute_result"
    }
   ],
   "source": [
    "msg[1]"
   ]
  },
  {
   "cell_type": "code",
   "execution_count": null,
   "id": "63bdf900-f4c1-4942-81b6-9853dc11ac45",
   "metadata": {},
   "outputs": [],
   "source": []
  }
 ],
 "metadata": {
  "kernelspec": {
   "display_name": "Python (AIenv)",
   "language": "python",
   "name": "aienv"
  },
  "language_info": {
   "codemirror_mode": {
    "name": "ipython",
    "version": 3
   },
   "file_extension": ".py",
   "mimetype": "text/x-python",
   "name": "python",
   "nbconvert_exporter": "python",
   "pygments_lexer": "ipython3",
   "version": "3.10.10"
  }
 },
 "nbformat": 4,
 "nbformat_minor": 5
}
