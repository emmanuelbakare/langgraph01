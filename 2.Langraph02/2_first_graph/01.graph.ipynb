{
 "cells": [
  {
   "cell_type": "markdown",
   "id": "f5990e7b-1a95-47d5-b55e-df55c23b1c8b",
   "metadata": {},
   "source": [
    "# Our First Graph"
   ]
  },
  {
   "cell_type": "code",
   "execution_count": null,
   "id": "aec42317-fc70-40b8-bbd9-1f9ebce37db3",
   "metadata": {},
   "outputs": [],
   "source": [
    "# specify the imports \n",
    "from typing import TypedDict\n",
    "from langgraph.graph import StateGraph"
   ]
  },
  {
   "cell_type": "code",
   "execution_count": 5,
   "id": "507e6d4e-f9ef-4209-8177-6d88ba8009a8",
   "metadata": {},
   "outputs": [],
   "source": [
    "# Create a Type dictionary\n",
    "class AgentState(TypedDict):\n",
    "    message: str\n",
    "\n",
    "# create a node that uses the typed dictionary and returns a type dictionary\n",
    "#in this instance the dictionary \"state\" creates and returns a greeting\n",
    "def greeting_node(state:AgentState)->AgentState:\n",
    "    \"\"\"Simple message that adds a greeting to the state \"\"\"\n",
    "    state[\"message\"]=\"Hey \"+state[\"message\"] + \" How is your day\" \n",
    "    return state\n",
    "    "
   ]
  },
  {
   "cell_type": "code",
   "execution_count": 10,
   "id": "ccf01579-4b05-4c05-b865-4e192442565e",
   "metadata": {},
   "outputs": [],
   "source": [
    "# create a stategraph to expect a TypedDict AgentState\n",
    "graph = StateGraph(AgentState)\n",
    "\n",
    "GREET=\"greater\" # a label for any node created\n",
    "\n",
    "#add the node to the graph\n",
    "graph.add_node(GREET, greeting_node)\n",
    "#set the entry and finish point for the graph\n",
    "graph.set_entry_point(GREET)\n",
    "graph.set_finish_point(GREET)\n",
    "#compile the graph\n",
    "app = graph.compile()"
   ]
  },
  {
   "cell_type": "code",
   "execution_count": 12,
   "id": "592f26f3-18cc-4680-b9fa-d268e1e6b85e",
   "metadata": {},
   "outputs": [
    {
     "data": {
      "image/png": "[encoded data removed]",
      "text/plain": [
       "<IPython.core.display.Image object>"
      ]
     },
     "metadata": {},
     "output_type": "display_data"
    }
   ],
   "source": [
    "# use the iPython Library to visualize the graph\n",
    "from IPython.display import Image, display\n",
    "display(Image(app.get_graph().draw_mermaid_png()))"
   ]
  },
  {
   "cell_type": "code",
   "execution_count": 14,
   "id": "50144da8-27d0-4af3-9ae4-fae738dbadfd",
   "metadata": {},
   "outputs": [],
   "source": [
    "# get the result of the app\n",
    "result = app.invoke({\"message\":\"Emmanuel\"})"
   ]
  },
  {
   "cell_type": "code",
   "execution_count": 17,
   "id": "6566c7b5-d503-4995-9737-69e616c1ba25",
   "metadata": {},
   "outputs": [
    {
     "data": {
      "text/plain": [
       "{'message': 'Hey Emmanuel How is your day'}"
      ]
     },
     "execution_count": 17,
     "metadata": {},
     "output_type": "execute_result"
    }
   ],
   "source": [
    "result"
   ]
  },
  {
   "cell_type": "code",
   "execution_count": null,
   "id": "97bac2dd-8a06-46fd-97ed-1b0beb701f5b",
   "metadata": {},
   "outputs": [],
   "source": []
  }
 ],
 "metadata": {
  "kernelspec": {
   "display_name": "Python (AIenv)",
   "language": "python",
   "name": "aienv"
  },
  "language_info": {
   "codemirror_mode": {
    "name": "ipython",
    "version": 3
   },
   "file_extension": ".py",
   "mimetype": "text/x-python",
   "name": "python",
   "nbconvert_exporter": "python",
   "pygments_lexer": "ipython3",
   "version": "3.10.10"
  }
 },
 "nbformat": 4,
 "nbformat_minor": 5
}
