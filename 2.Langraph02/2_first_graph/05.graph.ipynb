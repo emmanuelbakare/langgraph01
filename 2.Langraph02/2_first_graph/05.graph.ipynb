{
 "cells": [
  {
   "cell_type": "markdown",
   "id": "d6bc038c-b219-45c4-939e-503013d9cd75",
   "metadata": {},
   "source": [
    "## Example for Multiple Nodes, Multiple Parameters"
   ]
  },
  {
   "cell_type": "code",
   "execution_count": 11,
   "id": "3b5ee1f7-acf6-4485-bd7d-c7bb05a77bc5",
   "metadata": {},
   "outputs": [],
   "source": [
    "from typing import TypedDict, List\n",
    "from langgraph.graph import StateGraph\n",
    "\n",
    "class AgentState(TypedDict):\n",
    "    name: str\n",
    "    age: str\n",
    "    skills: List[str]\n",
    "    store: str\n"
   ]
  },
  {
   "cell_type": "code",
   "execution_count": 12,
   "id": "cd7d4454-9fb2-4741-9cf4-e6045c4b72b5",
   "metadata": {},
   "outputs": [],
   "source": [
    "def greeting_node(state:AgentState)->AgentState:\n",
    "    \"\"\" Agent node to greet\"\"\"\n",
    "\n",
    "    state['store'] = f\"{state['name']}, Welcome to the System!\"\n",
    "    return state\n",
    "\n",
    "\n",
    "\n",
    "def age_node(state:AgentState)->AgentState:\n",
    "    \"\"\" Agent node to display age message\"\"\"\n",
    "\n",
    "    state['store'] += f\" You are {state['age']} years old!\"\n",
    "    return state\n",
    "\n",
    "\n",
    "def skills_node(state:AgentState)->AgentState:\n",
    "    \"\"\" Agent node to display age message\"\"\"\n",
    "    \n",
    "    skills_levels = \", \".join(state['skills'])\n",
    "    state['store'] += f\" you have skills in {skills_levels}\"\n",
    "    return state\n",
    "    "
   ]
  },
  {
   "cell_type": "code",
   "execution_count": 13,
   "id": "17a45737-bfee-4856-be5b-20b20efaf10d",
   "metadata": {},
   "outputs": [],
   "source": [
    "graph = StateGraph(AgentState)\n",
    "\n",
    "GREET= \"Greeting\"\n",
    "AGE = \"Age\"\n",
    "SKILLS= \"Skills\"\n",
    "\n",
    "graph.add_node(GREET, greeting_node)\n",
    "graph.add_node(AGE, age_node)\n",
    "graph.add_node(SKILLS, skills_node)\n",
    "\n",
    "graph.set_entry_point(GREET)\n",
    "graph.add_edge(GREET,AGE)\n",
    "graph.add_edge(AGE,SKILLS)\n",
    "\n",
    "graph.set_finish_point(SKILLS)\n",
    "\n",
    "app= graph.compile()\n"
   ]
  },
  {
   "cell_type": "code",
   "execution_count": 14,
   "id": "a73ffd77-b00d-45dd-9f49-d8863c7411af",
   "metadata": {},
   "outputs": [
    {
     "data": {
      "image/png": "[encoded data removed]",
      "text/plain": [
       "<langgraph.graph.state.CompiledStateGraph object at 0x00000218539612A0>"
      ]
     },
     "execution_count": 14,
     "metadata": {},
     "output_type": "execute_result"
    }
   ],
   "source": [
    "app"
   ]
  },
  {
   "cell_type": "code",
   "execution_count": 18,
   "id": "53875ff0-8696-4d90-8a90-45bf0991dc75",
   "metadata": {},
   "outputs": [],
   "source": [
    "context = AgentState(name=\"Gbigbega Bakare\", age=13, skills=['Python', 'Full Stack', 'Robotics Engineering','Cinematography', ' Visual Effects and Animation'])\n",
    "\n",
    "# result= app.invoke({\n",
    "#     \"name\": \"Gbigbega\",\n",
    "#     \"age\": 16 ,\n",
    "#     \"skills\": ['Python', 'Full Stack', 'Robotics Engineering','Cinematography', ' Visual Effects and Animation']\n",
    "# })\n",
    "result = app.invoke(context)\n"
   ]
  },
  {
   "cell_type": "code",
   "execution_count": 19,
   "id": "847b2a38-946c-4e9c-a2f5-78a701902a75",
   "metadata": {},
   "outputs": [
    {
     "data": {
      "text/plain": [
       "'Gbigbega Bakare, Welcome to the System! You are 13 years old! you have skills in Python, Full Stack, Robotics Engineering, Cinematography,  Visual Effects and Animation'"
      ]
     },
     "execution_count": 19,
     "metadata": {},
     "output_type": "execute_result"
    }
   ],
   "source": [
    "result.get('store')"
   ]
  },
  {
   "cell_type": "code",
   "execution_count": null,
   "id": "cc8661c6-ef05-4063-95c4-f0f548ae2a8e",
   "metadata": {},
   "outputs": [],
   "source": []
  }
 ],
 "metadata": {
  "kernelspec": {
   "display_name": "Python (AIenv)",
   "language": "python",
   "name": "aienv"
  },
  "language_info": {
   "codemirror_mode": {
    "name": "ipython",
    "version": 3
   },
   "file_extension": ".py",
   "mimetype": "text/x-python",
   "name": "python",
   "nbconvert_exporter": "python",
   "pygments_lexer": "ipython3",
   "version": "3.10.10"
  }
 },
 "nbformat": 4,
 "nbformat_minor": 5
}
