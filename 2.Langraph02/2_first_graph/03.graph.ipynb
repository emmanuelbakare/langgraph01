{
 "cells": [
  {
   "cell_type": "markdown",
   "id": "393eb9f2-26fe-4def-9c51-0e98bd407686",
   "metadata": {},
   "source": [
    "## Example for passing in Multiple Parameter to a Node"
   ]
  },
  {
   "cell_type": "code",
   "execution_count": 2,
   "id": "143a4768-dbb0-4a86-b2eb-e7dd5bde0dcc",
   "metadata": {},
   "outputs": [],
   "source": [
    "from typing import TypedDict, List\n",
    "from langgraph.graph import StateGraph\n",
    "\n",
    "class AgentState(TypedDict):\n",
    "    values: List[int]\n",
    "    name: str\n",
    "    result: str \n",
    "\n",
    "def  process_value(state:AgentState)->AgentState:\n",
    "    \"\"\"This function handles multiple different input \"\"\"\n",
    "    state['result']=f\"Hi {state['name']} your value sum is {sum(state['values'])}\" \n",
    "    return state"
   ]
  },
  {
   "cell_type": "code",
   "execution_count": 7,
   "id": "a3bdd6ff-7582-4447-8a00-468fd2bcbe60",
   "metadata": {},
   "outputs": [],
   "source": [
    "graph = StateGraph(AgentState)\n",
    "PC = \"Proccessor\"\n",
    "\n",
    "graph.add_node(PC, process_value)\n",
    "graph.set_entry_point(PC)\n",
    "graph.set_finish_point(PC)\n",
    "\n",
    "app=graph.compile()\n"
   ]
  },
  {
   "cell_type": "code",
   "execution_count": 8,
   "id": "dc9d9b00-e7ba-4ba4-af0c-a375b10aa47c",
   "metadata": {},
   "outputs": [
    {
     "data": {
      "image/png": "[encoded data removed]",
      "text/plain": [
       "<langgraph.graph.state.CompiledStateGraph object at 0x0000029AF7FC0700>"
      ]
     },
     "execution_count": 8,
     "metadata": {},
     "output_type": "execute_result"
    }
   ],
   "source": [
    "app"
   ]
  },
  {
   "cell_type": "code",
   "execution_count": 9,
   "id": "05b4e165-5ef5-40b1-8532-5409e57480ba",
   "metadata": {},
   "outputs": [],
   "source": [
    "result = app.invoke({\"name\":\"Bakare\", \"values\":[3,5,2]})"
   ]
  },
  {
   "cell_type": "code",
   "execution_count": 10,
   "id": "4c432879-c779-4bb1-82c1-6a13b9e3236c",
   "metadata": {},
   "outputs": [
    {
     "data": {
      "text/plain": [
       "'Hi Bakare your value sum is 10'"
      ]
     },
     "execution_count": 10,
     "metadata": {},
     "output_type": "execute_result"
    }
   ],
   "source": [
    "result.get('result')"
   ]
  },
  {
   "cell_type": "code",
   "execution_count": null,
   "id": "9b1805ef-0581-4f26-9852-093958554fbb",
   "metadata": {},
   "outputs": [],
   "source": []
  }
 ],
 "metadata": {
  "kernelspec": {
   "display_name": "Python (AIenv)",
   "language": "python",
   "name": "aienv"
  },
  "language_info": {
   "codemirror_mode": {
    "name": "ipython",
    "version": 3
   },
   "file_extension": ".py",
   "mimetype": "text/x-python",
   "name": "python",
   "nbconvert_exporter": "python",
   "pygments_lexer": "ipython3",
   "version": "3.10.10"
  }
 },
 "nbformat": 4,
 "nbformat_minor": 5
}
