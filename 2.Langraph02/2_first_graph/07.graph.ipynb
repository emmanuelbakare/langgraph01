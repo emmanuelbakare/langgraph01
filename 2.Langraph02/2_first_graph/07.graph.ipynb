{
 "cells": [
  {
   "cell_type": "markdown",
   "id": "95a54e69-22fe-4ee0-aa4e-6a1de69f7f01",
   "metadata": {},
   "source": [
    "## Using Conditional Loop"
   ]
  },
  {
   "cell_type": "code",
   "execution_count": 4,
   "id": "38fe99ae-0052-48f5-8f51-0727cb7192ef",
   "metadata": {},
   "outputs": [],
   "source": [
    "from typing import TypedDict, List\n",
    "from langgraph.graph import StateGraph, END, START\n",
    "import random\n",
    "\n",
    "class AgentState(TypedDict):\n",
    "    name: str\n",
    "    number: List[int]\n",
    "    counter: int\n",
    "    \n",
    "    "
   ]
  },
  {
   "cell_type": "code",
   "execution_count": 35,
   "id": "046af380-77a3-45c0-a401-b2d5b8a82364",
   "metadata": {},
   "outputs": [],
   "source": [
    "def greeting_node(state:AgentState)->AgentState:\n",
    "    \"\"\" Greeting node which says hi to person\"\"\"\n",
    "\n",
    "    state['name']= f\" Hi {state['name']}!\"\n",
    "    state['counter'] = 0\n",
    "    return state\n",
    "\n",
    "def random_node(state:AgentState)->AgentState:\n",
    "    \"\"\" Generate Random Number from 0 to 10\"\"\"\n",
    "\n",
    "    state['number'].append(random.randint(0,10))\n",
    "    state['counter'] +=1\n",
    "\n",
    "    return state\n",
    "\n",
    "def should_continue(state:AgentState)->AgentState:\n",
    "    \"\"\"Function to decide what to do\"\"\"\n",
    "\n",
    "    if state['counter'] < 5:\n",
    "        return \"loop\"\n",
    "    else:\n",
    "        return \"exit\""
   ]
  },
  {
   "cell_type": "code",
   "execution_count": 36,
   "id": "2873d0a3",
   "metadata": {},
   "outputs": [],
   "source": [
    "# start -> greeting ->random -> random -> random -> random -> random -> END"
   ]
  },
  {
   "cell_type": "code",
   "execution_count": 37,
   "id": "eba43fec-1247-47ee-8b46-e10989f9e985",
   "metadata": {},
   "outputs": [],
   "source": [
    "graph = StateGraph(AgentState)\n",
    "GREET= \"Greeting\"\n",
    "RANDOM = \"Random No\"\n",
    "ROUTE = \"Continue?\"\n",
    "\n",
    "graph.add_node(GREET, greeting_node)\n",
    "graph.add_node(RANDOM, random_node)\n",
    "# graph.add_node(ROUTE,should_continue)\n",
    "\n",
    "graph.add_edge(START, GREET)\n",
    "graph.add_edge(GREET, RANDOM)\n",
    "graph.add_conditional_edges(RANDOM,should_continue,{ \"loop\": RANDOM, \"exit\":END})\n",
    "\n",
    "app = graph.compile()\n"
   ]
  },
  {
   "cell_type": "code",
   "execution_count": 38,
   "id": "552f6f29-2bd1-4a1c-855a-131d0e238509",
   "metadata": {},
   "outputs": [
    {
     "data": {
      "image/png": "[encoded data removed]",
      "text/plain": [
       "<IPython.core.display.Image object>"
      ]
     },
     "metadata": {},
     "output_type": "display_data"
    }
   ],
   "source": [
    "from IPython.display import display, Image\n",
    "display(Image(app.get_graph().draw_mermaid_png()))"
   ]
  },
  {
   "cell_type": "code",
   "execution_count": 39,
   "id": "5dfe9e00-3844-4b69-8b93-807b0c7b1429",
   "metadata": {},
   "outputs": [
    {
     "data": {
      "text/plain": [
       "{'name': ' Hi Emmanuel!', 'number': [6, 3, 5, 4, 1], 'counter': 5}"
      ]
     },
     "execution_count": 39,
     "metadata": {},
     "output_type": "execute_result"
    }
   ],
   "source": [
    "# context= AgentState(name=\"Emmanuel\", number=[], counter=-1)\n",
    "# result = app.invoke(context)\n",
    "\n",
    "result = app.invoke({\n",
    "    \"name\":\"Emmanuel\",\n",
    "    \"number\":[],\n",
    "    \"counter\":-1\n",
    "})\n",
    "result"
   ]
  },
  {
   "cell_type": "code",
   "execution_count": null,
   "id": "1dccbdff-d29d-4d71-b4a3-56021b5ef549",
   "metadata": {},
   "outputs": [],
   "source": []
  }
 ],
 "metadata": {
  "kernelspec": {
   "display_name": "Python (AIenv)",
   "language": "python",
   "name": "aienv"
  },
  "language_info": {
   "codemirror_mode": {
    "name": "ipython",
    "version": 3
   },
   "file_extension": ".py",
   "mimetype": "text/x-python",
   "name": "python",
   "nbconvert_exporter": "python",
   "pygments_lexer": "ipython3",
   "version": "3.10.10"
  }
 },
 "nbformat": 4,
 "nbformat_minor": 5
}
