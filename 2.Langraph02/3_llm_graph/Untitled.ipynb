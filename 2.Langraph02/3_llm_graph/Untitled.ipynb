{
 "cells": [
  {
   "cell_type": "code",
   "execution_count": 3,
   "id": "90019187-4c7e-42f8-a831-69d6c69b057a",
   "metadata": {},
   "outputs": [],
   "source": [
    "from langchain_core.messages import BaseMessage, SystemMessage, ToolMessage, HumanMessage, AIMessage"
   ]
  },
  {
   "cell_type": "code",
   "execution_count": 56,
   "id": "2c79d274-4565-45dc-9595-6e721f9e2656",
   "metadata": {},
   "outputs": [],
   "source": [
    "response= {'messages': [HumanMessage(content='Add 3 + 4 and multiply it by 2.', additional_kwargs={}, response_metadata={}, id='d3ad5b4f-7077-4e5d-af4b-b029b2131caa'), AIMessage(content='', additional_kwargs={'function_call': {'name': 'add', 'arguments': '{\"a\": 3.0, \"b\": 4.0}'}}, response_metadata={'prompt_feedback': {'block_reason': 0, 'safety_ratings': []}, 'finish_reason': 'STOP', 'model_name': 'models/gemini-2.5-flash-preview-05-20', 'safety_ratings': []}, id='run--8039b3af-7ec8-4f60-b91b-93ca5e2d6df4-0', tool_calls=[{'name': 'add', 'args': {'a': 3.0, 'b': 4.0}, 'id': 'c8b8c5dd-9646-406e-b93f-6fe8bd721b8e', 'type': 'tool_call'}], usage_metadata={'input_tokens': 239, 'output_tokens': 18, 'total_tokens': 414, 'input_token_details': {'cache_read': 0}, 'output_token_details': {'reasoning': 157}})]}"
   ]
  },
  {
   "cell_type": "code",
   "execution_count": 57,
   "id": "c519776c-60bb-49c8-8533-c59a51782b48",
   "metadata": {},
   "outputs": [],
   "source": [
    " def print_stream(stream):\n",
    "    for s in stream:\n",
    "        message = s['messages'][-1]\n",
    "\n",
    "        if isinstance(message, tuple):\n",
    "            print(message)\n",
    "        else:\n",
    "            message.pretty_print()"
   ]
  },
  {
   "cell_type": "code",
   "execution_count": null,
   "id": "44987860-8916-4031-bb4a-d4c861bee362",
   "metadata": {},
   "outputs": [],
   "source": []
  },
  {
   "cell_type": "code",
   "execution_count": 58,
   "id": "3801d79c-d3d0-474e-8adb-b70cd929dac8",
   "metadata": {},
   "outputs": [
    {
     "name": "stdout",
     "output_type": "stream",
     "text": [
      "****************************************************************************************************\n",
      "1 : <class 'tuple'> ('content', '')\n",
      "\n",
      "2 : <class 'tuple'> ('additional_kwargs', {'function_call': {'name': 'add', 'arguments': '{\"a\": 3.0, \"b\": 4.0}'}})\n",
      "\n",
      "3 : <class 'tuple'> ('response_metadata', {'prompt_feedback': {'block_reason': 0, 'safety_ratings': []}, 'finish_reason': 'STOP', 'model_name': 'models/gemini-2.5-flash-preview-05-20', 'safety_ratings': []})\n",
      "\n",
      "4 : <class 'tuple'> ('type', 'ai')\n",
      "\n",
      "5 : <class 'tuple'> ('name', None)\n",
      "\n",
      "6 : <class 'tuple'> ('id', 'run--8039b3af-7ec8-4f60-b91b-93ca5e2d6df4-0')\n",
      "\n",
      "7 : <class 'tuple'> ('example', False)\n",
      "\n",
      "8 : <class 'tuple'> ('tool_calls', [{'name': 'add', 'args': {'a': 3.0, 'b': 4.0}, 'id': 'c8b8c5dd-9646-406e-b93f-6fe8bd721b8e', 'type': 'tool_call'}])\n",
      "\n",
      "9 : <class 'tuple'> ('invalid_tool_calls', [])\n",
      "\n",
      "10 : <class 'tuple'> ('usage_metadata', {'input_tokens': 239, 'output_tokens': 18, 'total_tokens': 414, 'input_token_details': {'cache_read': 0}, 'output_token_details': {'reasoning': 157}})\n",
      "\n"
     ]
    }
   ],
   "source": [
    "stream = response['messages'][-1]\n",
    "# print(stream)\n",
    "print('*'*100)\n",
    "for no, s in enumerate(stream,1):\n",
    "    # if l.tool_calls:\n",
    "    #     print(\"Tool was Called\\n\")\n",
    "    if isinstance(s, tuple):\n",
    "        print(no,\":\",type(s),s)\n",
    "    else:\n",
    "        print(\"Not Tuple\")\n",
    "    \n",
    "    print()"
   ]
  },
  {
   "cell_type": "code",
   "execution_count": null,
   "id": "c3d86ffe-1fa0-42a9-97ca-c714475776ef",
   "metadata": {},
   "outputs": [],
   "source": []
  }
 ],
 "metadata": {
  "kernelspec": {
   "display_name": "Python (AIenv)",
   "language": "python",
   "name": "aienv"
  },
  "language_info": {
   "codemirror_mode": {
    "name": "ipython",
    "version": 3
   },
   "file_extension": ".py",
   "mimetype": "text/x-python",
   "name": "python",
   "nbconvert_exporter": "python",
   "pygments_lexer": "ipython3",
   "version": "3.10.10"
  }
 },
 "nbformat": 4,
 "nbformat_minor": 5
}
