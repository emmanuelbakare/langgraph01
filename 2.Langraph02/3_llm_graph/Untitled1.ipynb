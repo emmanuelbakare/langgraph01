{
 "cells": [
  {
   "cell_type": "code",
   "execution_count": 1,
   "id": "df7cc011-f1a4-4b33-903e-f61c99b16069",
   "metadata": {},
   "outputs": [
    {
     "ename": "ImportError",
     "evalue": "cannot import name 'MemorySaver' from 'langgraph.checkpoint' (unknown location)",
     "output_type": "error",
     "traceback": [
      "\u001b[1;31m---------------------------------------------------------------------------\u001b[0m",
      "\u001b[1;31mImportError\u001b[0m                               Traceback (most recent call last)",
      "Cell \u001b[1;32mIn[1], line 2\u001b[0m\n\u001b[0;32m      1\u001b[0m \u001b[38;5;28;01mfrom\u001b[39;00m\u001b[38;5;250m \u001b[39m\u001b[38;5;21;01mlanggraph\u001b[39;00m\u001b[38;5;21;01m.\u001b[39;00m\u001b[38;5;21;01mgraph\u001b[39;00m\u001b[38;5;250m \u001b[39m\u001b[38;5;28;01mimport\u001b[39;00m StateGraph\n\u001b[1;32m----> 2\u001b[0m \u001b[38;5;28;01mfrom\u001b[39;00m\u001b[38;5;250m \u001b[39m\u001b[38;5;21;01mlanggraph\u001b[39;00m\u001b[38;5;21;01m.\u001b[39;00m\u001b[38;5;21;01mcheckpoint\u001b[39;00m\u001b[38;5;250m \u001b[39m\u001b[38;5;28;01mimport\u001b[39;00m MemorySaver\n\u001b[0;32m      4\u001b[0m \u001b[38;5;66;03m# Example node functions\u001b[39;00m\n\u001b[0;32m      5\u001b[0m \u001b[38;5;28;01mdef\u001b[39;00m\u001b[38;5;250m \u001b[39m\u001b[38;5;21mpoem_node\u001b[39m(state):\n",
      "\u001b[1;31mImportError\u001b[0m: cannot import name 'MemorySaver' from 'langgraph.checkpoint' (unknown location)"
     ]
    }
   ],
   "source": [
    "from langgraph.graph import StateGraph\n",
    "from langgraph.checkpoint import MemorySaver\n",
    "\n",
    "# Example node functions\n",
    "def poem_node(state):\n",
    "    state['poem'] = \"Roses are red,\\nViolets are blue,\\nLangGraph is neat,\\nAnd so are you.\"\n",
    "    return state\n",
    "\n",
    "def joke_node(state):\n",
    "    state['joke'] = \"Why don't scientists trust atoms? Because they make up everything!\"\n",
    "    return state\n",
    "\n",
    "# Define states and graph\n",
    "class AgentState(dict): pass\n",
    "\n",
    "graph = StateGraph(AgentState)\n",
    "graph.add_node(\"POEM\", poem_node)\n",
    "graph.add_node(\"JOKE\", joke_node)\n",
    "graph.set_entry_point(\"POEM\")\n",
    "graph.add_edge(\"POEM\", \"JOKE\")\n",
    "graph.set_finish_point(\"JOKE\")\n",
    "\n",
    "app = graph.compile()\n",
    "\n",
    "input_data = {\"ask\": \"write a poem and a joke\"}\n",
    "\n",
    "# Stream and interrupt BEFORE JOKE node\n",
    "for step in app.stream(\n",
    "    input_data,\n",
    "    stream_mode=\"state\",\n",
    "    interrupt_before=\"JOKE\"\n",
    "):\n",
    "    print(\"Interrupted before 'JOKE' node!\")\n",
    "    print(\"Current state:\", step)\n",
    "    # Here you could inspect/modify state or wait for human input\n",
    "    break  # Stop here for demonstration\n"
   ]
  },
  {
   "cell_type": "code",
   "execution_count": null,
   "id": "66dbf76b-afaa-4963-a473-4e4829c3d0be",
   "metadata": {},
   "outputs": [],
   "source": []
  }
 ],
 "metadata": {
  "kernelspec": {
   "display_name": "Python (AIenv)",
   "language": "python",
   "name": "aienv"
  },
  "language_info": {
   "codemirror_mode": {
    "name": "ipython",
    "version": 3
   },
   "file_extension": ".py",
   "mimetype": "text/x-python",
   "name": "python",
   "nbconvert_exporter": "python",
   "pygments_lexer": "ipython3",
   "version": "3.10.10"
  }
 },
 "nbformat": 4,
 "nbformat_minor": 5
}
