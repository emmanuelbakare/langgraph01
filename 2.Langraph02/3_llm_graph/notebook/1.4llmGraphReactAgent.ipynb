{
 "cells": [
  {
   "cell_type": "markdown",
   "id": "6c20a7e0-00d7-4bce-8257-eae80b5df33e",
   "metadata": {},
   "source": [
    "## Use Use Multiple tools with LLM (ReAct) in Langgraph"
   ]
  },
  {
   "cell_type": "code",
   "execution_count": 31,
   "id": "214d5071-a067-4a75-87c9-aaf0d3f02385",
   "metadata": {},
   "outputs": [
    {
     "data": {
      "text/plain": [
       "True"
      ]
     },
     "execution_count": 31,
     "metadata": {},
     "output_type": "execute_result"
    }
   ],
   "source": [
    "from typing import TypedDict, Sequence, Annotated\n",
    "from dotenv import load_dotenv\n",
    "from langchain_core.messages import BaseMessage, SystemMessage, ToolMessage\n",
    "from langchain.agents import tool, initialize_agent\n",
    "from langgraph.graph.message import add_messages\n",
    "from langgraph.graph import StateGraph, START, END\n",
    "from langgraph.prebuilt import ToolNode\n",
    "from langchain_google_genai import ChatGoogleGenerativeAI\n",
    "from langchain_openai import ChatOpenAI\n",
    "\n",
    "load_dotenv()"
   ]
  },
  {
   "cell_type": "markdown",
   "id": "b78d45f9-a0fc-4855-a9dc-10ef8a3e15a7",
   "metadata": {},
   "source": [
    "### Create multiple tools, then create LLM and bind the tool to it."
   ]
  },
  {
   "cell_type": "code",
   "execution_count": 32,
   "id": "d27e0daa-6b2f-4c31-a43f-42b969ab2ce6",
   "metadata": {},
   "outputs": [],
   "source": [
    "@tool\n",
    "def add(a:int, b:int):\n",
    "    \"\"\"This is an Addition function that adds two numbers together\"\"\"\n",
    "    return a + b \n",
    "\n",
    "@tool\n",
    "def subtract(a:int, b:int):\n",
    "    \"\"\"This is an Substration function that Substract one number from the other\"\"\"\n",
    "    return a - b \n",
    "\n",
    "@tool\n",
    "def multiply(a:int, b:int):\n",
    "    \"\"\"This is an Multiplication function that multiplies two numbers\"\"\"\n",
    "    return a * b \n",
    "\n",
    "\n",
    "\n",
    "@tool\n",
    "def divide(a:int, b:int):\n",
    "    \"\"\"This is an Division function that divides one numbers from the other\"\"\"\n",
    "    return a / b \n",
    "\n",
    "\n",
    "\n",
    "tools = [add,subtract, multiply, divide]\n",
    "\n",
    "#invoke llm and bind tools to it.\n",
    "# model = ChatOpenAI(model=\"gpt-4o\").bind_tools(tools)\n",
    "model = ChatGoogleGenerativeAI(model='gemini-2.5-flash-preview-05-20').bind_tools(tools)"
   ]
  },
  {
   "cell_type": "markdown",
   "id": "771d410b-bbff-45c9-8373-e28c7763184f",
   "metadata": {},
   "source": [
    "### Define the nodes"
   ]
  },
  {
   "cell_type": "code",
   "execution_count": 47,
   "id": "09abc7cf-4a4b-4b0a-8da6-5194d0dec316",
   "metadata": {},
   "outputs": [],
   "source": [
    "class AgentState(TypedDict):\n",
    "    #this property uses add_meessage to concatenate messages passed to 'messages' instead of overwriting them\n",
    "    messages: Annotated[Sequence[BaseMessage], add_messages]\n",
    "\n",
    "def agent_call(state:AgentState)->AgentState:\n",
    "    system_prompt = SystemMessage(content=\"You are my AI Assistant. Please answer my query to the best of your ability\")\n",
    "    messages = [system_prompt] + state['messages']\n",
    "    response = model.invoke(messages)\n",
    "    # for mem in result[\"messages\"]:\n",
    "    #     # print(mem.tool_calls)\n",
    "    #     # print()\n",
    "    #     print(f\"{mem}\\n\")\n",
    "    return {\"messages\":[response]}\n",
    "\n",
    "def should_continue(state:AgentState):\n",
    "    messages = state['messages']\n",
    "    # check is there is a tool to call on the last message\n",
    "    last_message = messages[-1]\n",
    "    print(last_message)\n",
    "    if last_message.tool_calls:\n",
    "        return 'continue'\n",
    "    else:\n",
    "        return 'end'"
   ]
  },
  {
   "cell_type": "markdown",
   "id": "76802b58-6923-46eb-8cf0-7d1735518157",
   "metadata": {},
   "source": [
    "### Connect the nodes and compile it"
   ]
  },
  {
   "cell_type": "code",
   "execution_count": 48,
   "id": "cf0cfc40-76c0-4323-ba7f-0e0d0b796a06",
   "metadata": {},
   "outputs": [],
   "source": [
    "AGENT=\"Agent Node\"\n",
    "TOOL = \"Tools\"\n",
    "graph= StateGraph(AgentState)\n",
    "\n",
    "graph.add_node(AGENT, agent_call)\n",
    "\n",
    "graph.add_edge(START, AGENT)\n",
    "\n",
    "tool_node = ToolNode(tools=tools)\n",
    "graph.add_node(TOOL, tool_node)\n",
    "\n",
    "graph.add_conditional_edges(\n",
    "    AGENT,\n",
    "    should_continue,\n",
    "    {\n",
    "        \"continue\": TOOL,\n",
    "        \"end\": END\n",
    "    }\n",
    ")\n",
    "\n",
    "graph.add_edge(TOOL, AGENT)\n",
    "\n",
    "app = graph.compile()"
   ]
  },
  {
   "cell_type": "code",
   "execution_count": 49,
   "id": "42a20d0e-a3a0-4fef-aedc-e551dd1d3654",
   "metadata": {},
   "outputs": [
    {
     "data": {
      "image/png": "[encoded data removed]",
      "text/plain": [
       "<langgraph.graph.state.CompiledStateGraph object at 0x0000021A29343C70>"
      ]
     },
     "execution_count": 49,
     "metadata": {},
     "output_type": "execute_result"
    }
   ],
   "source": [
    "app"
   ]
  },
  {
   "cell_type": "markdown",
   "id": "a5b48dc4-e8a5-407b-8982-1902429721c4",
   "metadata": {},
   "source": [
    "### Function to help with outputing the result"
   ]
  },
  {
   "cell_type": "code",
   "execution_count": 50,
   "id": "f3fd0439-3d7f-4e80-9908-8803af3711e9",
   "metadata": {},
   "outputs": [],
   "source": [
    "def print_stream(stream):\n",
    "    for s in stream:\n",
    "        message = s['messages'][-1]\n",
    "        if isinstance(message, tuple):\n",
    "            print(message)\n",
    "        else:\n",
    "            message.pretty_print()"
   ]
  },
  {
   "cell_type": "code",
   "execution_count": 37,
   "id": "2fdf5191-a13b-4c0b-8b24-3407b3c60845",
   "metadata": {},
   "outputs": [],
   "source": [
    "inputs = {\"messages\":[(\"Add 3 + 2 and multiply it by 10.\")]}\n",
    "# inputs = {\"messages\":[(\"user\", \"Add 3 + 4. Add 20 and 7 and write me a joke\")]}\n",
    "streams=app.stream(inputs,stream_mode=\"values\")"
   ]
  },
  {
   "cell_type": "markdown",
   "id": "0467b52e-0801-49fe-985c-7210ade3abe6",
   "metadata": {},
   "source": [
    "### Input the message and generate the output"
   ]
  },
  {
   "cell_type": "code",
   "execution_count": 52,
   "id": "87353240-b86a-42ab-95d9-4b1bc9fbf2e8",
   "metadata": {},
   "outputs": [
    {
     "name": "stdout",
     "output_type": "stream",
     "text": [
      "================================\u001b[1m Human Message \u001b[0m=================================\n",
      "\n",
      "Add 3 + 2 and multiply it by 10.\n",
      "content='' additional_kwargs={'function_call': {'name': 'add', 'arguments': '{\"a\": 3.0, \"b\": 2.0}'}} response_metadata={'prompt_feedback': {'block_reason': 0, 'safety_ratings': []}, 'finish_reason': 'STOP', 'model_name': 'models/gemini-2.5-flash-preview-05-20', 'safety_ratings': []} id='run--4e46f6b1-fe50-4109-8dd0-4f7ec6086f2f-0' tool_calls=[{'name': 'add', 'args': {'a': 3.0, 'b': 2.0}, 'id': 'eae57d27-021c-46f3-a6eb-bfad86a57a7c', 'type': 'tool_call'}] usage_metadata={'input_tokens': 239, 'output_tokens': 18, 'total_tokens': 427, 'input_token_details': {'cache_read': 0}, 'output_token_details': {'reasoning': 170}}\n",
      "\n",
      "content='' additional_kwargs={'function_call': {'name': 'add', 'arguments': '{\"a\": 3.0, \"b\": 2.0}'}} response_metadata={'prompt_feedback': {'block_reason': 0, 'safety_ratings': []}, 'finish_reason': 'STOP', 'model_name': 'models/gemini-2.5-flash-preview-05-20', 'safety_ratings': []} id='run--938bb909-d0e6-4795-80b0-ef7375ac66d4-0' tool_calls=[{'name': 'add', 'args': {'a': 3.0, 'b': 2.0}, 'id': 'aef76b5c-c8cf-4702-93a3-11d4ca2ce164', 'type': 'tool_call'}] usage_metadata={'input_tokens': 240, 'output_tokens': 18, 'total_tokens': 329, 'input_token_details': {'cache_read': 0}, 'output_token_details': {'reasoning': 71}}\n",
      "==================================\u001b[1m Ai Message \u001b[0m==================================\n",
      "Tool Calls:\n",
      "  add (aef76b5c-c8cf-4702-93a3-11d4ca2ce164)\n",
      " Call ID: aef76b5c-c8cf-4702-93a3-11d4ca2ce164\n",
      "  Args:\n",
      "    a: 3.0\n",
      "    b: 2.0\n",
      "=================================\u001b[1m Tool Message \u001b[0m=================================\n",
      "Name: add\n",
      "\n",
      "5\n",
      "content='' additional_kwargs={'function_call': {'name': 'add', 'arguments': '{\"a\": 3.0, \"b\": 2.0}'}} response_metadata={'prompt_feedback': {'block_reason': 0, 'safety_ratings': []}, 'finish_reason': 'STOP', 'model_name': 'models/gemini-2.5-flash-preview-05-20', 'safety_ratings': []} id='run--4e46f6b1-fe50-4109-8dd0-4f7ec6086f2f-0' tool_calls=[{'name': 'add', 'args': {'a': 3.0, 'b': 2.0}, 'id': 'eae57d27-021c-46f3-a6eb-bfad86a57a7c', 'type': 'tool_call'}] usage_metadata={'input_tokens': 239, 'output_tokens': 18, 'total_tokens': 427, 'input_token_details': {'cache_read': 0}, 'output_token_details': {'reasoning': 170}}\n",
      "\n",
      "content='' additional_kwargs={'function_call': {'name': 'multiply', 'arguments': '{\"a\": 5.0, \"b\": 10.0}'}} response_metadata={'prompt_feedback': {'block_reason': 0, 'safety_ratings': []}, 'finish_reason': 'STOP', 'model_name': 'models/gemini-2.5-flash-preview-05-20', 'safety_ratings': []} id='run--b3236014-79ac-4f3a-bc64-18d200b657e9-0' tool_calls=[{'name': 'multiply', 'args': {'a': 5.0, 'b': 10.0}, 'id': 'db3e93fe-92b6-457f-91e0-0eb6089e052c', 'type': 'tool_call'}] usage_metadata={'input_tokens': 271, 'output_tokens': 19, 'total_tokens': 387, 'input_token_details': {'cache_read': 0}, 'output_token_details': {'reasoning': 97}}\n",
      "==================================\u001b[1m Ai Message \u001b[0m==================================\n",
      "Tool Calls:\n",
      "  multiply (db3e93fe-92b6-457f-91e0-0eb6089e052c)\n",
      " Call ID: db3e93fe-92b6-457f-91e0-0eb6089e052c\n",
      "  Args:\n",
      "    a: 5.0\n",
      "    b: 10.0\n",
      "=================================\u001b[1m Tool Message \u001b[0m=================================\n",
      "Name: multiply\n",
      "\n",
      "50\n",
      "content='' additional_kwargs={'function_call': {'name': 'add', 'arguments': '{\"a\": 3.0, \"b\": 2.0}'}} response_metadata={'prompt_feedback': {'block_reason': 0, 'safety_ratings': []}, 'finish_reason': 'STOP', 'model_name': 'models/gemini-2.5-flash-preview-05-20', 'safety_ratings': []} id='run--4e46f6b1-fe50-4109-8dd0-4f7ec6086f2f-0' tool_calls=[{'name': 'add', 'args': {'a': 3.0, 'b': 2.0}, 'id': 'eae57d27-021c-46f3-a6eb-bfad86a57a7c', 'type': 'tool_call'}] usage_metadata={'input_tokens': 239, 'output_tokens': 18, 'total_tokens': 427, 'input_token_details': {'cache_read': 0}, 'output_token_details': {'reasoning': 170}}\n",
      "\n",
      "content='The answer is 50.' additional_kwargs={} response_metadata={'prompt_feedback': {'block_reason': 0, 'safety_ratings': []}, 'finish_reason': 'STOP', 'model_name': 'models/gemini-2.5-flash-preview-05-20', 'safety_ratings': []} id='run--2327f33a-aae5-4463-acff-250f6b15f05e-0' usage_metadata={'input_tokens': 304, 'output_tokens': 7, 'total_tokens': 409, 'input_token_details': {'cache_read': 0}, 'output_token_details': {'reasoning': 98}}\n",
      "==================================\u001b[1m Ai Message \u001b[0m==================================\n",
      "\n",
      "The answer is 50.\n"
     ]
    }
   ],
   "source": [
    "# inputs = {\"messages\":[(\"user\", \"Add 3 + 4. Add 20 and 7 and write me a joke\")]}\n",
    "inputs = {\"messages\":[(\"Add 3 + 2 and multiply it by 10.\")]}\n",
    "print_stream(app.stream(inputs, stream_mode=\"values\"))"
   ]
  },
  {
   "cell_type": "markdown",
   "id": "3c31cdc7-278b-4eea-8042-2a0f88c9f371",
   "metadata": {},
   "source": [
    "### Create anoter output to use multiple tools"
   ]
  },
  {
   "cell_type": "code",
   "execution_count": 30,
   "id": "fa951f41-f6c6-4a72-84c3-ac2f68e6065b",
   "metadata": {},
   "outputs": [
    {
     "name": "stdout",
     "output_type": "stream",
     "text": [
      "TYPE pretty:  <class 'langchain_core.messages.human.HumanMessage'>\n",
      "================================\u001b[1m Human Message \u001b[0m=================================\n",
      "\n",
      "Add 3 + 4 then multiply with my 10 then divide it by 2\n",
      "TYPE pretty:  <class 'langchain_core.messages.ai.AIMessage'>\n",
      "==================================\u001b[1m Ai Message \u001b[0m==================================\n",
      "Tool Calls:\n",
      "  add (5e261ab1-2a0c-4438-b281-2d0e7393c3e0)\n",
      " Call ID: 5e261ab1-2a0c-4438-b281-2d0e7393c3e0\n",
      "  Args:\n",
      "    a: 3.0\n",
      "    b: 4.0\n",
      "TYPE pretty:  <class 'langchain_core.messages.tool.ToolMessage'>\n",
      "=================================\u001b[1m Tool Message \u001b[0m=================================\n",
      "Name: add\n",
      "\n",
      "7\n",
      "TYPE pretty:  <class 'langchain_core.messages.ai.AIMessage'>\n",
      "==================================\u001b[1m Ai Message \u001b[0m==================================\n",
      "Tool Calls:\n",
      "  multiply (0b4bc234-299b-49e2-83fe-b2ccb68c0e36)\n",
      " Call ID: 0b4bc234-299b-49e2-83fe-b2ccb68c0e36\n",
      "  Args:\n",
      "    a: 7.0\n",
      "    b: 10.0\n",
      "TYPE pretty:  <class 'langchain_core.messages.tool.ToolMessage'>\n",
      "=================================\u001b[1m Tool Message \u001b[0m=================================\n",
      "Name: multiply\n",
      "\n",
      "70\n",
      "TYPE pretty:  <class 'langchain_core.messages.ai.AIMessage'>\n",
      "==================================\u001b[1m Ai Message \u001b[0m==================================\n",
      "Tool Calls:\n",
      "  divide (79757aa8-be8c-45b7-8cfb-400ed3e68bd7)\n",
      " Call ID: 79757aa8-be8c-45b7-8cfb-400ed3e68bd7\n",
      "  Args:\n",
      "    a: 70.0\n",
      "    b: 2.0\n",
      "TYPE pretty:  <class 'langchain_core.messages.tool.ToolMessage'>\n",
      "=================================\u001b[1m Tool Message \u001b[0m=================================\n",
      "Name: divide\n",
      "\n",
      "35.0\n",
      "TYPE pretty:  <class 'langchain_core.messages.ai.AIMessage'>\n",
      "==================================\u001b[1m Ai Message \u001b[0m==================================\n",
      "\n",
      "The answer is 35.\n"
     ]
    }
   ],
   "source": [
    "inputs = {\"messages\":[(\"user\", \"Add 3 + 4 then multiply with my 10 then divide it by 2\")]}\n",
    "print_stream(app.stream(inputs, stream_mode=\"values\"))"
   ]
  },
  {
   "cell_type": "code",
   "execution_count": null,
   "id": "29c748b0-2a9b-4127-9322-469c95f76d16",
   "metadata": {},
   "outputs": [],
   "source": []
  }
 ],
 "metadata": {
  "kernelspec": {
   "display_name": "Python (AIenv)",
   "language": "python",
   "name": "aienv"
  },
  "language_info": {
   "codemirror_mode": {
    "name": "ipython",
    "version": 3
   },
   "file_extension": ".py",
   "mimetype": "text/x-python",
   "name": "python",
   "nbconvert_exporter": "python",
   "pygments_lexer": "ipython3",
   "version": "3.10.10"
  }
 },
 "nbformat": 4,
 "nbformat_minor": 5
}
