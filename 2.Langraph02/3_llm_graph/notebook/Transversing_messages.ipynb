{
 "cells": [
  {
   "cell_type": "code",
   "execution_count": 19,
   "id": "e3be3a8a-69d7-4ddb-b4f7-58346c7bbb01",
   "metadata": {},
   "outputs": [],
   "source": [
    "from langchain_core.messages import SystemMessage, HumanMessage, AIMessage, ToolMessage\n",
    "\n",
    "messages = [\n",
    "    SystemMessage(content=\"You are a helpful assistant.\"),\n",
    "    HumanMessage(content=\"What's 5 + 7?\"),\n",
    "    AIMessage(content=\"\", tool_calls=[{\"name\": \"calculator\", \"args\": {\"a\": 5, \"b\": 7}, \"id\": \"tool-1\"}]),\n",
    "    ToolMessage(content=\"12\", tool_call_id=\"tool-1\"),\n",
    "    AIMessage(content=\"The answer is 12.\"),\n",
    "    HumanMessage(content=\"Thanks! What is the capital of France?\"),\n",
    "    AIMessage(content=\"The capital of France is Paris.\")\n",
    "]\n"
   ]
  },
  {
   "cell_type": "markdown",
   "id": "13bf66af-2a93-4ed9-909c-b2974fb8ab4c",
   "metadata": {},
   "source": [
    "### Print Message By Type"
   ]
  },
  {
   "cell_type": "code",
   "execution_count": 22,
   "id": "6bd6c4f2-5d7c-4975-abb8-f8de2bae8c5e",
   "metadata": {},
   "outputs": [
    {
     "name": "stdout",
     "output_type": "stream",
     "text": [
      "SYSTEM:  You are a helpful assistant.\n",
      "Human:  What's 5 + 7?\n",
      "AI Tool: calculator\n",
      "Tools:   12\n",
      "AI:  The answer is 12.\n",
      "Human:  Thanks! What is the capital of France?\n",
      "AI:  The capital of France is Paris.\n"
     ]
    }
   ],
   "source": [
    "for msg in messages:\n",
    "    if isinstance(msg, SystemMessage):\n",
    "        print(f'SYSTEM: ',msg.content)\n",
    "    elif isinstance(msg, HumanMessage):\n",
    "        print(f'Human: ',msg.content)\n",
    "    elif isinstance(msg, AIMessage):\n",
    "        if msg.tool_calls:\n",
    "            last_tool =  msg.tool_calls[-1] # get the last dict from  list of dictionary\n",
    "            print(\"AI Tool:\",last_tool['name'])\n",
    "            # for tool in msg.tool_calls:\n",
    "            #     print(f\"AI Tool: {tool['name']}\")\n",
    "        else:\n",
    "            print(f'AI: ',msg.content)\n",
    "    elif isinstance(msg, ToolMessage):\n",
    "        print(f'Tools:  ',msg.content)"
   ]
  },
  {
   "cell_type": "markdown",
   "id": "a4192a27-9049-4df9-bf58-0b934c74ebdc",
   "metadata": {},
   "source": [
    "### Group all Messages"
   ]
  },
  {
   "cell_type": "code",
   "execution_count": 23,
   "id": "bc66b437-6b93-4abc-8760-e443e7df61ab",
   "metadata": {},
   "outputs": [
    {
     "name": "stdout",
     "output_type": "stream",
     "text": [
      "\n",
      "--- Conversation 1 ---\n",
      "SystemMessage: You are a helpful assistant.\n",
      "HumanMessage: What's 5 + 7?\n",
      "AIMessage: \n",
      "ToolMessage: 12\n",
      "AIMessage: The answer is 12.\n",
      "\n",
      "--- Conversation 2 ---\n",
      "HumanMessage: Thanks! What is the capital of France?\n",
      "AIMessage: The capital of France is Paris.\n"
     ]
    }
   ],
   "source": [
    "conversations = []\n",
    "current_block = []\n",
    "\n",
    "for msg in messages:\n",
    "    current_block.append(msg)\n",
    "    if isinstance(msg, AIMessage) and not msg.tool_calls:\n",
    "        conversations.append(current_block)\n",
    "        current_block = []\n",
    "\n",
    "# Print grouped conversation blocks\n",
    "for i, convo in enumerate(conversations):\n",
    "    print(f\"\\n--- Conversation {i+1} ---\")\n",
    "    for m in convo:\n",
    "        print(f\"{type(m).__name__}: {m.content}\")\n"
   ]
  },
  {
   "cell_type": "markdown",
   "id": "ea55f0ca-e65c-47e7-b100-62668891e3e2",
   "metadata": {},
   "source": [
    "### Extract only Human Message"
   ]
  },
  {
   "cell_type": "code",
   "execution_count": 24,
   "id": "765b85e9-72fb-4578-8057-d0b3087641cb",
   "metadata": {},
   "outputs": [
    {
     "name": "stdout",
     "output_type": "stream",
     "text": [
      "Questions asked by the user:\n",
      "- What's 5 + 7?\n",
      "- Thanks! What is the capital of France?\n"
     ]
    }
   ],
   "source": [
    "user_questions = [msg.content for msg in messages if isinstance(msg, HumanMessage)]\n",
    "print(\"Questions asked by the user:\")\n",
    "for q in user_questions:\n",
    "    print(\"-\", q)\n"
   ]
  },
  {
   "cell_type": "markdown",
   "id": "3e6a1667-6b1a-4b2b-9f5c-1e5b05ed840b",
   "metadata": {},
   "source": [
    "### Match AI Tool Calls with Tool Results"
   ]
  },
  {
   "cell_type": "code",
   "execution_count": 26,
   "id": "bf839d70-1369-4c1e-a4ce-85d20a52ca24",
   "metadata": {},
   "outputs": [
    {
     "name": "stdout",
     "output_type": "stream",
     "text": [
      "Tool 'calculator' called with args {'a': 5, 'b': 7} → result: 12\n"
     ]
    }
   ],
   "source": [
    "tool_calls = {}\n",
    "tool_results = {}\n",
    "\n",
    "for msg in messages:\n",
    "    if isinstance(msg, AIMessage) and msg.tool_calls:\n",
    "        for call in msg.tool_calls:\n",
    "            tool_calls[call[\"id\"]] = call\n",
    "    elif isinstance(msg, ToolMessage):\n",
    "        tool_results[msg.tool_call_id] = msg.content\n",
    "\n",
    "# Combine tool call + result\n",
    "for tool_id, call in tool_calls.items():\n",
    "    result = tool_results.get(tool_id)\n",
    "    print(f\"Tool '{call['name']}' called with args {call['args']} → result: {result}\")\n"
   ]
  },
  {
   "cell_type": "markdown",
   "id": "85684f23-024e-4118-998e-9afd79cff4ae",
   "metadata": {},
   "source": [
    "###  Get the Latest User Question + AI Answer"
   ]
  },
  {
   "cell_type": "code",
   "execution_count": 27,
   "id": "15ea1a4b-2bb8-45cc-8d81-f39026ca2886",
   "metadata": {},
   "outputs": [
    {
     "name": "stdout",
     "output_type": "stream",
     "text": [
      "Last Q: Thanks! What is the capital of France?\n",
      "Last A: The capital of France is Paris.\n"
     ]
    }
   ],
   "source": [
    "latest_question = None\n",
    "latest_answer = None\n",
    "\n",
    "for msg in reversed(messages):\n",
    "    if not latest_answer and isinstance(msg, AIMessage) and not msg.tool_calls:\n",
    "        latest_answer = msg.content\n",
    "    elif not latest_question and isinstance(msg, HumanMessage):\n",
    "        latest_question = msg.content\n",
    "    if latest_question and latest_answer:\n",
    "        break\n",
    "\n",
    "print(f\"Last Q: {latest_question}\\nLast A: {latest_answer}\")\n"
   ]
  },
  {
   "cell_type": "markdown",
   "id": "758079c7-dd0b-496b-b398-d56a824afbf0",
   "metadata": {},
   "source": [
    "### Get Full Conversation History as JSON-like Structure"
   ]
  },
  {
   "cell_type": "code",
   "execution_count": 29,
   "id": "a42d1dc3-af36-4498-bc35-8b5a43356c60",
   "metadata": {},
   "outputs": [
    {
     "name": "stdout",
     "output_type": "stream",
     "text": [
      "[\n",
      "  {\n",
      "    \"role\": \"system\",\n",
      "    \"content\": \"You are a helpful assistant.\"\n",
      "  },\n",
      "  {\n",
      "    \"role\": \"human\",\n",
      "    \"content\": \"What's 5 + 7?\"\n",
      "  },\n",
      "  {\n",
      "    \"role\": \"ai\",\n",
      "    \"content\": \"\"\n",
      "  },\n",
      "  {\n",
      "    \"role\": \"tool\",\n",
      "    \"content\": \"12\"\n",
      "  },\n",
      "  {\n",
      "    \"role\": \"ai\",\n",
      "    \"content\": \"The answer is 12.\"\n",
      "  },\n",
      "  {\n",
      "    \"role\": \"human\",\n",
      "    \"content\": \"Thanks! What is the capital of France?\"\n",
      "  },\n",
      "  {\n",
      "    \"role\": \"ai\",\n",
      "    \"content\": \"The capital of France is Paris.\"\n",
      "  }\n",
      "]\n"
     ]
    }
   ],
   "source": [
    "conversation_log = []\n",
    "\n",
    "for msg in messages:\n",
    "    role = type(msg).__name__.replace(\"Message\", \"\").lower()\n",
    "    conversation_log.append({\n",
    "        \"role\": role,\n",
    "        \"content\": msg.content\n",
    "    })\n",
    "\n",
    "import json\n",
    "print(json.dumps(conversation_log, indent=2))\n"
   ]
  },
  {
   "cell_type": "markdown",
   "id": "c5c0c8fb-ded7-4d57-b229-850e5d461fd3",
   "metadata": {},
   "source": [
    "###  Split into Conversation Rounds"
   ]
  },
  {
   "cell_type": "code",
   "execution_count": 30,
   "id": "1d49370d-aaa9-4d82-b9e9-61d055a27bfa",
   "metadata": {},
   "outputs": [
    {
     "name": "stdout",
     "output_type": "stream",
     "text": [
      "\n",
      "--- Round 1 ---\n",
      "SystemMessage: You are a helpful assistant.\n",
      "HumanMessage: What's 5 + 7?\n",
      "AIMessage: \n",
      "ToolMessage: 12\n",
      "AIMessage: The answer is 12.\n",
      "\n",
      "--- Round 2 ---\n",
      "HumanMessage: Thanks! What is the capital of France?\n",
      "AIMessage: The capital of France is Paris.\n"
     ]
    }
   ],
   "source": [
    "rounds = []\n",
    "temp_round = []\n",
    "\n",
    "for msg in messages:\n",
    "    temp_round.append(msg)\n",
    "    if isinstance(msg, AIMessage) and not msg.tool_calls:\n",
    "        rounds.append(temp_round)\n",
    "        temp_round = []\n",
    "\n",
    "# Display rounds\n",
    "for i, r in enumerate(rounds):\n",
    "    print(f\"\\n--- Round {i+1} ---\")\n",
    "    for m in r:\n",
    "        print(f\"{type(m).__name__}: {m.content}\")\n"
   ]
  },
  {
   "cell_type": "markdown",
   "id": "ee7297e5-367a-412d-ae7d-7b931f660ec1",
   "metadata": {},
   "source": [
    "### Convert Messages to Prompt Format for Re-injection"
   ]
  },
  {
   "cell_type": "code",
   "execution_count": 31,
   "id": "eadd576e-e512-4a9e-8eb3-d0ba9164995b",
   "metadata": {},
   "outputs": [
    {
     "name": "stdout",
     "output_type": "stream",
     "text": [
      "System: You are a helpful assistant.\n",
      "Human: What's 5 + 7?\n",
      "AI: \n",
      "Tool: 12\n",
      "AI: The answer is 12.\n",
      "Human: Thanks! What is the capital of France?\n",
      "AI: The capital of France is Paris.\n"
     ]
    }
   ],
   "source": [
    "from langchain_core.messages import get_buffer_string\n",
    "\n",
    "prompt = get_buffer_string(messages)\n",
    "print(prompt)\n"
   ]
  },
  {
   "cell_type": "code",
   "execution_count": null,
   "id": "ddf81c1b-7873-4f8f-b924-2c916aea6c84",
   "metadata": {},
   "outputs": [],
   "source": []
  }
 ],
 "metadata": {
  "kernelspec": {
   "display_name": "Python (AIenv)",
   "language": "python",
   "name": "aienv"
  },
  "language_info": {
   "codemirror_mode": {
    "name": "ipython",
    "version": 3
   },
   "file_extension": ".py",
   "mimetype": "text/x-python",
   "name": "python",
   "nbconvert_exporter": "python",
   "pygments_lexer": "ipython3",
   "version": "3.10.10"
  }
 },
 "nbformat": 4,
 "nbformat_minor": 5
}
