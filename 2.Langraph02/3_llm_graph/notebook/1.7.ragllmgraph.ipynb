{
 "cells": [
  {
   "cell_type": "code",
   "execution_count": 5,
   "id": "b3c1c2a0-605e-43c9-8de5-e7c217198beb",
   "metadata": {},
   "outputs": [],
   "source": [
    "from typing import TypedDict, Sequence, Annotated\n",
    "from dotenv import load_dotenv\n",
    "from langchain_core.messages import BaseMessage, SystemMessage, ToolMessage, HumanMessage, AIMessage, FunctionMessage\n",
    "from langchain.agents import tool\n",
    "from langgraph.graph.message import add_messages\n",
    "from langgraph.graph import StateGraph, START, END\n",
    "from langgraph.prebuilt import ToolNode\n",
    "from langchain_google_genai import ChatGoogleGenerativeAI\n",
    "\n",
    "from langchain_openai import ChatOpenAI\n",
    "from langchain_openai import OpenAIEmbeddings\n",
    "from langchain_community.document_loaders import PyPDFLoader\n",
    "from langchain.text_splitter import RecursiveCharacterTextSplitter\n",
    "from langchain_chroma import Chroma \n",
    "import os"
   ]
  },
  {
   "cell_type": "code",
   "execution_count": 6,
   "id": "ab7dcb34-dc3c-44f3-bca4-ba86e9a1701d",
   "metadata": {},
   "outputs": [],
   "source": [
    "load_dotenv()\n",
    "\n",
    "llm = ChatOpenAI(model=\"gpt-4o\", temperature=0)"
   ]
  },
  {
   "cell_type": "markdown",
   "id": "84d7e9b5-18c4-4e79-982c-adc234d8a049",
   "metadata": {},
   "source": [
    "### Generate the document retriever\n",
    "- generate the vector database and if it already exist load it and use it to generate the retriever \n",
    "- First get the file to embed, the embeddings , split the file, and create a vector database with it. With the as_retriever method create the retriever"
   ]
  },
  {
   "cell_type": "code",
   "execution_count": 7,
   "id": "dac18470-29b4-4812-88d6-00aaa39517db",
   "metadata": {},
   "outputs": [],
   "source": [
    "# get document retriever function \n",
    "def get_retriever(file_path):\n",
    "    #get embedding\n",
    "    embeddings = OpenAIEmbeddings(model=\"text-embedding-3-small\")\n",
    "\n",
    "    #get file and folder path\n",
    "    # script_dir = os.path.dirname(__file__)\n",
    "    cur_dir = os.getcwd()\n",
    "    script_dir = os.path.dirname(cur_dir)\n",
    "    pdf_path = os.path.join(script_dir, file_path)  #file path\n",
    "    persist_directory = script_dir  #folder path\n",
    "\n",
    "    collection_name = \"resume_checker\" #collection name\n",
    "    chroma_db_path = os.path.join(persist_directory, \"chroma.sqlite3\") #path to chroma.db\n",
    "\n",
    "    if not os.path.exists(pdf_path): # if pdf file doesnt exist\n",
    "        raise FileNotFoundError(f'PDF file not found in {pdf_path}')\n",
    "\n",
    "    #if chroma.db already exist, just load it\n",
    "    #if it does exist create a new one\n",
    "    if os.path.exists(chroma_db_path):\n",
    "        print(\"Loading existing Chroma DB...\")\n",
    "        vectorstore = Chroma(\n",
    "            persist_directory=persist_directory,\n",
    "            embedding_function=embeddings,\n",
    "            collection_name=collection_name\n",
    "        )\n",
    "    else:\n",
    "        print(\"Creating new Chroma DB...\")\n",
    "\n",
    "        #load the pdf\n",
    "        pdf_loader = PyPDFLoader(pdf_path)\n",
    "        try:\n",
    "            pages = pdf_loader.load()\n",
    "            print(f\"Document contains {len(pages)} pages\")\n",
    "        except Exception as e:\n",
    "            print(\"Error Loading PDF\", e)\n",
    "            raise\n",
    "\n",
    "        #split the pdf\n",
    "        text_splitter = RecursiveCharacterTextSplitter(\n",
    "            chunk_size=1000,\n",
    "            chunk_overlap=200\n",
    "        )\n",
    "        pages_split = text_splitter.split_documents(pages) # pass the loaded pages to the splitte config to created splitted docs\n",
    "\n",
    "        #create the chroma.db (vector database)\n",
    "        try:\n",
    "            vectorstore = Chroma.from_documents(\n",
    "                documents=pages_split,\n",
    "                embedding=embeddings,\n",
    "                persist_directory=persist_directory, #optional parameter if not provided, data will be in-memory only\n",
    "                collection_name=collection_name  # optional  - use to give name to embeddings in the vector database.\n",
    "            )\n",
    "            # vectorestore could also only have document and bedding parameter\n",
    "            # vectorstore = Chroma.from_documents(documents=pages_split, embedding=embeddings) \n",
    "\n",
    "            print(\"Chroma DB created and persisted.\")\n",
    "        except Exception as e:\n",
    "            print(f\"Error Setting Chroma DB: {str(e)}\")\n",
    "            raise\n",
    "\n",
    "    #user the database to gerate a retriever\n",
    "    retriever = vectorstore.as_retriever(\n",
    "        search_type=\"similarity\",\n",
    "        search_kwargs={\"k\": 5}\n",
    "    )\n",
    "    return retriever# get document retriever function \n",
    " "
   ]
  },
  {
   "cell_type": "code",
   "execution_count": 8,
   "id": "1edc3f27-ad28-4be3-8f3a-0d9803379caf",
   "metadata": {},
   "outputs": [
    {
     "name": "stdout",
     "output_type": "stream",
     "text": [
      "Loading existing Chroma DB...\n"
     ]
    }
   ],
   "source": [
    "# create a retriever\n",
    "retriever = get_retriever(\"resume.pdf\")"
   ]
  },
  {
   "cell_type": "markdown",
   "id": "9de95ae0-88b5-4750-9644-d4e108aad021",
   "metadata": {},
   "source": [
    "### Create a tool that takes a quert and retrieve similar record from the embeded vector database\n",
    "- bind the tool to llm with .bind_tools method"
   ]
  },
  {
   "cell_type": "code",
   "execution_count": null,
   "id": "63831678-ec0c-4eb5-b1c9-97f603d903a9",
   "metadata": {},
   "outputs": [],
   "source": [
    "@tool\n",
    "def retrieval_tool(query:str)->str:\n",
    "    \"\"\"\n",
    "    This tool searches record from a resume and returns the result\n",
    "    \"\"\"\n",
    "    print('retrieving answer')\n",
    "    docs = retriever.invoke(query)\n",
    "\n",
    "    if not docs:\n",
    "      return \"I found no releveant information in the Document\"  \n",
    "    \n",
    "    results =[]\n",
    "\n",
    "    for i, doc in enumerate(docs,1):\n",
    "        results.append(f\"Document {i}:\\n {doc.page_content}\")\n",
    "    \n",
    "    return \"\\n\\n\".join(results)\n",
    "\n",
    "tools = [retrieval_tool]\n",
    "\n",
    "llm = llm.bind_tools(tools)"
   ]
  },
  {
   "cell_type": "markdown",
   "id": "479aafb7-22f9-4b90-ab0f-684b6445820a",
   "metadata": {},
   "source": [
    "### Declare the nodes\n",
    "- Node call_llm will invoke the llm"
   ]
  },
  {
   "cell_type": "code",
   "execution_count": 10,
   "id": "18963025-72c0-4496-be8f-c0ee7fa6beb0",
   "metadata": {},
   "outputs": [],
   "source": [
    "class AgentState(TypedDict):\n",
    "    messages: Annotated[Sequence[BaseMessage], add_messages]\n",
    "\n",
    "\n",
    "\n",
    "\n",
    "system_prompt=\"\"\"\n",
    "You are intelligent AI assistant who answers questions about resume uploaded in your konwledge base\n",
    "Use the retriever tool available to answer questions about the resume. You can make multiple calls if needed.\n",
    "If you need to look up some information before asking a follow up question, you are allowed to do that!\n",
    "\"\"\"\n",
    "\n",
    "\n",
    "def call_llm(state: AgentState) -> AgentState:\n",
    "    \"\"\" Function to call the LLM with the current state.\"\"\"\n",
    "    messages = [SystemMessage(content=system_prompt)] + list(state['messages'])\n",
    "    message = llm.invoke(messages)\n",
    "    return {\"messages\": [message]}  # LangGraph appends this to state['messages']\n",
    "\n",
    "\n",
    "def should_continue(state:AgentState):\n",
    "    \"\"\" Check if the last message contains tool calls\"\"\"\n",
    "    result = state['messages'][-1]\n",
    "\n",
    "    return hasattr(result, 'tool_calls') and len(result.tool_calls) > 0\n",
    "\n",
    "\n",
    "\n",
    "tools_dict = {our_tool.name: our_tool for our_tool in tools} # creating a dictionary from our list of tools\n",
    "\n",
    "\n",
    "#LLM Agent\n",
    "\n",
    " \n",
    "\n",
    "\n",
    "\n",
    "\n",
    "\n",
    "def take_action(state: AgentState) -> AgentState:\n",
    "    tool_calls = state['messages'][-1].tool_calls\n",
    "    results = []\n",
    "    \n",
    "    for t in tool_calls:\n",
    "        tool_name = t['name']\n",
    "        query = t['args'].get('query', '')\n",
    "        if tool_name not in tools_dict:\n",
    "            content = \"Error: tool not found\"\n",
    "        else:\n",
    "            content = tools_dict[tool_name].invoke(query)\n",
    "        tm = ToolMessage(tool_call_id=t['id'], name=tool_name, content=str(content))\n",
    "        results.append(tm)\n",
    "\n",
    "    # Return full message list: this lets LangGraph append correctly\n",
    "    return {\"messages\": results}"
   ]
  },
  {
   "cell_type": "code",
   "execution_count": 44,
   "id": "e6fbb37f-779e-4424-a18c-1aae17151c7c",
   "metadata": {},
   "outputs": [],
   "source": []
  },
  {
   "cell_type": "code",
   "execution_count": 55,
   "id": "522bffbe-ab2b-4a68-8761-b532393aaa04",
   "metadata": {},
   "outputs": [
    {
     "name": "stdout",
     "output_type": "stream",
     "text": [
      "retrieving answer\n"
     ]
    }
   ],
   "source": []
  },
  {
   "cell_type": "code",
   "execution_count": null,
   "id": "6d1cda03-8ba2-4b60-a952-2f5268832292",
   "metadata": {},
   "outputs": [],
   "source": []
  },
  {
   "cell_type": "code",
   "execution_count": 36,
   "id": "b2ec8bf4-4d13-4139-b3c9-7cfb68268eab",
   "metadata": {},
   "outputs": [],
   "source": [
    "graph = StateGraph(AgentState)\n",
    "graph.add_node(\"llm\", call_llm)\n",
    "graph.add_node(\"retriever_agent\",take_action)\n",
    "\n",
    "graph.set_entry_point(\"llm\")\n",
    "graph.add_conditional_edges(\n",
    "    \"llm\",\n",
    "    should_continue,\n",
    "    {True:\"retriever_agent\", False: END}\n",
    ")\n",
    "\n",
    "graph.add_edge(\"retriever_agent\",\"llm\")\n",
    "\n",
    "rag_agent = graph.compile()"
   ]
  },
  {
   "cell_type": "code",
   "execution_count": 37,
   "id": "b52b5a25-0582-488d-9eda-4796da1194e2",
   "metadata": {},
   "outputs": [
    {
     "data": {
      "image/png": "[encoded data removed]",
      "text/plain": [
       "<langgraph.graph.state.CompiledStateGraph object at 0x000001D767E9EA40>"
      ]
     },
     "execution_count": 37,
     "metadata": {},
     "output_type": "execute_result"
    }
   ],
   "source": [
    "rag_agent"
   ]
  },
  {
   "cell_type": "code",
   "execution_count": 38,
   "id": "11f598bd-7791-48d5-9625-91ba8f0fd971",
   "metadata": {},
   "outputs": [],
   "source": [
    "def running_agent():\n",
    "    print(\"\\n*** RAG AGENT***\")\n",
    "\n",
    "    while True:\n",
    "        user_input = input(\"\\n What is your question: \")\n",
    "        if user_input.lower() in ['exit','quit']:\n",
    "            break\n",
    "\n",
    "        messages = [HumanMessage(content=user_input)] # converts back to Human type\n",
    "\n",
    "        result = rag_agent.invoke({\"messages\": messages})\n",
    "\n",
    "        print(\"\\n=== ANSWER ===\")\n",
    "        print(result['messages'][-1].content)"
   ]
  },
  {
   "cell_type": "code",
   "execution_count": 39,
   "id": "68cbe557-9622-4cf2-a3e5-ea7a2f6024ab",
   "metadata": {},
   "outputs": [
    {
     "name": "stdout",
     "output_type": "stream",
     "text": [
      "\n",
      "*** RAG AGENT***\n"
     ]
    },
    {
     "name": "stdout",
     "output_type": "stream",
     "text": [
      "\n",
      " What is your question:  who is the prodigal son\n"
     ]
    },
    {
     "name": "stdout",
     "output_type": "stream",
     "text": [
      "\n",
      "=== ANSWER ===\n",
      "The term \"prodigal son\" originates from a parable in the Bible, specifically in the Gospel of Luke 15:11-32. The parable tells the story of a younger son who asks his father for his share of the inheritance and then leaves home to squander his wealth in reckless living. After losing everything, he returns home, repentant and willing to work as a servant. However, his father welcomes him back with open arms and celebrates his return, symbolizing forgiveness and redemption. The story is often interpreted as an illustration of God's forgiveness and love for those who repent.\n"
     ]
    },
    {
     "name": "stdout",
     "output_type": "stream",
     "text": [
      "\n",
      " What is your question:  what happened to the second son after the first one returned\n"
     ]
    },
    {
     "name": "stdout",
     "output_type": "stream",
     "text": [
      "\n",
      "=== ANSWER ===\n",
      "Could you please provide more context or specify which resume or individual you are referring to? This will help me assist you better.\n"
     ]
    },
    {
     "name": "stdout",
     "output_type": "stream",
     "text": [
      "\n",
      " What is your question:  list the strong points in the resume\n"
     ]
    },
    {
     "name": "stdout",
     "output_type": "stream",
     "text": [
      "retrieving answer\n",
      "\n",
      "=== ANSWER ===\n",
      "Emmanuel Bakare's resume highlights several strong points:\n",
      "\n",
      "1. **Certifications**:\n",
      "   - Sun Certified Programmer for the Java 2 Platform (SCJP).\n",
      "   - Oracle Certified Professional (OCP).\n",
      "   - Sun Certified Solaris Administrator (SCSA).\n",
      "   - Microsoft Certified Technology Specialist (MCTS) for Microsoft Office SharePoint Server 2007.\n",
      "   - IT Infrastructure Library (ITIL V.3) for IT Service Management.\n",
      "   - Certified Alvarion System Specialist in Wireless Technology.\n",
      "   - Certificate of Proficiency in Advanced Telecommunication (CPAT).\n",
      "\n",
      "2. **Technical Skills**:\n",
      "   - Proficient in developing database systems with Microsoft .NET C#.\n",
      "   - Experience in designing banners and graphics for user interfaces and advertisements.\n",
      "   - Configuring, planning, building, and maintaining Windows SharePoint portals.\n",
      "   - Proficient use of video editing and imaging tools such as Photoshop, Premiere Pro, After Effects, Audition, Encore, and Illustrator.\n",
      "\n",
      "3. **Project Management**:\n",
      "   - Experience in managing challenging projects across different interests and disciplines, including project schedule management, cost management, quality management, scope management, procurement management, and communications management.\n",
      "   - Experience in recruiting staff for project implementation.\n",
      "\n",
      "4. **Professional Experience**:\n",
      "   - Experience as a Senior Analyst Database/Web at Nigeria Liquefied Natural Gas (NLNG), handling tasks such as system administration, server and file maintenance, system backup, and intranet maintenance.\n",
      "   - Project Manager at Rotary Knowledge Centre, where he developed project scopes, coordinated project designs, and managed IT-related projects.\n",
      "\n",
      "5. **Project Implementation**:\n",
      "   - Designed, developed, and integrated a Learning Management System for the MSME Grant, a World Bank Project for the Growth and Empowerment Unit at the Federal Ministry of Investment Trade and Industries.\n",
      "\n",
      "These points reflect a strong background in IT certifications, technical skills, project management, and professional experience.\n"
     ]
    },
    {
     "name": "stdout",
     "output_type": "stream",
     "text": [
      "\n",
      " What is your question:  pick one strongest point of Emmanuel Bakare\n"
     ]
    },
    {
     "name": "stdout",
     "output_type": "stream",
     "text": [
      "retrieving answer\n",
      "\n",
      "=== ANSWER ===\n",
      "One of the strongest points of Emmanuel Bakare is his extensive professional experience and certifications in the field of Information Technology. He is a Sun Certified Programmer for the Java 2 platform (SCJP), an Oracle Certified Professional (OCP), and a Sun Certified Solaris Administrator (SCSA). Additionally, he holds a Microsoft Certified Technology Specialist (MCTS) certification for Microsoft Office SharePoint Server 2007, and is certified in IT Infrastructure Library (ITIL V.3) for IT Service Management. These certifications highlight his expertise and commitment to professional development in IT ([Document 2](#)).\n"
     ]
    },
    {
     "name": "stdout",
     "output_type": "stream",
     "text": [
      "\n",
      " What is your question:  what position in the IT field should he be looking for\n"
     ]
    },
    {
     "name": "stdout",
     "output_type": "stream",
     "text": [
      "retrieving answer\n",
      "\n",
      "=== ANSWER ===\n",
      "Based on Emmanuel Bakare's skills and experience in the IT field, he should consider looking for positions such as:\n",
      "\n",
      "1. **IT Project Manager**: His experience in coordinating teams, implementing IT projects, and managing project timelines and budgets makes him well-suited for this role. His skills in risk management and project delivery within budget and quality criteria are also relevant.\n",
      "\n",
      "2. **IT Service Manager**: With his knowledge of IT Infrastructure Library (ITIL) systems and best practices in service design, strategy, transition, operation, and continual service improvement, he could excel in managing IT services to enhance customer experiences.\n",
      "\n",
      "3. **Network Administrator/Manager**: His experience in technical hardware support supervision, networking planning, support, and network cabling and configuration supervision aligns well with roles focused on network management.\n",
      "\n",
      "4. **ERP System Manager**: His experience in developing and managing Enterprise Resource Planning (ERP) systems to facilitate organizational collaboration and interaction is a strong fit for this position.\n",
      "\n",
      "5. **IT Trainer/Instructor**: Given his experience in initiating IT training, training the trainers, and developing training manuals, he could pursue roles focused on IT education and training.\n",
      "\n",
      "6. **System Integration Specialist**: His skills in coordinating the purchase and integration of hardware and software systems into client environments make him suitable for roles focused on system integration.\n",
      "\n",
      "These positions leverage his certifications, such as Sun Certified Programmer for Java, Oracle Certified Professional, and ITIL V.3, as well as his practical experience in IT project implementation and service management.\n"
     ]
    },
    {
     "name": "stdout",
     "output_type": "stream",
     "text": [
      "\n",
      " What is your question:  what do you think his salary range should be\n"
     ]
    },
    {
     "name": "stdout",
     "output_type": "stream",
     "text": [
      "retrieving answer\n",
      "\n",
      "=== ANSWER ===\n",
      "Emmanuel Bakare has a diverse and extensive background in IT and management, with significant experience and certifications that could influence his salary range. Here are some key points from his resume:\n",
      "\n",
      "1. **Certifications**: \n",
      "   - Sun Certified Programmer for the Java 2 Platform (SCJP)\n",
      "   - Oracle Certified Professional (OCP)\n",
      "   - Sun Certified Solaris Administrator (SCSA)\n",
      "   - MCTS – Microsoft Office SharePoint Server 2007\n",
      "   - IT Infrastructure Library – ITIL V.3\n",
      "\n",
      "2. **Professional Experience**:\n",
      "   - Managing Director at Interface Connect Limited since July 2020\n",
      "   - Creative Director/CEO at JIKSYS Solutions Limited since March 2013\n",
      "   - Senior Analyst Database/Web at Nigeria Liquefied Natural Gas (NLNG) /PPC since October 2009\n",
      "\n",
      "3. **Skills**:\n",
      "   - Application development with Python and Django\n",
      "   - Database management with MySQL, Microsoft SQL Server, Oracle, PostgreSQL\n",
      "   - Front-end development with HTML, CSS, JavaScript, and various frameworks\n",
      "   - Experience in ERP systems, network solutions, and IT project management\n",
      "\n",
      "Given his extensive experience in leadership roles, technical skills, and certifications, Emmanuel Bakare's salary range could be expected to be on the higher end for IT professionals, particularly in roles such as IT Director, CTO, or similar executive positions. The exact range would depend on the specific industry, company size, and location, but it could reasonably be expected to be in the range of $100,000 to $150,000 or more annually, especially if he is working in a major city or for a large corporation.\n"
     ]
    },
    {
     "name": "stdout",
     "output_type": "stream",
     "text": [
      "\n",
      " What is your question:  what if he is working in Nigeria\n"
     ]
    },
    {
     "name": "stdout",
     "output_type": "stream",
     "text": [
      "retrieving answer\n",
      "\n",
      "=== ANSWER ===\n",
      "The resume does not explicitly mention the current location of the individual. However, there are multiple references to work and projects in Nigeria, such as:\n",
      "\n",
      "- Development and maintenance of intranet site for Nigeria LNG and Nigeria LNG Residential Area.\n",
      "- Development of National Assembly Service Commission Website.\n",
      "- Development of a web-based CRM Application for Suburban Broadband.\n",
      "- Development of a web-based Microfinance Banking Solution for Ugah Community Bank in Ugah, Anambra State.\n",
      "- Conducting Infrastructure Management Audit and other IT-related tasks for Suburban System Limited in Abuja.\n",
      "\n",
      "These references suggest that the individual has significant work experience in Nigeria. If he is currently working in Nigeria, it would align with his past professional engagements.\n"
     ]
    },
    {
     "name": "stdout",
     "output_type": "stream",
     "text": [
      "\n",
      " What is your question:  what would be his salary range in Nigeria\n"
     ]
    },
    {
     "name": "stdout",
     "output_type": "stream",
     "text": [
      "retrieving answer\n",
      "\n",
      "=== ANSWER ===\n",
      "Emmanuel Bakare is currently serving as the Managing Director at Interface Connect Limited and as the Creative Director/CEO at JIKSYS Solutions Limited. His roles involve designing training solutions, managing staff operations, consulting, marketing strategy implementation, and developing enterprise resource planning systems, among other responsibilities.\n",
      "\n",
      "Given his extensive experience and leadership roles, his salary range in Nigeria would likely be on the higher end for similar positions. However, the exact salary can vary significantly based on the industry, company size, and location within Nigeria. Generally, for high-level executive positions like Managing Director or CEO in Nigeria, the salary can range from several million to tens of millions of Naira annually, depending on the factors mentioned.\n"
     ]
    },
    {
     "name": "stdout",
     "output_type": "stream",
     "text": [
      "\n",
      " What is your question:  exit\n"
     ]
    }
   ],
   "source": [
    "running_agent()"
   ]
  },
  {
   "cell_type": "markdown",
   "id": "7bdfef7f-a952-4eb2-9065-0176d39702d0",
   "metadata": {},
   "source": [
    "---\n",
    "## code below  is only for testing - not part of original code\n",
    "- the code is to manually test each stage of the application"
   ]
  },
  {
   "cell_type": "code",
   "execution_count": 2,
   "id": "d4f9086f-40f4-423c-a2db-773cb802dbb0",
   "metadata": {},
   "outputs": [
    {
     "ename": "NameError",
     "evalue": "name 'AgentState' is not defined",
     "output_type": "error",
     "traceback": [
      "\u001b[1;31m---------------------------------------------------------------------------\u001b[0m",
      "\u001b[1;31mNameError\u001b[0m                                 Traceback (most recent call last)",
      "Cell \u001b[1;32mIn[2], line 3\u001b[0m\n\u001b[0;32m      1\u001b[0m user_input\u001b[38;5;241m=\u001b[39m \u001b[38;5;124m\"\u001b[39m\u001b[38;5;124mList  resume database experience\u001b[39m\u001b[38;5;124m\"\u001b[39m\n\u001b[1;32m----> 3\u001b[0m human_msg\u001b[38;5;241m=\u001b[39m\u001b[43mAgentState\u001b[49m(messages\u001b[38;5;241m=\u001b[39m[HumanMessage(content\u001b[38;5;241m=\u001b[39muser_input)])\n",
      "\u001b[1;31mNameError\u001b[0m: name 'AgentState' is not defined"
     ]
    }
   ],
   "source": [
    "user_input= \"List  resume database experience\"\n",
    "\n",
    "human_msg=AgentState(messages=[HumanMessage(content=user_input)])"
   ]
  },
  {
   "cell_type": "code",
   "execution_count": null,
   "id": "4793c8cd-7712-4efa-81ad-c8aa07e077bc",
   "metadata": {},
   "outputs": [],
   "source": []
  },
  {
   "cell_type": "code",
   "execution_count": 184,
   "id": "774a05a4-4cf2-435b-8f40-3448e41b3503",
   "metadata": {},
   "outputs": [],
   "source": [
    "tool_msg1=call_llm(human_msg)"
   ]
  },
  {
   "cell_type": "code",
   "execution_count": 185,
   "id": "8b564286-f2da-4acf-a25a-70821b764999",
   "metadata": {},
   "outputs": [
    {
     "name": "stdout",
     "output_type": "stream",
     "text": [
      "retrieving answer\n"
     ]
    }
   ],
   "source": [
    "tool_msg2 = take_action(tool_msg1)"
   ]
  },
  {
   "cell_type": "code",
   "execution_count": 1,
   "id": "288aa9ff-a276-472d-a2da-093592ff5011",
   "metadata": {},
   "outputs": [
    {
     "ename": "NameError",
     "evalue": "name 'human_msg' is not defined",
     "output_type": "error",
     "traceback": [
      "\u001b[1;31m---------------------------------------------------------------------------\u001b[0m",
      "\u001b[1;31mNameError\u001b[0m                                 Traceback (most recent call last)",
      "Cell \u001b[1;32mIn[1], line 1\u001b[0m\n\u001b[1;32m----> 1\u001b[0m \u001b[43mhuman_msg\u001b[49m\n",
      "\u001b[1;31mNameError\u001b[0m: name 'human_msg' is not defined"
     ]
    }
   ],
   "source": [
    "human_msg"
   ]
  },
  {
   "cell_type": "code",
   "execution_count": null,
   "id": "322531c3-faf5-431f-90a2-5ccb307a2a3d",
   "metadata": {},
   "outputs": [],
   "source": []
  },
  {
   "cell_type": "code",
   "execution_count": 194,
   "id": "88edc3ec-4553-433f-99c8-c1a9e191b558",
   "metadata": {},
   "outputs": [],
   "source": [
    "# add uid\n",
    "import uuid\n",
    "\n",
    "def add_id(msg):\n",
    "    plain_msg = msg[\"messages\"][-1]\n",
    "    \n",
    "    msg_id = str(uuid.uuid4())\n",
    "\n",
    "    # Create a new HumanMessage with the same content and a custom id added via additional_kwargs\n",
    "    return  HumanMessage(\n",
    "        content=msg1.content,\n",
    "        response_metadata=msg1.response_metadata,\n",
    "        additional_kwargs={**msg1.additional_kwargs},\n",
    "        id=  msg_id\n",
    "    )\n",
    "\n",
    "\n",
    "# change it to accomodate other message type"
   ]
  },
  {
   "cell_type": "code",
   "execution_count": 195,
   "id": "36ac62f5-63c5-4e48-aaa8-9e3eeadd73f8",
   "metadata": {},
   "outputs": [],
   "source": [
    "msg1  = add_id(human_msg) \n",
    "tool1 = add_id(tool_msg1)\n",
    "tool2 = add_id(tool_msg2)\n",
    "all_msgs = all_msg= {\n",
    "\"messages\":[mgs1, tool1, tool2]\n",
    "}"
   ]
  },
  {
   "cell_type": "code",
   "execution_count": 191,
   "id": "ad8ceaab-5f45-4178-b844-e323461e91e5",
   "metadata": {},
   "outputs": [
    {
     "data": {
      "text/plain": [
       "langchain_core.messages.ai.AIMessage"
      ]
     },
     "execution_count": 191,
     "metadata": {},
     "output_type": "execute_result"
    }
   ],
   "source": [
    "type(tool_msg1[\"messages\"][-1])"
   ]
  },
  {
   "cell_type": "code",
   "execution_count": null,
   "id": "92ccae27-3560-4ad8-a17b-b0e7f5a51a16",
   "metadata": {},
   "outputs": [],
   "source": [
    " "
   ]
  },
  {
   "cell_type": "code",
   "execution_count": 149,
   "id": "f49ee6ce-e919-4cb2-9069-78f1ec78358a",
   "metadata": {},
   "outputs": [
    {
     "data": {
      "text/plain": [
       "{'messages': [HumanMessage(content='List  resume database experience', additional_kwargs={}, response_metadata={})]}"
      ]
     },
     "execution_count": 149,
     "metadata": {},
     "output_type": "execute_result"
    }
   ],
   "source": [
    "human_msg"
   ]
  },
  {
   "cell_type": "code",
   "execution_count": 154,
   "id": "788e4a63-191d-44be-9cf8-a1f9ad5524b1",
   "metadata": {},
   "outputs": [],
   "source": []
  },
  {
   "cell_type": "code",
   "execution_count": 142,
   "id": "ab78c5c8-f9b8-49cf-901a-6bc2b9d089fb",
   "metadata": {},
   "outputs": [
    {
     "name": "stdout",
     "output_type": "stream",
     "text": [
      "{'boy': 2, 'girls': 12, 'class': 12}\n"
     ]
    }
   ],
   "source": [
    "k = {\"boy\": 2}\n",
    "l = {\"girls\": 12}\n",
    "x = {\"class\": 12}\n",
    "\n",
    "y = {**k, **l, **x}\n",
    "print(y)"
   ]
  },
  {
   "cell_type": "code",
   "execution_count": null,
   "id": "e5a25aef-dc0a-48fd-b13f-4f03516901af",
   "metadata": {},
   "outputs": [],
   "source": []
  }
 ],
 "metadata": {
  "kernelspec": {
   "display_name": "Python (AIenv)",
   "language": "python",
   "name": "aienv"
  },
  "language_info": {
   "codemirror_mode": {
    "name": "ipython",
    "version": 3
   },
   "file_extension": ".py",
   "mimetype": "text/x-python",
   "name": "python",
   "nbconvert_exporter": "python",
   "pygments_lexer": "ipython3",
   "version": "3.10.10"
  }
 },
 "nbformat": 4,
 "nbformat_minor": 5
}
