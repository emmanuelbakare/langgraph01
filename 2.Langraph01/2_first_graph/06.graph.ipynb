{
 "cells": [
  {
   "cell_type": "markdown",
   "id": "03058494-d52d-4b3b-92fd-246501cc9303",
   "metadata": {},
   "source": [
    "## Using Conditional Node\n",
    "### Code should check if sign is + or - to decide either to add or substract 2 integers"
   ]
  },
  {
   "cell_type": "code",
   "execution_count": 10,
   "id": "ecce8f2d-74b2-4469-bc44-09605aa6aee6",
   "metadata": {},
   "outputs": [],
   "source": [
    "from typing import TypedDict \n",
    "from langgraph.graph import StateGraph, START, END\n",
    "\n",
    "class AgentState(TypedDict):\n",
    "    num1: int\n",
    "    num2: int\n",
    "    operator: str\n",
    "    store: int\n",
    "\n",
    "SUB = \"Substract\"\n",
    "ADD = \"ADD\"\n",
    "ROUTER = \"router\""
   ]
  },
  {
   "cell_type": "code",
   "execution_count": 11,
   "id": "a0db4a04-2445-4d1a-9597-ec64884951f6",
   "metadata": {},
   "outputs": [],
   "source": [
    "#declare the node functions\n",
    "def add_node(state:AgentState)->AgentState:\n",
    "    \"\"\" Add Two Numbers Together\"\"\"\n",
    "\n",
    "    state['store']=state['num1'] + state['num2']\n",
    "    return state\n",
    "\n",
    "def substract_node(state:AgentState)->AgentState:\n",
    "    \"\"\" Substract Two Numbers from each other\"\"\"\n",
    "\n",
    "    state['store']=state['num1'] - state['num2']\n",
    "    return state\n",
    "\n",
    "def operator_node(state:AgentState)->AgentState:\n",
    "    \"\"\" Add Two Numbers Together\"\"\"\n",
    "\n",
    "    if state['operator']==\"+\":\n",
    "        return \"Adding\"\n",
    "    elif state['operator']==\"-\":\n",
    "        return \"Substracting\"\n",
    "\n"
   ]
  },
  {
   "cell_type": "code",
   "execution_count": 13,
   "id": "5c32309d-b643-4e8d-b13c-fbf304259649",
   "metadata": {},
   "outputs": [],
   "source": [
    "graph = StateGraph(AgentState)\n",
    "\n",
    "graph.add_node(ADD,add_node)\n",
    "graph.add_node(SUB,substract_node)\n",
    "graph.add_node(ROUTER,lambda state:state)\n",
    "\n",
    "graph.add_edge(START,ROUTER)\n",
    "graph.add_conditional_edges(\n",
    "    ROUTER,\n",
    "    operator_node,\n",
    "    {\n",
    "        \"Adding\":ADD,\n",
    "        \"Substracting\":SUB\n",
    "    }\n",
    "    \n",
    ")\n",
    "graph.add_edge(ADD,END)\n",
    "graph.add_edge(SUB,END)\n",
    "\n",
    "app = graph.compile()"
   ]
  },
  {
   "cell_type": "code",
   "execution_count": 14,
   "id": "16e18d2f-62f2-4fce-9717-0b88a17b6fa9",
   "metadata": {},
   "outputs": [
    {
     "data": {
      "image/png": "[encoded data removed]",
      "text/plain": [
       "<langgraph.graph.state.CompiledStateGraph object at 0x00000201DC527EE0>"
      ]
     },
     "execution_count": 14,
     "metadata": {},
     "output_type": "execute_result"
    }
   ],
   "source": [
    "app"
   ]
  },
  {
   "cell_type": "code",
   "execution_count": 18,
   "id": "eba170f1-8085-475f-8bd1-14ed69034402",
   "metadata": {},
   "outputs": [
    {
     "data": {
      "text/plain": [
       "50"
      ]
     },
     "execution_count": 18,
     "metadata": {},
     "output_type": "execute_result"
    }
   ],
   "source": [
    "maths= AgentState(num1=30, num2=20, operator=\"+\")\n",
    "result = app.invoke(maths)\n",
    "result.get('store')\n"
   ]
  },
  {
   "cell_type": "code",
   "execution_count": 21,
   "id": "5ec26cfb-d01b-4840-86b1-a1e85f2bbd95",
   "metadata": {},
   "outputs": [
    {
     "name": "stdout",
     "output_type": "stream",
     "text": [
      "[4, 5, 10]\n",
      "[4, 5, 10, 5]\n"
     ]
    }
   ],
   "source": [
    "import random\n",
    "nums = [4,5,10]\n",
    "print(nums)\n",
    "nums.append(random.randint(0,10))\n",
    "print(nums)"
   ]
  },
  {
   "cell_type": "code",
   "execution_count": null,
   "id": "360ab529-7de9-4d7c-9f18-41b146ae015e",
   "metadata": {},
   "outputs": [],
   "source": []
  }
 ],
 "metadata": {
  "kernelspec": {
   "display_name": "Python (AIenv)",
   "language": "python",
   "name": "aienv"
  },
  "language_info": {
   "codemirror_mode": {
    "name": "ipython",
    "version": 3
   },
   "file_extension": ".py",
   "mimetype": "text/x-python",
   "name": "python",
   "nbconvert_exporter": "python",
   "pygments_lexer": "ipython3",
   "version": "3.10.10"
  }
 },
 "nbformat": 4,
 "nbformat_minor": 5
}
