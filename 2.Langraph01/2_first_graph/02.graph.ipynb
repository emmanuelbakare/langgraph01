{
 "cells": [
  {
   "cell_type": "markdown",
   "id": "163fb3f2-8acc-412c-b1e1-a31287135f25",
   "metadata": {},
   "source": [
    "# another simple Test"
   ]
  },
  {
   "cell_type": "code",
   "execution_count": 11,
   "id": "2b77a7ee-c35a-4dcb-b2bf-a646fb91c0d7",
   "metadata": {},
   "outputs": [],
   "source": [
    "from typing import TypedDict\n",
    "from langgraph.graph import StateGraph\n",
    "\n",
    "class AgentState(TypedDict):\n",
    "    broadcast:str\n",
    "    "
   ]
  },
  {
   "cell_type": "code",
   "execution_count": 12,
   "id": "2eac1ecc-48b4-4e57-b7f4-6d49f13fa12d",
   "metadata": {},
   "outputs": [],
   "source": [
    "def messanger_node(message:AgentState)->AgentState:\n",
    "    \"\"\" A Broadcast Message From NASA HQ \"\"\"\n",
    "    message['broadcast'] = \"NASA Broadcast Message:\\n \"+ message['broadcast']\n",
    "    return message"
   ]
  },
  {
   "cell_type": "code",
   "execution_count": 13,
   "id": "d9a978eb-ed61-45cc-b78e-71d1a3463f95",
   "metadata": {},
   "outputs": [],
   "source": [
    "graph = StateGraph(AgentState)\n",
    "BC = \"Broadcast\"\n",
    "\n",
    "graph.add_node(BC, messanger_node)\n",
    "graph.set_entry_point(BC)\n",
    "graph.set_finish_point(BC)\n",
    "\n",
    "app = graph.compile()"
   ]
  },
  {
   "cell_type": "code",
   "execution_count": 14,
   "id": "2d1ac907-2e0f-42c7-81e1-aed139b1c335",
   "metadata": {},
   "outputs": [
    {
     "data": {
      "image/png": "[encoded data removed]",
      "text/plain": [
       "<IPython.core.display.Image object>"
      ]
     },
     "metadata": {},
     "output_type": "display_data"
    }
   ],
   "source": [
    "# Display the GRaph\n",
    "from IPython.display import Image, display\n",
    "display(Image(app.get_graph().draw_mermaid_png()))"
   ]
  },
  {
   "cell_type": "code",
   "execution_count": 15,
   "id": "5111ab92-2664-47ab-a9f5-20f5b7892e7d",
   "metadata": {},
   "outputs": [],
   "source": [
    "result = app.invoke({\"broadcast\":\"Ensure the place is safe for landing\"})"
   ]
  },
  {
   "cell_type": "code",
   "execution_count": 17,
   "id": "74c570f4-b8b8-403a-b825-13aa3ec84bd7",
   "metadata": {},
   "outputs": [
    {
     "data": {
      "text/plain": [
       "'NASA Broadcast Message:\\n Ensure the place is safe for landing'"
      ]
     },
     "execution_count": 17,
     "metadata": {},
     "output_type": "execute_result"
    }
   ],
   "source": [
    "result.get('broadcast')"
   ]
  },
  {
   "cell_type": "code",
   "execution_count": null,
   "id": "aa0b8899-805b-4746-b6f9-29e4626fb779",
   "metadata": {},
   "outputs": [],
   "source": []
  }
 ],
 "metadata": {
  "kernelspec": {
   "display_name": "Python (AIenv)",
   "language": "python",
   "name": "aienv"
  },
  "language_info": {
   "codemirror_mode": {
    "name": "ipython",
    "version": 3
   },
   "file_extension": ".py",
   "mimetype": "text/x-python",
   "name": "python",
   "nbconvert_exporter": "python",
   "pygments_lexer": "ipython3",
   "version": "3.10.10"
  }
 },
 "nbformat": 4,
 "nbformat_minor": 5
}
