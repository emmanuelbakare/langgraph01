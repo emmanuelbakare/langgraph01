{
 "cells": [
  {
   "cell_type": "markdown",
   "id": "d19d38e8-2c91-48d8-af27-9cc95667666e",
   "metadata": {},
   "source": [
    "# Passing in Multiple Sequential Node"
   ]
  },
  {
   "cell_type": "code",
   "execution_count": 13,
   "id": "c79d7ff6-1ed0-4d6e-a293-75951de899d6",
   "metadata": {},
   "outputs": [],
   "source": [
    "from typing import TypedDict\n",
    "from langgraph.graph import StateGraph\n",
    "\n",
    "class AgentState(TypedDict):\n",
    "    age: str\n",
    "    name: str\n",
    "    final: str\n",
    "\n",
    "def first_node(state:AgentState)->AgentState:\n",
    "    \"\"\"This is the first node of our sequence\"\"\"\n",
    "\n",
    "    state['final'] = f\"Hello {state['name']}\"\n",
    "\n",
    "    return state\n",
    "\n",
    "\n",
    "def second_node(state:AgentState)->AgentState:\n",
    "    \"\"\"This is the second node of our sequence\"\"\"\n",
    "\n",
    "    state['final'] += f\", You are {state['age']} years old\"\n",
    "\n",
    "    return state\n",
    "    "
   ]
  },
  {
   "cell_type": "code",
   "execution_count": 14,
   "id": "2824cc16-05c1-42cb-b44e-e21b084e095a",
   "metadata": {},
   "outputs": [],
   "source": [
    "graph = StateGraph(AgentState)\n",
    "FIRST=\"First Node\"\n",
    "SECOND=\"Second Node\"\n",
    "graph.add_node(FIRST, first_node)\n",
    "graph.add_node(SECOND, second_node)\n",
    "\n",
    "graph.set_entry_point(FIRST)\n",
    "graph.add_edge(FIRST, SECOND)\n",
    "graph.set_finish_point(SECOND)\n",
    "\n",
    "app = graph.compile()"
   ]
  },
  {
   "cell_type": "code",
   "execution_count": 15,
   "id": "cb8cd082-c476-41aa-9fe1-e5277f74972c",
   "metadata": {},
   "outputs": [
    {
     "data": {
      "image/png": "[encoded data removed]",
      "text/plain": [
       "<langgraph.graph.state.CompiledStateGraph object at 0x000002C0EBF8C7F0>"
      ]
     },
     "execution_count": 15,
     "metadata": {},
     "output_type": "execute_result"
    }
   ],
   "source": [
    "app"
   ]
  },
  {
   "cell_type": "code",
   "execution_count": 16,
   "id": "e436ce65-2638-404d-abbf-8877789b392d",
   "metadata": {},
   "outputs": [
    {
     "data": {
      "text/plain": [
       "'Hello Janet, You are 23 years old'"
      ]
     },
     "execution_count": 16,
     "metadata": {},
     "output_type": "execute_result"
    }
   ],
   "source": [
    "result = app.invoke({\"name\":\"Janet\", \"age\":23})\n",
    "result.get('final')"
   ]
  },
  {
   "cell_type": "code",
   "execution_count": null,
   "id": "cfd0dabc-4bc0-4039-8f85-ca725bfee0db",
   "metadata": {},
   "outputs": [],
   "source": []
  }
 ],
 "metadata": {
  "kernelspec": {
   "display_name": "Python (AIenv)",
   "language": "python",
   "name": "aienv"
  },
  "language_info": {
   "codemirror_mode": {
    "name": "ipython",
    "version": 3
   },
   "file_extension": ".py",
   "mimetype": "text/x-python",
   "name": "python",
   "nbconvert_exporter": "python",
   "pygments_lexer": "ipython3",
   "version": "3.10.10"
  }
 },
 "nbformat": 4,
 "nbformat_minor": 5
}
