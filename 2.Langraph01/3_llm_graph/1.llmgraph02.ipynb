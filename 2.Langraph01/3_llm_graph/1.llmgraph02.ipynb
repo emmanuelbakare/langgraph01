{
 "cells": [
  {
   "cell_type": "code",
   "execution_count": 1,
   "id": "558dc10b-6e52-481d-aad2-513e3590ddbd",
   "metadata": {},
   "outputs": [],
   "source": [
    "from typing import TypedDict, List\n",
    "from langchain_core.messages import HumanMessage\n",
    "from langchain_google_genai import ChatGoogleGenerativeAI\n",
    "from langgraph.graph import StateGraph, END, START\n",
    "from dotenv import load_dotenv"
   ]
  },
  {
   "cell_type": "code",
   "execution_count": 2,
   "id": "77814d03-eae6-46fd-bdea-7261b8f547dc",
   "metadata": {},
   "outputs": [],
   "source": [
    "load_dotenv()\n",
    "\n",
    "class AgentState(TypedDict):\n",
    "    message: List[HumanMessage]\n",
    "\n",
    "llm =  ChatGoogleGenerativeAI(model='gemini-2.5-flash-preview-05-20')\n"
   ]
  },
  {
   "cell_type": "code",
   "execution_count": 3,
   "id": "7d4892c6-d757-4527-b8c4-ac66d67e0f99",
   "metadata": {},
   "outputs": [],
   "source": [
    "def process_node(state:AgentState) -> AgentState:\n",
    "    \"\"\" Get an LLM message\"\"\"\n",
    "\n",
    "    result = llm.invoke(state['message'])\n",
    "    print(result.content)\n",
    "    return result\n",
    "\n",
    "graph = StateGraph(AgentState)\n",
    "PROCESS=\"Process\"\n",
    "graph.add_node(PROCESS, process_node)\n",
    "graph.add_edge(START, PROCESS)\n",
    "graph.add_edge(PROCESS, END)\n",
    "\n",
    "app = graph.compile()\n"
   ]
  },
  {
   "cell_type": "code",
   "execution_count": 4,
   "id": "fe6b0076-9c7d-4ca1-88f8-4e8743b1d26c",
   "metadata": {},
   "outputs": [
    {
     "data": {
      "image/png": "[encoded data removed]",
      "text/plain": [
       "<langgraph.graph.state.CompiledStateGraph object at 0x000001D742AE2AA0>"
      ]
     },
     "execution_count": 4,
     "metadata": {},
     "output_type": "execute_result"
    }
   ],
   "source": [
    "app"
   ]
  },
  {
   "cell_type": "code",
   "execution_count": 5,
   "id": "c9d849f6-e2f6-453d-9113-a3f2e0e2a5f6",
   "metadata": {},
   "outputs": [
    {
     "name": "stdin",
     "output_type": "stream",
     "text": [
      "Enter:  write a simple poem\n"
     ]
    },
    {
     "name": "stdout",
     "output_type": "stream",
     "text": [
      "A tiny star, a moon so bright,\n",
      "Shines in the sky, through the night.\n",
      "A gentle breeze, a leafy tree,\n",
      "Simple wonders, for you and me.\n"
     ]
    }
   ],
   "source": [
    "user_input =input(\"Enter: \")\n",
    "context= AgentState(message=[HumanMessage(content=user_input)])\n",
    "result = app.invoke(context)"
   ]
  },
  {
   "cell_type": "code",
   "execution_count": null,
   "id": "0648c618-3fdb-4289-b732-659d3ac5c1a0",
   "metadata": {},
   "outputs": [],
   "source": []
  }
 ],
 "metadata": {
  "kernelspec": {
   "display_name": "Python (AIenv)",
   "language": "python",
   "name": "aienv"
  },
  "language_info": {
   "codemirror_mode": {
    "name": "ipython",
    "version": 3
   },
   "file_extension": ".py",
   "mimetype": "text/x-python",
   "name": "python",
   "nbconvert_exporter": "python",
   "pygments_lexer": "ipython3",
   "version": "3.10.10"
  }
 },
 "nbformat": 4,
 "nbformat_minor": 5
}
