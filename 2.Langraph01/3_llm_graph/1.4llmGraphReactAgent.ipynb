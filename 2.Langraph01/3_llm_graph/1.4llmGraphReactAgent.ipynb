{
 "cells": [
  {
   "cell_type": "markdown",
   "id": "6c20a7e0-00d7-4bce-8257-eae80b5df33e",
   "metadata": {},
   "source": [
    "## Use Use Multiple tools with LLM (ReAct) in Langgraph"
   ]
  },
  {
   "cell_type": "code",
   "execution_count": 14,
   "id": "214d5071-a067-4a75-87c9-aaf0d3f02385",
   "metadata": {},
   "outputs": [
    {
     "data": {
      "text/plain": [
       "True"
      ]
     },
     "execution_count": 14,
     "metadata": {},
     "output_type": "execute_result"
    }
   ],
   "source": [
    "from typing import TypedDict, Sequence, Annotated\n",
    "from dotenv import load_dotenv\n",
    "from langchain_core.messages import BaseMessage, SystemMessage, ToolMessage\n",
    "from langchain.agents import tool, initialize_agent\n",
    "from langgraph.graph.message import add_messages\n",
    "from langgraph.graph import StateGraph, START, END\n",
    "from langgraph.prebuilt import ToolNode\n",
    "from langchain_google_genai import ChatGoogleGenerativeAI\n",
    "from langchain_openai import ChatOpenAI\n",
    "\n",
    "load_dotenv()"
   ]
  },
  {
   "cell_type": "markdown",
   "id": "b78d45f9-a0fc-4855-a9dc-10ef8a3e15a7",
   "metadata": {},
   "source": [
    "### Create multiple tools, then create LLM and bind the tool to it."
   ]
  },
  {
   "cell_type": "code",
   "execution_count": 15,
   "id": "d27e0daa-6b2f-4c31-a43f-42b969ab2ce6",
   "metadata": {},
   "outputs": [],
   "source": [
    "@tool\n",
    "def add(a:int, b:int):\n",
    "    \"\"\"This is an Addition function that adds two numbers together\"\"\"\n",
    "    return a + b \n",
    "\n",
    "@tool\n",
    "def subtract(a:int, b:int):\n",
    "    \"\"\"This is an Substration function that Substract one number from the other\"\"\"\n",
    "    return a - b \n",
    "\n",
    "@tool\n",
    "def multiply(a:int, b:int):\n",
    "    \"\"\"This is an Multiplication function that multiplies two numbers\"\"\"\n",
    "    return a * b \n",
    "\n",
    "\n",
    "\n",
    "@tool\n",
    "def divide(a:int, b:int):\n",
    "    \"\"\"This is an Division function that divides one numbers from the other\"\"\"\n",
    "    return a / b \n",
    "\n",
    "\n",
    "\n",
    "tools = [add,subtract, multiply, divide]\n",
    "\n",
    "#invoke llm and bind tools to it.\n",
    "# model = ChatOpenAI(model=\"gpt-4o\").bind_tools(tools)\n",
    "model = ChatGoogleGenerativeAI(model='gemini-2.5-flash-preview-05-20').bind_tools(tools)"
   ]
  },
  {
   "cell_type": "markdown",
   "id": "771d410b-bbff-45c9-8373-e28c7763184f",
   "metadata": {},
   "source": [
    "### Define the nodes"
   ]
  },
  {
   "cell_type": "code",
   "execution_count": 16,
   "id": "09abc7cf-4a4b-4b0a-8da6-5194d0dec316",
   "metadata": {},
   "outputs": [],
   "source": [
    "class AgentState(TypedDict):\n",
    "    #this property uses add_meessage to concatenate messages passed to 'messages' instead of overwriting them\n",
    "    messages: Annotated[Sequence[BaseMessage], add_messages]\n",
    "\n",
    "def agent_call(state:AgentState)->AgentState:\n",
    "    system_prompt = SystemMessage(content=\"You are my AI Assistant. Please answer my query to the best of your ability\")\n",
    "\n",
    "    response = model.invoke([system_prompt] + state['messages'])\n",
    "    return {\"messages\":[response]}\n",
    "\n",
    "def should_continue(state:AgentState):\n",
    "    messages = state['messages']\n",
    "    # check is there is a tool to call on the last message\n",
    "    last_message = messages[-1]\n",
    "    if last_message.tool_calls:\n",
    "        return 'continue'\n",
    "    else:\n",
    "        return 'end'"
   ]
  },
  {
   "cell_type": "markdown",
   "id": "76802b58-6923-46eb-8cf0-7d1735518157",
   "metadata": {},
   "source": [
    "### Connect the nodes and compile it"
   ]
  },
  {
   "cell_type": "code",
   "execution_count": 17,
   "id": "cf0cfc40-76c0-4323-ba7f-0e0d0b796a06",
   "metadata": {},
   "outputs": [],
   "source": [
    "AGENT=\"Our Agent\"\n",
    "TOOL = \"Tools\"\n",
    "graph= StateGraph(AgentState)\n",
    "\n",
    "graph.add_node(AGENT, agent_call)\n",
    "\n",
    "graph.add_edge(START, AGENT)\n",
    "\n",
    "tool_node = ToolNode(tools=tools)\n",
    "graph.add_node(TOOL, tool_node)\n",
    "\n",
    "graph.add_conditional_edges(\n",
    "    AGENT,\n",
    "    should_continue,\n",
    "    {\n",
    "        \"continue\": TOOL,\n",
    "        \"end\": END\n",
    "    }\n",
    ")\n",
    "\n",
    "graph.add_edge(TOOL, AGENT)\n",
    "\n",
    "app = graph.compile()"
   ]
  },
  {
   "cell_type": "code",
   "execution_count": 18,
   "id": "42a20d0e-a3a0-4fef-aedc-e551dd1d3654",
   "metadata": {},
   "outputs": [
    {
     "data": {
      "image/png": "[encoded data removed]",
      "text/plain": [
       "<langgraph.graph.state.CompiledStateGraph object at 0x000001C33FBD8F10>"
      ]
     },
     "execution_count": 18,
     "metadata": {},
     "output_type": "execute_result"
    }
   ],
   "source": [
    "app"
   ]
  },
  {
   "cell_type": "markdown",
   "id": "a5b48dc4-e8a5-407b-8982-1902429721c4",
   "metadata": {},
   "source": [
    "### Function to help with outputing the result"
   ]
  },
  {
   "cell_type": "code",
   "execution_count": 19,
   "id": "f3fd0439-3d7f-4e80-9908-8803af3711e9",
   "metadata": {},
   "outputs": [],
   "source": [
    "def print_stream(stream):\n",
    "    for s in stream:\n",
    "        message = s['messages'][-1]\n",
    "\n",
    "        if isinstance(message, tuple):\n",
    "            print(message)\n",
    "        else:\n",
    "            message.pretty_print()"
   ]
  },
  {
   "cell_type": "code",
   "execution_count": 24,
   "id": "2fdf5191-a13b-4c0b-8b24-3407b3c60845",
   "metadata": {},
   "outputs": [],
   "source": [
    "inputs = {\"messages\":[(\"Add 3 + 2 and multiply it by 10.\")]}\n",
    "# inputs = {\"messages\":[(\"user\", \"Add 3 + 4. Add 20 and 7 and write me a joke\")]}\n",
    "streams=app.stream(inputs,stream_mode=\"values\")"
   ]
  },
  {
   "cell_type": "code",
   "execution_count": 25,
   "id": "486fd840-62b1-4648-b9c3-a000310e0228",
   "metadata": {},
   "outputs": [
    {
     "name": "stdout",
     "output_type": "stream",
     "text": [
      "{'messages': [HumanMessage(content='Add 3 + 2 and multiply it by 10.', additional_kwargs={}, response_metadata={}, id='a16d091e-ac12-45b5-b131-1daecad712ce')]}\n",
      "==================================================\n",
      "\n",
      "{'messages': [HumanMessage(content='Add 3 + 2 and multiply it by 10.', additional_kwargs={}, response_metadata={}, id='a16d091e-ac12-45b5-b131-1daecad712ce'), AIMessage(content='', additional_kwargs={'function_call': {'name': 'add', 'arguments': '{\"a\": 3.0, \"b\": 2.0}'}}, response_metadata={'prompt_feedback': {'block_reason': 0, 'safety_ratings': []}, 'finish_reason': 'STOP', 'model_name': 'models/gemini-2.5-flash-preview-05-20', 'safety_ratings': []}, id='run--b7dc6ddf-60d4-4df3-8de9-2fb84ccc0963-0', tool_calls=[{'name': 'add', 'args': {'a': 3.0, 'b': 2.0}, 'id': '0e625a0c-52b1-4180-aa51-5706bfa7fa83', 'type': 'tool_call'}], usage_metadata={'input_tokens': 240, 'output_tokens': 18, 'total_tokens': 334, 'input_token_details': {'cache_read': 0}, 'output_token_details': {'reasoning': 76}})]}\n",
      "==================================================\n",
      "\n",
      "{'messages': [HumanMessage(content='Add 3 + 2 and multiply it by 10.', additional_kwargs={}, response_metadata={}, id='a16d091e-ac12-45b5-b131-1daecad712ce'), AIMessage(content='', additional_kwargs={'function_call': {'name': 'add', 'arguments': '{\"a\": 3.0, \"b\": 2.0}'}}, response_metadata={'prompt_feedback': {'block_reason': 0, 'safety_ratings': []}, 'finish_reason': 'STOP', 'model_name': 'models/gemini-2.5-flash-preview-05-20', 'safety_ratings': []}, id='run--b7dc6ddf-60d4-4df3-8de9-2fb84ccc0963-0', tool_calls=[{'name': 'add', 'args': {'a': 3.0, 'b': 2.0}, 'id': '0e625a0c-52b1-4180-aa51-5706bfa7fa83', 'type': 'tool_call'}], usage_metadata={'input_tokens': 240, 'output_tokens': 18, 'total_tokens': 334, 'input_token_details': {'cache_read': 0}, 'output_token_details': {'reasoning': 76}}), ToolMessage(content='5', name='add', id='98b9bafa-a37a-4621-b7b7-63b02f706a98', tool_call_id='0e625a0c-52b1-4180-aa51-5706bfa7fa83')]}\n",
      "==================================================\n",
      "\n",
      "{'messages': [HumanMessage(content='Add 3 + 2 and multiply it by 10.', additional_kwargs={}, response_metadata={}, id='a16d091e-ac12-45b5-b131-1daecad712ce'), AIMessage(content='', additional_kwargs={'function_call': {'name': 'add', 'arguments': '{\"a\": 3.0, \"b\": 2.0}'}}, response_metadata={'prompt_feedback': {'block_reason': 0, 'safety_ratings': []}, 'finish_reason': 'STOP', 'model_name': 'models/gemini-2.5-flash-preview-05-20', 'safety_ratings': []}, id='run--b7dc6ddf-60d4-4df3-8de9-2fb84ccc0963-0', tool_calls=[{'name': 'add', 'args': {'a': 3.0, 'b': 2.0}, 'id': '0e625a0c-52b1-4180-aa51-5706bfa7fa83', 'type': 'tool_call'}], usage_metadata={'input_tokens': 240, 'output_tokens': 18, 'total_tokens': 334, 'input_token_details': {'cache_read': 0}, 'output_token_details': {'reasoning': 76}}), ToolMessage(content='5', name='add', id='98b9bafa-a37a-4621-b7b7-63b02f706a98', tool_call_id='0e625a0c-52b1-4180-aa51-5706bfa7fa83'), AIMessage(content='', additional_kwargs={'function_call': {'name': 'multiply', 'arguments': '{\"a\": 5.0, \"b\": 10.0}'}}, response_metadata={'prompt_feedback': {'block_reason': 0, 'safety_ratings': []}, 'finish_reason': 'STOP', 'model_name': 'models/gemini-2.5-flash-preview-05-20', 'safety_ratings': []}, id='run--5b6a3040-d15f-44e7-a967-f72edee41470-0', tool_calls=[{'name': 'multiply', 'args': {'a': 5.0, 'b': 10.0}, 'id': 'f45a095b-08c8-4273-ac2d-356f49744840', 'type': 'tool_call'}], usage_metadata={'input_tokens': 271, 'output_tokens': 19, 'total_tokens': 377, 'input_token_details': {'cache_read': 0}, 'output_token_details': {'reasoning': 87}})]}\n",
      "==================================================\n",
      "\n",
      "{'messages': [HumanMessage(content='Add 3 + 2 and multiply it by 10.', additional_kwargs={}, response_metadata={}, id='a16d091e-ac12-45b5-b131-1daecad712ce'), AIMessage(content='', additional_kwargs={'function_call': {'name': 'add', 'arguments': '{\"a\": 3.0, \"b\": 2.0}'}}, response_metadata={'prompt_feedback': {'block_reason': 0, 'safety_ratings': []}, 'finish_reason': 'STOP', 'model_name': 'models/gemini-2.5-flash-preview-05-20', 'safety_ratings': []}, id='run--b7dc6ddf-60d4-4df3-8de9-2fb84ccc0963-0', tool_calls=[{'name': 'add', 'args': {'a': 3.0, 'b': 2.0}, 'id': '0e625a0c-52b1-4180-aa51-5706bfa7fa83', 'type': 'tool_call'}], usage_metadata={'input_tokens': 240, 'output_tokens': 18, 'total_tokens': 334, 'input_token_details': {'cache_read': 0}, 'output_token_details': {'reasoning': 76}}), ToolMessage(content='5', name='add', id='98b9bafa-a37a-4621-b7b7-63b02f706a98', tool_call_id='0e625a0c-52b1-4180-aa51-5706bfa7fa83'), AIMessage(content='', additional_kwargs={'function_call': {'name': 'multiply', 'arguments': '{\"a\": 5.0, \"b\": 10.0}'}}, response_metadata={'prompt_feedback': {'block_reason': 0, 'safety_ratings': []}, 'finish_reason': 'STOP', 'model_name': 'models/gemini-2.5-flash-preview-05-20', 'safety_ratings': []}, id='run--5b6a3040-d15f-44e7-a967-f72edee41470-0', tool_calls=[{'name': 'multiply', 'args': {'a': 5.0, 'b': 10.0}, 'id': 'f45a095b-08c8-4273-ac2d-356f49744840', 'type': 'tool_call'}], usage_metadata={'input_tokens': 271, 'output_tokens': 19, 'total_tokens': 377, 'input_token_details': {'cache_read': 0}, 'output_token_details': {'reasoning': 87}}), ToolMessage(content='50', name='multiply', id='997cb94b-9e26-478a-9c7c-0881757fffa2', tool_call_id='f45a095b-08c8-4273-ac2d-356f49744840')]}\n",
      "==================================================\n",
      "\n",
      "{'messages': [HumanMessage(content='Add 3 + 2 and multiply it by 10.', additional_kwargs={}, response_metadata={}, id='a16d091e-ac12-45b5-b131-1daecad712ce'), AIMessage(content='', additional_kwargs={'function_call': {'name': 'add', 'arguments': '{\"a\": 3.0, \"b\": 2.0}'}}, response_metadata={'prompt_feedback': {'block_reason': 0, 'safety_ratings': []}, 'finish_reason': 'STOP', 'model_name': 'models/gemini-2.5-flash-preview-05-20', 'safety_ratings': []}, id='run--b7dc6ddf-60d4-4df3-8de9-2fb84ccc0963-0', tool_calls=[{'name': 'add', 'args': {'a': 3.0, 'b': 2.0}, 'id': '0e625a0c-52b1-4180-aa51-5706bfa7fa83', 'type': 'tool_call'}], usage_metadata={'input_tokens': 240, 'output_tokens': 18, 'total_tokens': 334, 'input_token_details': {'cache_read': 0}, 'output_token_details': {'reasoning': 76}}), ToolMessage(content='5', name='add', id='98b9bafa-a37a-4621-b7b7-63b02f706a98', tool_call_id='0e625a0c-52b1-4180-aa51-5706bfa7fa83'), AIMessage(content='', additional_kwargs={'function_call': {'name': 'multiply', 'arguments': '{\"a\": 5.0, \"b\": 10.0}'}}, response_metadata={'prompt_feedback': {'block_reason': 0, 'safety_ratings': []}, 'finish_reason': 'STOP', 'model_name': 'models/gemini-2.5-flash-preview-05-20', 'safety_ratings': []}, id='run--5b6a3040-d15f-44e7-a967-f72edee41470-0', tool_calls=[{'name': 'multiply', 'args': {'a': 5.0, 'b': 10.0}, 'id': 'f45a095b-08c8-4273-ac2d-356f49744840', 'type': 'tool_call'}], usage_metadata={'input_tokens': 271, 'output_tokens': 19, 'total_tokens': 377, 'input_token_details': {'cache_read': 0}, 'output_token_details': {'reasoning': 87}}), ToolMessage(content='50', name='multiply', id='997cb94b-9e26-478a-9c7c-0881757fffa2', tool_call_id='f45a095b-08c8-4273-ac2d-356f49744840'), AIMessage(content='The answer is 50.', additional_kwargs={}, response_metadata={'prompt_feedback': {'block_reason': 0, 'safety_ratings': []}, 'finish_reason': 'STOP', 'model_name': 'models/gemini-2.5-flash-preview-05-20', 'safety_ratings': []}, id='run--c3c600ed-a03c-493d-b72b-9479e3b16127-0', usage_metadata={'input_tokens': 304, 'output_tokens': 7, 'total_tokens': 409, 'input_token_details': {'cache_read': 0}, 'output_token_details': {'reasoning': 98}})]}\n",
      "==================================================\n",
      "\n"
     ]
    }
   ],
   "source": [
    "for stream in streams:\n",
    "    print(stream)\n",
    "    print(\"=\"*50)\n",
    "    print()"
   ]
  },
  {
   "cell_type": "markdown",
   "id": "0467b52e-0801-49fe-985c-7210ade3abe6",
   "metadata": {},
   "source": [
    "### Input the message and generate the output"
   ]
  },
  {
   "cell_type": "code",
   "execution_count": 26,
   "id": "87353240-b86a-42ab-95d9-4b1bc9fbf2e8",
   "metadata": {},
   "outputs": [
    {
     "name": "stdout",
     "output_type": "stream",
     "text": [
      "================================\u001b[1m Human Message \u001b[0m=================================\n",
      "\n",
      "Add 3 + 4. Add 20 and 7 and write me a joke\n",
      "==================================\u001b[1m Ai Message \u001b[0m==================================\n",
      "Tool Calls:\n",
      "  add (e4175dd3-eec0-459e-a359-ba5577dfe69b)\n",
      " Call ID: e4175dd3-eec0-459e-a359-ba5577dfe69b\n",
      "  Args:\n",
      "    a: 3.0\n",
      "    b: 4.0\n",
      "=================================\u001b[1m Tool Message \u001b[0m=================================\n",
      "Name: add\n",
      "\n",
      "7\n",
      "==================================\u001b[1m Ai Message \u001b[0m==================================\n",
      "Tool Calls:\n",
      "  add (0d99f1d1-1e4a-45ef-8de4-c66aa4683e95)\n",
      " Call ID: 0d99f1d1-1e4a-45ef-8de4-c66aa4683e95\n",
      "  Args:\n",
      "    a: 20.0\n",
      "    b: 7.0\n",
      "=================================\u001b[1m Tool Message \u001b[0m=================================\n",
      "Name: add\n",
      "\n",
      "27\n",
      "==================================\u001b[1m Ai Message \u001b[0m==================================\n",
      "\n",
      "The sum of 3 and 4 is 7. The sum of 20 and 7 is 27.\n",
      "\n",
      "Why don't scientists trust atoms?\n",
      "Because they make up everything!\n"
     ]
    }
   ],
   "source": [
    "inputs = {\"messages\":[(\"user\", \"Add 3 + 4. Add 20 and 7 and write me a joke\")]}\n",
    "print_stream(app.stream(inputs, stream_mode=\"values\"))"
   ]
  },
  {
   "cell_type": "markdown",
   "id": "3c31cdc7-278b-4eea-8042-2a0f88c9f371",
   "metadata": {},
   "source": [
    "### Create anoter output to use multiple tools"
   ]
  },
  {
   "cell_type": "code",
   "execution_count": 18,
   "id": "fa951f41-f6c6-4a72-84c3-ac2f68e6065b",
   "metadata": {},
   "outputs": [
    {
     "name": "stdout",
     "output_type": "stream",
     "text": [
      "================================\u001b[1m Human Message \u001b[0m=================================\n",
      "\n",
      "Add 3 + 4 then multiply with my 10 then divide it by 2\n",
      "==================================\u001b[1m Ai Message \u001b[0m==================================\n",
      "Tool Calls:\n",
      "  add (call_9TC1rSxd5CSArwtFoXvUXr3V)\n",
      " Call ID: call_9TC1rSxd5CSArwtFoXvUXr3V\n",
      "  Args:\n",
      "    a: 3\n",
      "    b: 4\n",
      "  multiply (call_6HNV2IZtz6NL63LlNkKix4HH)\n",
      " Call ID: call_6HNV2IZtz6NL63LlNkKix4HH\n",
      "  Args:\n",
      "    a: 7\n",
      "    b: 10\n",
      "=================================\u001b[1m Tool Message \u001b[0m=================================\n",
      "Name: multiply\n",
      "\n",
      "70\n",
      "==================================\u001b[1m Ai Message \u001b[0m==================================\n",
      "Tool Calls:\n",
      "  divide (call_jJ3DlZde67G6T4DwYzgov4aa)\n",
      " Call ID: call_jJ3DlZde67G6T4DwYzgov4aa\n",
      "  Args:\n",
      "    a: 70\n",
      "    b: 2\n",
      "=================================\u001b[1m Tool Message \u001b[0m=================================\n",
      "Name: divide\n",
      "\n",
      "35.0\n",
      "==================================\u001b[1m Ai Message \u001b[0m==================================\n",
      "\n",
      "The result of adding 3 + 4, multiplying the result by 10, and then dividing by 2 is 35.\n"
     ]
    }
   ],
   "source": [
    "inputs = {\"messages\":[(\"user\", \"Add 3 + 4 then multiply with my 10 then divide it by 2\")]}\n",
    "print_stream(app.stream(inputs, stream_mode=\"values\"))"
   ]
  },
  {
   "cell_type": "code",
   "execution_count": null,
   "id": "29c748b0-2a9b-4127-9322-469c95f76d16",
   "metadata": {},
   "outputs": [],
   "source": []
  }
 ],
 "metadata": {
  "kernelspec": {
   "display_name": "Python (AIenv)",
   "language": "python",
   "name": "aienv"
  },
  "language_info": {
   "codemirror_mode": {
    "name": "ipython",
    "version": 3
   },
   "file_extension": ".py",
   "mimetype": "text/x-python",
   "name": "python",
   "nbconvert_exporter": "python",
   "pygments_lexer": "ipython3",
   "version": "3.10.10"
  }
 },
 "nbformat": 4,
 "nbformat_minor": 5
}
